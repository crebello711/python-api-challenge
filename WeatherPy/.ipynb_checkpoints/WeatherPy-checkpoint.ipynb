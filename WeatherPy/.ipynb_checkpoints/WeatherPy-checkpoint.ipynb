{
 "cells": [
  {
   "cell_type": "markdown",
   "metadata": {},
   "source": [
    "# WeatherPy\n",
    "----\n",
    "\n",
    "#### Note\n",
    "* Instructions have been included for each segment. You do not have to follow them exactly, but they are included to help you think through the steps."
   ]
  },
  {
   "cell_type": "code",
   "execution_count": 315,
   "metadata": {
    "scrolled": true
   },
   "outputs": [],
   "source": [
    "# Dependencies and Setup\n",
    "import matplotlib.pyplot as plt\n",
    "import pandas as pd\n",
    "import numpy as np\n",
    "import requests\n",
    "import time\n",
    "from scipy.stats import linregress\n",
    "from pprint import pprint\n",
    "from IPython.display import display\n",
    "from datetime import datetime\n",
    "\n",
    "# Import API key\n",
    "from api_keys import weather_api_key\n",
    "\n",
    "# Incorporated citipy to determine city based on latitude and longitude\n",
    "from citipy import citipy\n",
    "\n",
    "# Output File (CSV)\n",
    "output_data_file = \"output_data/cities.csv\"\n",
    "\n",
    "# Range of latitudes and longitudes\n",
    "lat_range = (-90, 90)\n",
    "lng_range = (-180, 180)"
   ]
  },
  {
   "cell_type": "markdown",
   "metadata": {},
   "source": [
    "## Generate Cities List"
   ]
  },
  {
   "cell_type": "code",
   "execution_count": 316,
   "metadata": {},
   "outputs": [
    {
     "data": {
      "text/plain": [
       "630"
      ]
     },
     "execution_count": 316,
     "metadata": {},
     "output_type": "execute_result"
    }
   ],
   "source": [
    "# List for holding lat_lngs and cities\n",
    "lat_lngs = []\n",
    "cities = []\n",
    "\n",
    "# Create a set of random lat and lng combinations\n",
    "lats = np.random.uniform(lat_range[0], lat_range[1], size=1500)\n",
    "lngs = np.random.uniform(lng_range[0], lng_range[1], size=1500)\n",
    "\n",
    "lat_lngs = zip(lats, lngs)\n",
    "#print(list(zip(lats, lngs)))\n",
    "\n",
    "\n",
    "# Identify nearest city for each lat, lng combination\n",
    "for lat_lng in lat_lngs:\n",
    "    city = citipy.nearest_city(lat_lng[0], lat_lng[1]).city_name\n",
    "    \n",
    "    # If the city is unique, then add it to a our cities list\n",
    "    if city not in cities:\n",
    "        cities.append(city)\n",
    "#print(\"list of city : \",cities)\n",
    "\n",
    "# Print the city count to confirm sufficient count\n",
    "len(cities)"
   ]
  },
  {
   "cell_type": "markdown",
   "metadata": {},
   "source": [
    "### Perform API Calls\n",
    "* Perform a weather check on each city using a series of successive API calls.\n",
    "* Include a print log of each city as it'sbeing processed (with the city number and city name).\n"
   ]
  },
  {
   "cell_type": "code",
   "execution_count": 317,
   "metadata": {
    "scrolled": true
   },
   "outputs": [
    {
     "name": "stdout",
     "output_type": "stream",
     "text": [
      "<Response [400]>\n",
      "Beginning Data Retrieval\n",
      "-----------------------------\n",
      "Processing Record 1 of Set 1 | chuy\n",
      "Processing Record 2 of Set 1 | new norfolk\n",
      "Processing Record 3 of Set 1 | barrow\n",
      "Processing Record 4 of Set 1 | almenevo\n",
      "City not found. Skipping...\n",
      "Processing Record 5 of Set 1 | saint-philippe\n",
      "Processing Record 6 of Set 1 | chifeng\n",
      "Processing Record 7 of Set 1 | guerrero negro\n",
      "Processing Record 8 of Set 1 | barentsburg\n",
      "City not found. Skipping...\n",
      "Processing Record 9 of Set 1 | punta arenas\n",
      "Processing Record 10 of Set 1 | mahebourg\n",
      "Processing Record 11 of Set 1 | bukachacha\n",
      "Processing Record 12 of Set 1 | kahului\n",
      "Processing Record 13 of Set 1 | luanda\n",
      "Processing Record 14 of Set 1 | cape town\n",
      "Processing Record 15 of Set 1 | mataura\n",
      "Processing Record 16 of Set 1 | butaritari\n",
      "Processing Record 17 of Set 1 | tasiilaq\n",
      "Processing Record 18 of Set 1 | fuquay-varina\n",
      "Processing Record 19 of Set 1 | busselton\n",
      "Processing Record 20 of Set 1 | sentyabrskiy\n",
      "City not found. Skipping...\n",
      "Processing Record 21 of Set 1 | albany\n",
      "Processing Record 22 of Set 1 | kazalinsk\n",
      "City not found. Skipping...\n",
      "Processing Record 23 of Set 1 | illoqqortoormiut\n",
      "City not found. Skipping...\n",
      "Processing Record 24 of Set 1 | neiafu\n",
      "Processing Record 25 of Set 1 | umzimvubu\n",
      "City not found. Skipping...\n",
      "Processing Record 26 of Set 1 | rafraf\n",
      "Processing Record 27 of Set 1 | dikson\n",
      "Processing Record 28 of Set 1 | ushuaia\n",
      "Processing Record 29 of Set 1 | georgetown\n",
      "Processing Record 30 of Set 1 | saldanha\n",
      "Processing Record 31 of Set 1 | khatanga\n",
      "Processing Record 32 of Set 1 | dingle\n",
      "Processing Record 33 of Set 1 | avera\n",
      "Processing Record 34 of Set 1 | moron\n",
      "Processing Record 35 of Set 1 | faanui\n",
      "Processing Record 36 of Set 1 | ust-kamchatsk\n",
      "City not found. Skipping...\n",
      "Processing Record 37 of Set 1 | port-gentil\n",
      "Processing Record 38 of Set 1 | vaini\n",
      "Processing Record 39 of Set 1 | hasaki\n",
      "Processing Record 40 of Set 1 | port macquarie\n",
      "Processing Record 41 of Set 1 | bambous virieux\n",
      "Processing Record 42 of Set 1 | kloulklubed\n",
      "Processing Record 43 of Set 1 | mar del plata\n",
      "Processing Record 44 of Set 1 | rikitea\n",
      "Processing Record 45 of Set 1 | rovaniemi\n",
      "Processing Record 46 of Set 1 | san rafael del sur\n",
      "Processing Record 47 of Set 1 | jamestown\n",
      "Processing Record 48 of Set 1 | pallasovka\n",
      "Processing Record 49 of Set 1 | samusu\n",
      "City not found. Skipping...\n",
      "Processing Record 50 of Set 1 | uvalde\n",
      "Processing Record 1 of Set 2 | atuona\n",
      "Processing Record 2 of Set 2 | carnarvon\n",
      "Processing Record 3 of Set 2 | pershotravneve\n",
      "Processing Record 4 of Set 2 | severo-kurilsk\n",
      "Processing Record 5 of Set 2 | seymchan\n",
      "Processing Record 6 of Set 2 | hobart\n",
      "Processing Record 7 of Set 2 | shizuishan\n",
      "Processing Record 8 of Set 2 | sobolevo\n",
      "Processing Record 9 of Set 2 | kavieng\n",
      "Processing Record 10 of Set 2 | portland\n",
      "Processing Record 11 of Set 2 | imeni poliny osipenko\n",
      "Processing Record 12 of Set 2 | anchorage\n",
      "Processing Record 13 of Set 2 | hermanus\n",
      "Processing Record 14 of Set 2 | kaitangata\n",
      "Processing Record 15 of Set 2 | nam tha\n",
      "City not found. Skipping...\n",
      "Processing Record 16 of Set 2 | kunzelsau\n",
      "Processing Record 17 of Set 2 | ajdabiya\n",
      "Processing Record 18 of Set 2 | hilo\n",
      "Processing Record 19 of Set 2 | mandalgovi\n",
      "Processing Record 20 of Set 2 | airai\n",
      "Processing Record 21 of Set 2 | batagay\n",
      "Processing Record 22 of Set 2 | rawannawi\n",
      "City not found. Skipping...\n",
      "Processing Record 23 of Set 2 | lorengau\n",
      "Processing Record 24 of Set 2 | iskateley\n",
      "Processing Record 25 of Set 2 | bonavista\n",
      "Processing Record 26 of Set 2 | pemangkat\n",
      "Processing Record 27 of Set 2 | hambantota\n",
      "Processing Record 28 of Set 2 | rupert\n",
      "Processing Record 29 of Set 2 | pangoa\n",
      "Processing Record 30 of Set 2 | codrington\n",
      "Processing Record 31 of Set 2 | lebu\n",
      "Processing Record 32 of Set 2 | tuktoyaktuk\n",
      "Processing Record 33 of Set 2 | casambalangan\n",
      "Processing Record 34 of Set 2 | victor harbor\n",
      "Processing Record 35 of Set 2 | alegrete\n",
      "Processing Record 36 of Set 2 | chokurdakh\n",
      "Processing Record 37 of Set 2 | bethel\n",
      "Processing Record 38 of Set 2 | someshwar\n",
      "Processing Record 39 of Set 2 | taolanaro\n",
      "City not found. Skipping...\n",
      "Processing Record 40 of Set 2 | cessnock\n",
      "Processing Record 41 of Set 2 | lompoc\n",
      "Processing Record 42 of Set 2 | milingimbi\n",
      "City not found. Skipping...\n",
      "Processing Record 43 of Set 2 | yerofey pavlovich\n",
      "Processing Record 44 of Set 2 | tiksi\n",
      "Processing Record 45 of Set 2 | ngawen\n",
      "Processing Record 46 of Set 2 | ozinki\n",
      "Processing Record 47 of Set 2 | tabuk\n",
      "Processing Record 48 of Set 2 | batagay-alyta\n",
      "Processing Record 49 of Set 2 | katsuura\n",
      "Processing Record 50 of Set 2 | norman wells\n",
      "Processing Record 1 of Set 3 | bluff\n",
      "Processing Record 2 of Set 3 | thompson\n",
      "Processing Record 3 of Set 3 | la ronge\n",
      "Processing Record 4 of Set 3 | mankono\n",
      "Processing Record 5 of Set 3 | mildura\n",
      "Processing Record 6 of Set 3 | tiznit\n",
      "Processing Record 7 of Set 3 | bandarbeyla\n",
      "Processing Record 8 of Set 3 | puerto escondido\n",
      "Processing Record 9 of Set 3 | belyy yar\n",
      "Processing Record 10 of Set 3 | puerto ayora\n",
      "Processing Record 11 of Set 3 | ulladulla\n",
      "Processing Record 12 of Set 3 | palabuhanratu\n",
      "City not found. Skipping...\n",
      "Processing Record 13 of Set 3 | watsa\n",
      "Processing Record 14 of Set 3 | atherton\n",
      "Processing Record 15 of Set 3 | qaanaaq\n",
      "Processing Record 16 of Set 3 | nova granada\n",
      "Processing Record 17 of Set 3 | port alfred\n",
      "Processing Record 18 of Set 3 | nazarovo\n",
      "Processing Record 19 of Set 3 | tsihombe\n",
      "City not found. Skipping...\n",
      "Processing Record 20 of Set 3 | bacuit\n",
      "City not found. Skipping...\n",
      "Processing Record 21 of Set 3 | edgewood\n",
      "Processing Record 22 of Set 3 | kwekwe\n",
      "Processing Record 23 of Set 3 | srednekolymsk\n",
      "Processing Record 24 of Set 3 | taoudenni\n",
      "Processing Record 25 of Set 3 | san giustino\n",
      "Processing Record 26 of Set 3 | galgani\n",
      "City not found. Skipping...\n",
      "Processing Record 27 of Set 3 | kirovskiy\n",
      "Processing Record 28 of Set 3 | sao filipe\n",
      "Processing Record 29 of Set 3 | ketchikan\n",
      "Processing Record 30 of Set 3 | te anau\n",
      "Processing Record 31 of Set 3 | camapua\n",
      "Processing Record 32 of Set 3 | tlahualilo\n",
      "City not found. Skipping...\n",
      "Processing Record 33 of Set 3 | ribeira grande\n",
      "Processing Record 34 of Set 3 | sitka\n",
      "Processing Record 35 of Set 3 | belmonte\n",
      "Processing Record 36 of Set 3 | port elizabeth\n",
      "Processing Record 37 of Set 3 | provideniya\n",
      "Processing Record 38 of Set 3 | kawalu\n",
      "Processing Record 39 of Set 3 | east london\n",
      "Processing Record 40 of Set 3 | kapaa\n",
      "Processing Record 41 of Set 3 | hami\n",
      "Processing Record 42 of Set 3 | amderma\n",
      "City not found. Skipping...\n",
      "Processing Record 43 of Set 3 | zhigansk\n",
      "Processing Record 44 of Set 3 | blagoyevo\n",
      "Processing Record 45 of Set 3 | balkanabat\n",
      "Processing Record 46 of Set 3 | husavik\n",
      "Processing Record 47 of Set 3 | paamiut\n",
      "Processing Record 48 of Set 3 | xai-xai\n",
      "Processing Record 49 of Set 3 | kenai\n",
      "Processing Record 50 of Set 3 | lanzhou\n",
      "Processing Record 1 of Set 4 | westport\n",
      "Processing Record 2 of Set 4 | vostok\n",
      "Processing Record 3 of Set 4 | verkhnevilyuysk\n",
      "Processing Record 4 of Set 4 | lolua\n",
      "City not found. Skipping...\n",
      "Processing Record 5 of Set 4 | rocha\n",
      "Processing Record 6 of Set 4 | poum\n",
      "Processing Record 7 of Set 4 | bid\n",
      "City not found. Skipping...\n",
      "Processing Record 8 of Set 4 | ilulissat\n",
      "Processing Record 9 of Set 4 | nikolskoye\n",
      "Processing Record 10 of Set 4 | primore\n",
      "City not found. Skipping...\n",
      "Processing Record 11 of Set 4 | ahuimanu\n",
      "Processing Record 12 of Set 4 | dzilam gonzalez\n",
      "Processing Record 13 of Set 4 | toora-khem\n",
      "Processing Record 14 of Set 4 | balikpapan\n",
      "Processing Record 15 of Set 4 | dunedin\n",
      "Processing Record 16 of Set 4 | tura\n",
      "Processing Record 17 of Set 4 | palaikastron\n",
      "Processing Record 18 of Set 4 | aswan\n",
      "Processing Record 19 of Set 4 | esperance\n",
      "Processing Record 20 of Set 4 | soc trang\n",
      "Processing Record 21 of Set 4 | kargat\n",
      "Processing Record 22 of Set 4 | attawapiskat\n",
      "City not found. Skipping...\n",
      "Processing Record 23 of Set 4 | chicama\n",
      "Processing Record 24 of Set 4 | mareeba\n",
      "Processing Record 25 of Set 4 | havoysund\n",
      "Processing Record 26 of Set 4 | chara\n",
      "Processing Record 27 of Set 4 | maykain\n",
      "City not found. Skipping...\n",
      "Processing Record 28 of Set 4 | kavaratti\n",
      "Processing Record 29 of Set 4 | teneguiban\n",
      "City not found. Skipping...\n",
      "Processing Record 30 of Set 4 | innisfail\n"
     ]
    },
    {
     "name": "stdout",
     "output_type": "stream",
     "text": [
      "Processing Record 31 of Set 4 | shambu\n",
      "Processing Record 32 of Set 4 | ponta do sol\n",
      "Processing Record 33 of Set 4 | lisala\n",
      "Processing Record 34 of Set 4 | nuuk\n",
      "Processing Record 35 of Set 4 | ostrovnoy\n",
      "Processing Record 36 of Set 4 | vitim\n",
      "Processing Record 37 of Set 4 | ancud\n",
      "Processing Record 38 of Set 4 | okha\n",
      "Processing Record 39 of Set 4 | iqaluit\n",
      "Processing Record 40 of Set 4 | sarti\n",
      "Processing Record 41 of Set 4 | saposoa\n",
      "Processing Record 42 of Set 4 | tarudant\n",
      "City not found. Skipping...\n",
      "Processing Record 43 of Set 4 | saskylakh\n",
      "Processing Record 44 of Set 4 | thinadhoo\n",
      "Processing Record 45 of Set 4 | aklavik\n",
      "Processing Record 46 of Set 4 | sortland\n",
      "Processing Record 47 of Set 4 | ahipara\n",
      "Processing Record 48 of Set 4 | coquimbo\n",
      "Processing Record 49 of Set 4 | constitucion\n",
      "Processing Record 50 of Set 4 | kodiak\n",
      "Processing Record 1 of Set 5 | itupiranga\n",
      "Processing Record 2 of Set 5 | ossora\n",
      "Processing Record 3 of Set 5 | arraial do cabo\n",
      "Processing Record 4 of Set 5 | high level\n",
      "Processing Record 5 of Set 5 | clyde river\n",
      "Processing Record 6 of Set 5 | mpraeso\n",
      "Processing Record 7 of Set 5 | okhotsk\n",
      "Processing Record 8 of Set 5 | marv dasht\n",
      "City not found. Skipping...\n",
      "Processing Record 9 of Set 5 | bredasdorp\n",
      "Processing Record 10 of Set 5 | kaduqli\n",
      "Processing Record 11 of Set 5 | gorbanesti\n",
      "Processing Record 12 of Set 5 | vila franca do campo\n",
      "Processing Record 13 of Set 5 | suntar\n",
      "Processing Record 14 of Set 5 | acarau\n",
      "Processing Record 15 of Set 5 | castro\n",
      "Processing Record 16 of Set 5 | bahia blanca\n",
      "Processing Record 17 of Set 5 | port augusta\n",
      "Processing Record 18 of Set 5 | durango\n",
      "Processing Record 19 of Set 5 | jijiang\n",
      "Processing Record 20 of Set 5 | mayya\n",
      "Processing Record 21 of Set 5 | yumen\n",
      "Processing Record 22 of Set 5 | olafsvik\n",
      "Processing Record 23 of Set 5 | avarua\n",
      "Processing Record 24 of Set 5 | aquiraz\n",
      "Processing Record 25 of Set 5 | godda\n",
      "Processing Record 26 of Set 5 | yellowknife\n",
      "Processing Record 27 of Set 5 | saleaula\n",
      "City not found. Skipping...\n",
      "Processing Record 28 of Set 5 | mongo\n",
      "Processing Record 29 of Set 5 | tadpatri\n",
      "Processing Record 30 of Set 5 | marsh harbour\n",
      "Processing Record 31 of Set 5 | erenhot\n",
      "Processing Record 32 of Set 5 | chulumani\n",
      "Processing Record 33 of Set 5 | belushya guba\n",
      "City not found. Skipping...\n",
      "Processing Record 34 of Set 5 | pevek\n",
      "Processing Record 35 of Set 5 | saint george\n",
      "Processing Record 36 of Set 5 | vieques\n",
      "Processing Record 37 of Set 5 | bilma\n",
      "Processing Record 38 of Set 5 | mount gambier\n",
      "Processing Record 39 of Set 5 | pisco\n",
      "Processing Record 40 of Set 5 | vicuna\n",
      "Processing Record 41 of Set 5 | hithadhoo\n",
      "Processing Record 42 of Set 5 | lagoa\n",
      "Processing Record 43 of Set 5 | soyo\n",
      "Processing Record 44 of Set 5 | tsabong\n",
      "Processing Record 45 of Set 5 | bang saphan\n",
      "Processing Record 46 of Set 5 | sao geraldo do araguaia\n",
      "Processing Record 47 of Set 5 | ajra\n",
      "Processing Record 48 of Set 5 | recas\n",
      "Processing Record 49 of Set 5 | manzil salim\n",
      "Processing Record 50 of Set 5 | saint-augustin\n",
      "Processing Record 1 of Set 6 | klaksvik\n",
      "Processing Record 2 of Set 6 | yerbogachen\n",
      "Processing Record 3 of Set 6 | bridlington\n",
      "Processing Record 4 of Set 6 | palmares do sul\n",
      "Processing Record 5 of Set 6 | bengkulu\n",
      "Processing Record 6 of Set 6 | acajutla\n",
      "Processing Record 7 of Set 6 | cotonou\n",
      "Processing Record 8 of Set 6 | talnakh\n",
      "Processing Record 9 of Set 6 | acurenam\n",
      "Processing Record 10 of Set 6 | abnub\n",
      "Processing Record 11 of Set 6 | nokaneng\n",
      "Processing Record 12 of Set 6 | bellefontaine\n",
      "Processing Record 13 of Set 6 | hohhot\n",
      "Processing Record 14 of Set 6 | anshun\n",
      "Processing Record 15 of Set 6 | soto la marina\n",
      "Processing Record 16 of Set 6 | healesville\n",
      "Processing Record 17 of Set 6 | moindou\n",
      "Processing Record 18 of Set 6 | caravelas\n",
      "Processing Record 19 of Set 6 | mitsamiouli\n",
      "Processing Record 20 of Set 6 | buta\n",
      "Processing Record 21 of Set 6 | marawi\n",
      "Processing Record 22 of Set 6 | krasnyy yar\n",
      "Processing Record 23 of Set 6 | nizhniy kuranakh\n",
      "Processing Record 24 of Set 6 | alofi\n",
      "Processing Record 25 of Set 6 | bosaso\n",
      "Processing Record 26 of Set 6 | nizhneyansk\n",
      "City not found. Skipping...\n",
      "Processing Record 27 of Set 6 | deoband\n",
      "Processing Record 28 of Set 6 | grand centre\n",
      "City not found. Skipping...\n",
      "Processing Record 29 of Set 6 | iguape\n",
      "Processing Record 30 of Set 6 | puerto gaitan\n",
      "Processing Record 31 of Set 6 | manaure\n",
      "Processing Record 32 of Set 6 | san antonio\n",
      "Processing Record 33 of Set 6 | angoche\n",
      "Processing Record 34 of Set 6 | akyab\n",
      "Processing Record 35 of Set 6 | brae\n",
      "Processing Record 36 of Set 6 | wulanhaote\n",
      "City not found. Skipping...\n",
      "Processing Record 37 of Set 6 | kamenka\n",
      "Processing Record 38 of Set 6 | rawson\n",
      "Processing Record 39 of Set 6 | gorno-chuyskiy\n",
      "City not found. Skipping...\n",
      "Processing Record 40 of Set 6 | fortuna\n",
      "Processing Record 41 of Set 6 | banda aceh\n",
      "Processing Record 42 of Set 6 | bouca\n",
      "Processing Record 43 of Set 6 | torbay\n",
      "Processing Record 44 of Set 6 | vao\n",
      "Processing Record 45 of Set 6 | krasnoselkup\n",
      "Processing Record 46 of Set 6 | kyzyl-suu\n",
      "Processing Record 47 of Set 6 | turaiyur\n",
      "Processing Record 48 of Set 6 | korla\n",
      "Processing Record 49 of Set 6 | touros\n",
      "Processing Record 50 of Set 6 | marcona\n",
      "City not found. Skipping...\n",
      "Processing Record 1 of Set 7 | cabo san lucas\n",
      "Processing Record 2 of Set 7 | luderitz\n",
      "Processing Record 3 of Set 7 | emerald\n",
      "Processing Record 4 of Set 7 | baleshwar\n",
      "Processing Record 5 of Set 7 | sao miguel do araguaia\n",
      "Processing Record 6 of Set 7 | college\n",
      "Processing Record 7 of Set 7 | harindanga\n",
      "Processing Record 8 of Set 7 | rock sound\n",
      "Processing Record 9 of Set 7 | nipawin\n",
      "Processing Record 10 of Set 7 | kargasok\n",
      "Processing Record 11 of Set 7 | saint-maximin-la-sainte-baume\n",
      "Processing Record 12 of Set 7 | karkaralinsk\n",
      "City not found. Skipping...\n",
      "Processing Record 13 of Set 7 | muros\n",
      "Processing Record 14 of Set 7 | qasigiannguit\n",
      "Processing Record 15 of Set 7 | dovolnoye\n",
      "Processing Record 16 of Set 7 | maloy\n",
      "Processing Record 17 of Set 7 | victoria\n",
      "Processing Record 18 of Set 7 | falealupo\n",
      "City not found. Skipping...\n",
      "Processing Record 19 of Set 7 | upata\n",
      "Processing Record 20 of Set 7 | bafra\n",
      "Processing Record 21 of Set 7 | salalah\n",
      "Processing Record 22 of Set 7 | logan lake\n",
      "Processing Record 23 of Set 7 | cherskiy\n",
      "Processing Record 24 of Set 7 | gilgit\n",
      "Processing Record 25 of Set 7 | mys shmidta\n",
      "City not found. Skipping...\n",
      "Processing Record 26 of Set 7 | sao joao da barra\n",
      "Processing Record 27 of Set 7 | pacifica\n",
      "Processing Record 28 of Set 7 | iralaya\n",
      "Processing Record 29 of Set 7 | batsfjord\n",
      "Processing Record 30 of Set 7 | dicabisagan\n",
      "Processing Record 31 of Set 7 | french harbor\n",
      "Processing Record 32 of Set 7 | usinsk\n",
      "Processing Record 33 of Set 7 | coahuayana\n",
      "Processing Record 34 of Set 7 | san jose\n",
      "Processing Record 35 of Set 7 | nuevo progreso\n",
      "Processing Record 36 of Set 7 | saint-georges\n",
      "Processing Record 37 of Set 7 | dakar\n",
      "Processing Record 38 of Set 7 | kem\n",
      "Processing Record 39 of Set 7 | meulaboh\n",
      "Processing Record 40 of Set 7 | noyabrsk\n",
      "Processing Record 41 of Set 7 | drezdenko\n",
      "Processing Record 42 of Set 7 | kununurra\n",
      "Processing Record 43 of Set 7 | loandjili\n",
      "Processing Record 44 of Set 7 | duldurga\n",
      "Processing Record 45 of Set 7 | asau\n",
      "Processing Record 46 of Set 7 | saryg-sep\n",
      "Processing Record 47 of Set 7 | viedma\n",
      "Processing Record 48 of Set 7 | grand-santi\n",
      "Processing Record 49 of Set 7 | miandrivazo\n",
      "Processing Record 50 of Set 7 | alekseyevsk\n",
      "Processing Record 1 of Set 8 | basco\n",
      "Processing Record 2 of Set 8 | eyl\n",
      "Processing Record 3 of Set 8 | sumbawa\n",
      "City not found. Skipping...\n",
      "Processing Record 4 of Set 8 | shimoda\n",
      "Processing Record 5 of Set 8 | bathsheba\n",
      "Processing Record 6 of Set 8 | pravdinskiy\n",
      "Processing Record 7 of Set 8 | luhacovice\n",
      "Processing Record 8 of Set 8 | broome\n",
      "Processing Record 9 of Set 8 | cedar city\n",
      "Processing Record 10 of Set 8 | half moon bay\n",
      "Processing Record 11 of Set 8 | atambua\n",
      "Processing Record 12 of Set 8 | tuatapere\n",
      "Processing Record 13 of Set 8 | cururupu\n",
      "Processing Record 14 of Set 8 | corner brook\n",
      "Processing Record 15 of Set 8 | quesnel\n",
      "Processing Record 16 of Set 8 | quatre cocos\n",
      "Processing Record 17 of Set 8 | the valley\n",
      "Processing Record 18 of Set 8 | pangai\n",
      "Processing Record 19 of Set 8 | charters towers\n"
     ]
    },
    {
     "name": "stdout",
     "output_type": "stream",
     "text": [
      "Processing Record 20 of Set 8 | yulara\n",
      "Processing Record 21 of Set 8 | jining\n",
      "Processing Record 22 of Set 8 | diamantino\n",
      "Processing Record 23 of Set 8 | bonfim\n",
      "Processing Record 24 of Set 8 | guhagar\n",
      "Processing Record 25 of Set 8 | bastrop\n",
      "Processing Record 26 of Set 8 | wells\n",
      "Processing Record 27 of Set 8 | fartura\n",
      "Processing Record 28 of Set 8 | marau\n",
      "Processing Record 29 of Set 8 | rodez\n",
      "Processing Record 30 of Set 8 | pathein\n",
      "Processing Record 31 of Set 8 | bokhan\n",
      "Processing Record 32 of Set 8 | progreso\n",
      "Processing Record 33 of Set 8 | tarata\n",
      "Processing Record 34 of Set 8 | adrar\n",
      "Processing Record 35 of Set 8 | quelimane\n",
      "Processing Record 36 of Set 8 | taksimo\n",
      "Processing Record 37 of Set 8 | koutsouras\n",
      "Processing Record 38 of Set 8 | tres arroyos\n",
      "Processing Record 39 of Set 8 | cananea\n",
      "Processing Record 40 of Set 8 | monte carmelo\n",
      "Processing Record 41 of Set 8 | hobyo\n",
      "Processing Record 42 of Set 8 | otradnoye\n",
      "Processing Record 43 of Set 8 | sabha\n",
      "Processing Record 44 of Set 8 | singaparna\n",
      "Processing Record 45 of Set 8 | richards bay\n",
      "Processing Record 46 of Set 8 | asfi\n",
      "Processing Record 47 of Set 8 | roanoke rapids\n",
      "Processing Record 48 of Set 8 | chkalovskoye\n",
      "Processing Record 49 of Set 8 | puerto leguizamo\n",
      "Processing Record 50 of Set 8 | baculin\n",
      "Processing Record 1 of Set 9 | marfino\n",
      "Processing Record 2 of Set 9 | vila velha\n",
      "Processing Record 3 of Set 9 | mackay\n",
      "Processing Record 4 of Set 9 | nerchinskiy zavod\n",
      "Processing Record 5 of Set 9 | altay\n",
      "Processing Record 6 of Set 9 | flinders\n",
      "Processing Record 7 of Set 9 | xinyu\n",
      "Processing Record 8 of Set 9 | alyangula\n",
      "Processing Record 9 of Set 9 | botucatu\n",
      "Processing Record 10 of Set 9 | nome\n",
      "Processing Record 11 of Set 9 | lesnoy\n",
      "Processing Record 12 of Set 9 | longyearbyen\n",
      "Processing Record 13 of Set 9 | upernavik\n",
      "Processing Record 14 of Set 9 | cayenne\n",
      "Processing Record 15 of Set 9 | arawa\n",
      "Processing Record 16 of Set 9 | jiddah\n",
      "City not found. Skipping...\n",
      "Processing Record 17 of Set 9 | lichinga\n",
      "Processing Record 18 of Set 9 | huarmey\n",
      "Processing Record 19 of Set 9 | ambulu\n",
      "Processing Record 20 of Set 9 | corbelia\n",
      "Processing Record 21 of Set 9 | henties bay\n",
      "Processing Record 22 of Set 9 | goderich\n",
      "Processing Record 23 of Set 9 | bukama\n",
      "Processing Record 24 of Set 9 | turukhansk\n",
      "Processing Record 25 of Set 9 | nanortalik\n",
      "Processing Record 26 of Set 9 | aljezur\n",
      "Processing Record 27 of Set 9 | nelson bay\n",
      "Processing Record 28 of Set 9 | carballo\n",
      "Processing Record 29 of Set 9 | nishihara\n",
      "Processing Record 30 of Set 9 | barawe\n",
      "City not found. Skipping...\n",
      "Processing Record 31 of Set 9 | fare\n",
      "Processing Record 32 of Set 9 | geraldton\n",
      "Processing Record 33 of Set 9 | dengzhou\n",
      "Processing Record 34 of Set 9 | faya\n",
      "Processing Record 35 of Set 9 | ust-tsilma\n",
      "Processing Record 36 of Set 9 | palmer\n",
      "Processing Record 37 of Set 9 | prescott\n",
      "Processing Record 38 of Set 9 | andilamena\n",
      "Processing Record 39 of Set 9 | santiago del estero\n",
      "Processing Record 40 of Set 9 | esmeraldas\n",
      "Processing Record 41 of Set 9 | manturovo\n",
      "Processing Record 42 of Set 9 | hoquiam\n",
      "Processing Record 43 of Set 9 | tumannyy\n",
      "City not found. Skipping...\n",
      "Processing Record 44 of Set 9 | keti bandar\n",
      "Processing Record 45 of Set 9 | phuthaditjhaba\n",
      "Processing Record 46 of Set 9 | namibe\n",
      "Processing Record 47 of Set 9 | goedereede\n",
      "Processing Record 48 of Set 9 | komsomolskiy\n",
      "Processing Record 49 of Set 9 | concarneau\n",
      "Processing Record 50 of Set 9 | khani\n",
      "Processing Record 1 of Set 10 | kibre mengist\n",
      "Processing Record 2 of Set 10 | lasa\n",
      "Processing Record 3 of Set 10 | toliary\n",
      "City not found. Skipping...\n",
      "Processing Record 4 of Set 10 | finschhafen\n",
      "Processing Record 5 of Set 10 | palomares\n",
      "Processing Record 6 of Set 10 | kandrian\n",
      "Processing Record 7 of Set 10 | karratha\n",
      "Processing Record 8 of Set 10 | buala\n",
      "Processing Record 9 of Set 10 | shahr-e babak\n",
      "Processing Record 10 of Set 10 | nouadhibou\n",
      "Processing Record 11 of Set 10 | salina cruz\n",
      "Processing Record 12 of Set 10 | viljoenskroon\n",
      "Processing Record 13 of Set 10 | deputatskiy\n",
      "Processing Record 14 of Set 10 | chatellerault\n",
      "Processing Record 15 of Set 10 | awjilah\n",
      "Processing Record 16 of Set 10 | cidreira\n",
      "Processing Record 17 of Set 10 | zyryanka\n",
      "Processing Record 18 of Set 10 | tromso\n",
      "Processing Record 19 of Set 10 | san quintin\n",
      "Processing Record 20 of Set 10 | yinchuan\n",
      "Processing Record 21 of Set 10 | santa rosa\n",
      "Processing Record 22 of Set 10 | kilrush\n",
      "Processing Record 23 of Set 10 | krapivinskiy\n",
      "Processing Record 24 of Set 10 | oussouye\n",
      "Processing Record 25 of Set 10 | dnestrovsc\n",
      "Processing Record 26 of Set 10 | chiang khong\n",
      "Processing Record 27 of Set 10 | hailey\n",
      "Processing Record 28 of Set 10 | vaitape\n",
      "Processing Record 29 of Set 10 | hare bay\n",
      "Processing Record 30 of Set 10 | mbuguni\n",
      "Processing Record 31 of Set 10 | pangnirtung\n",
      "Processing Record 32 of Set 10 | tessalit\n",
      "Processing Record 33 of Set 10 | biltine\n",
      "Processing Record 34 of Set 10 | saint-francois\n",
      "Processing Record 35 of Set 10 | pochutla\n",
      "Processing Record 36 of Set 10 | isangel\n",
      "Processing Record 37 of Set 10 | mizan teferi\n",
      "Processing Record 38 of Set 10 | utiroa\n",
      "City not found. Skipping...\n",
      "Processing Record 39 of Set 10 | kishi\n",
      "Processing Record 40 of Set 10 | machali\n",
      "Processing Record 41 of Set 10 | eunice\n",
      "Processing Record 42 of Set 10 | nagornskiy\n",
      "Processing Record 43 of Set 10 | lebanon\n",
      "Processing Record 44 of Set 10 | tawkar\n",
      "City not found. Skipping...\n",
      "Processing Record 45 of Set 10 | porto walter\n",
      "Processing Record 46 of Set 10 | charlestown\n",
      "Processing Record 47 of Set 10 | narsaq\n",
      "Processing Record 48 of Set 10 | kamenskoye\n",
      "City not found. Skipping...\n",
      "Processing Record 49 of Set 10 | woodward\n",
      "Processing Record 50 of Set 10 | san patricio\n",
      "Processing Record 1 of Set 11 | matagami\n",
      "Processing Record 2 of Set 11 | ballachulish\n",
      "Processing Record 3 of Set 11 | lyndon\n",
      "Processing Record 4 of Set 11 | buenaventura\n",
      "Processing Record 5 of Set 11 | vardo\n",
      "Processing Record 6 of Set 11 | erdenet\n",
      "Processing Record 7 of Set 11 | balintore\n",
      "Processing Record 8 of Set 11 | kaeo\n",
      "Processing Record 9 of Set 11 | kungurtug\n",
      "Processing Record 10 of Set 11 | puerto colombia\n",
      "Processing Record 11 of Set 11 | escarcega\n",
      "Processing Record 12 of Set 11 | sao joao do piaui\n",
      "Processing Record 13 of Set 11 | hayden\n",
      "Processing Record 14 of Set 11 | algiers\n",
      "Processing Record 15 of Set 11 | schitu\n",
      "Processing Record 16 of Set 11 | vestmannaeyjar\n",
      "Processing Record 17 of Set 11 | prince rupert\n",
      "Processing Record 18 of Set 11 | honiara\n",
      "Processing Record 19 of Set 11 | kargil\n",
      "Processing Record 20 of Set 11 | cockburn town\n",
      "Processing Record 21 of Set 11 | alice springs\n",
      "Processing Record 22 of Set 11 | naze\n",
      "Processing Record 23 of Set 11 | butterworth\n",
      "Processing Record 24 of Set 11 | namatanai\n",
      "Processing Record 25 of Set 11 | inhambane\n",
      "Processing Record 26 of Set 11 | loukhi\n",
      "Processing Record 27 of Set 11 | lavrentiya\n",
      "Processing Record 28 of Set 11 | pringsewu\n",
      "Processing Record 29 of Set 11 | khanpur\n",
      "Processing Record 30 of Set 11 | anju\n",
      "Processing Record 31 of Set 11 | nguiu\n",
      "City not found. Skipping...\n",
      "Processing Record 32 of Set 11 | gayeri\n",
      "Processing Record 33 of Set 11 | lac du bonnet\n",
      "Processing Record 34 of Set 11 | uyemskiy\n",
      "Processing Record 35 of Set 11 | yaan\n",
      "Processing Record 36 of Set 11 | amboasary\n",
      "Processing Record 37 of Set 11 | fernley\n",
      "Processing Record 38 of Set 11 | moyale\n",
      "Processing Record 39 of Set 11 | hegra\n",
      "Processing Record 40 of Set 11 | nioki\n",
      "Processing Record 41 of Set 11 | port moresby\n",
      "Processing Record 42 of Set 11 | pozo colorado\n",
      "Processing Record 43 of Set 11 | vanavara\n",
      "Processing Record 44 of Set 11 | binzhou\n",
      "Processing Record 45 of Set 11 | inuvik\n",
      "Processing Record 46 of Set 11 | ayorou\n",
      "Processing Record 47 of Set 11 | kuzhener\n",
      "Processing Record 48 of Set 11 | bom jesus\n",
      "Processing Record 49 of Set 11 | claresholm\n",
      "Processing Record 50 of Set 11 | sayyan\n",
      "Processing Record 1 of Set 12 | daru\n",
      "Processing Record 2 of Set 12 | burgos\n",
      "Processing Record 3 of Set 12 | kruisfontein\n",
      "Processing Record 4 of Set 12 | camacha\n",
      "Processing Record 5 of Set 12 | san juan\n",
      "Processing Record 6 of Set 12 | longyan\n",
      "Processing Record 7 of Set 12 | rumoi\n",
      "Processing Record 8 of Set 12 | baykit\n",
      "Processing Record 9 of Set 12 | boguchany\n",
      "Processing Record 10 of Set 12 | panino\n"
     ]
    },
    {
     "name": "stdout",
     "output_type": "stream",
     "text": [
      "Processing Record 11 of Set 12 | yilan\n",
      "Processing Record 12 of Set 12 | longlac\n",
      "City not found. Skipping...\n",
      "Processing Record 13 of Set 12 | suao\n",
      "City not found. Skipping...\n",
      "Processing Record 14 of Set 12 | wattegama\n",
      "Processing Record 15 of Set 12 | barcelos\n",
      "Processing Record 16 of Set 12 | koboldo\n",
      "City not found. Skipping...\n",
      "Processing Record 17 of Set 12 | cumbitara\n",
      "Processing Record 18 of Set 12 | gandajika\n",
      "Processing Record 19 of Set 12 | mocuba\n",
      "Processing Record 20 of Set 12 | falun\n",
      "Processing Record 21 of Set 12 | kostino\n",
      "Processing Record 22 of Set 12 | hirado\n",
      "Processing Record 23 of Set 12 | scarborough\n",
      "Processing Record 24 of Set 12 | la esperanza\n",
      "Processing Record 25 of Set 12 | donskoye\n",
      "Processing Record 26 of Set 12 | fort-shevchenko\n",
      "Processing Record 27 of Set 12 | shushtar\n",
      "Processing Record 28 of Set 12 | dolores\n",
      "Processing Record 29 of Set 12 | rawatsar\n",
      "Processing Record 30 of Set 12 | manta\n",
      "Processing Record 31 of Set 12 | dalby\n",
      "Processing Record 32 of Set 12 | birjand\n",
      "Processing Record 33 of Set 12 | arlit\n",
      "Processing Record 34 of Set 12 | latehar\n",
      "Processing Record 35 of Set 12 | malakal\n",
      "Processing Record 36 of Set 12 | asosa\n",
      "Processing Record 37 of Set 12 | northam\n",
      "Processing Record 38 of Set 12 | gubskaya\n",
      "Processing Record 39 of Set 12 | teya\n",
      "Processing Record 40 of Set 12 | port lincoln\n",
      "Processing Record 41 of Set 12 | kushiro\n",
      "Processing Record 42 of Set 12 | bage\n",
      "Processing Record 43 of Set 12 | puerto del rosario\n",
      "Processing Record 44 of Set 12 | price\n",
      "Processing Record 45 of Set 12 | pemberton\n",
      "Processing Record 46 of Set 12 | smirnykh\n",
      "Processing Record 47 of Set 12 | santa rosalia\n",
      "Processing Record 48 of Set 12 | morondava\n",
      "Processing Record 49 of Set 12 | kutum\n",
      "Processing Record 50 of Set 12 | kirakira\n",
      "Processing Record 1 of Set 13 | anadyr\n",
      "Processing Record 2 of Set 13 | linqiong\n",
      "Processing Record 3 of Set 13 | governador valadares\n",
      "Processing Record 4 of Set 13 | ubaitaba\n",
      "Processing Record 5 of Set 13 | samarai\n",
      "Processing Record 6 of Set 13 | cabano\n",
      "Processing Record 7 of Set 13 | tinqueux\n",
      "Processing Record 8 of Set 13 | wloszczowa\n",
      "Processing Record 9 of Set 13 | iquique\n",
      "Processing Record 10 of Set 13 | rapar\n",
      "Processing Record 11 of Set 13 | warrenton\n",
      "Processing Record 12 of Set 13 | ambanja\n",
      "Processing Record 13 of Set 13 | asyut\n",
      "Processing Record 14 of Set 13 | muyinga\n",
      "Processing Record 15 of Set 13 | lake city\n",
      "Processing Record 16 of Set 13 | saint anthony\n",
      "Processing Record 17 of Set 13 | thaba nchu\n",
      "Processing Record 18 of Set 13 | berlevag\n",
      "Processing Record 19 of Set 13 | leningradskiy\n",
      "Processing Record 20 of Set 13 | cap-aux-meules\n",
      "Processing Record 21 of Set 13 | aksu\n",
      "Processing Record 22 of Set 13 | cienfuegos\n",
      "Processing Record 23 of Set 13 | liverpool\n",
      "Processing Record 24 of Set 13 | nawabganj\n",
      "Processing Record 25 of Set 13 | souillac\n",
      "Processing Record 26 of Set 13 | klyuchi\n",
      "Processing Record 27 of Set 13 | yanan\n",
      "City not found. Skipping...\n",
      "Processing Record 28 of Set 13 | stoilesti\n",
      "Processing Record 29 of Set 13 | hunza\n",
      "City not found. Skipping...\n",
      "Processing Record 30 of Set 13 | simpang empat\n",
      "   \n",
      "-----------------------------\n",
      "Data Retrieval Complete      \n",
      "-----------------------------\n",
      "**Number of Cities Not found:  50\n"
     ]
    }
   ],
   "source": [
    "\n",
    "#url =f\"https://api.openweathermap.org/data/2.5/weather?\"\n",
    "url =\"http://api.openweathermap.org/data/2.5/weather?units=Imperial&APPID=\"+weather_api_key\n",
    "#print(url)\n",
    "response=requests.get(url)\n",
    "print(response)\n",
    "\n",
    "#initialize \n",
    "recordNum=1\n",
    "setNum =1\n",
    "numCityNotFound =0\n",
    "\n",
    "# Create a dictionary for weather check dataframe (based on the dataframe given in started code)\n",
    "weatherCheck_dict = {\"city\":cities,\n",
    "                     \"lon\": \"\",\n",
    "                     \"lat\": \"\",\n",
    "                     \"Max Temp\": \"\",\n",
    "                     \"Humidity\": \"\",\n",
    "                     \"Cloudiness\": \"\",\n",
    "                     \"Wind Speed\": \"\",\n",
    "                     \"Country\": \"\",\n",
    "                     \"Date\": \"\" }\n",
    "\n",
    "weatherCheck_data = pd.DataFrame(weatherCheck_dict)\n",
    "\n",
    "print('''Beginning Data Retrieval\n",
    "-----------------------------''')\n",
    "#Loop through list of cities and perform a request for data on each of them\n",
    "\n",
    "for city in cities:\n",
    "    \n",
    "    query_url =f\"{url}&q={city}\"\n",
    "    #print(query_url)\n",
    "    response =requests.get(query_url).json()\n",
    "    #print(response)\n",
    "    #Try except block to catch the missing city and skipping that one\n",
    "    try:\n",
    "        #print log\n",
    "        print(\"Processing Record\",recordNum,\"of Set\",setNum,\"|\",city)\n",
    "        #Insert data into dataframe\n",
    "        weatherCheck_data.loc[weatherCheck_data['city'] == city, 'lon'] = response['coord']['lon']\n",
    "        weatherCheck_data.loc[weatherCheck_data['city'] == city, 'lat'] = response['coord']['lat']\n",
    "        weatherCheck_data.loc[weatherCheck_data['city'] == city, 'Max Temp'] = response['main']['temp_max']\n",
    "        weatherCheck_data.loc[weatherCheck_data['city'] == city, 'Humidity'] = response['main']['humidity']\n",
    "        weatherCheck_data.loc[weatherCheck_data['city'] == city, 'Cloudiness'] = response['clouds']['all']\n",
    "        weatherCheck_data.loc[weatherCheck_data['city'] == city, 'Wind Speed'] = response['wind']['speed']\n",
    "        weatherCheck_data.loc[weatherCheck_data['city'] == city, 'Country'] = response['sys']['country']\n",
    "        weatherCheck_data.loc[weatherCheck_data['city'] == city, 'Date'] = response['dt']\n",
    "    except :\n",
    "        print(\"City not found. Skipping...\")\n",
    "        numCityNotFound+=1\n",
    "        \n",
    "    #increment the record num count\n",
    "    recordNum+=1\n",
    "    #Condition to print sets by breakig the records into 50 each\n",
    "    if recordNum == 51:\n",
    "        setNum+=1\n",
    "        recordNum =1\n",
    "        #time.sleep(60)\n",
    "      \n",
    "print('''   \n",
    "-----------------------------\n",
    "Data Retrieval Complete      \n",
    "-----------------------------''')\n",
    "\n",
    "print(\"**Number of Cities Not found: \",numCityNotFound)"
   ]
  },
  {
   "cell_type": "markdown",
   "metadata": {},
   "source": [
    "### Convert Raw Data to DataFrame\n",
    "* Export the city data into a .csv.\n",
    "* Display the DataFrame"
   ]
  },
  {
   "cell_type": "code",
   "execution_count": 410,
   "metadata": {},
   "outputs": [
    {
     "data": {
      "text/html": [
       "<div>\n",
       "<style scoped>\n",
       "    .dataframe tbody tr th:only-of-type {\n",
       "        vertical-align: middle;\n",
       "    }\n",
       "\n",
       "    .dataframe tbody tr th {\n",
       "        vertical-align: top;\n",
       "    }\n",
       "\n",
       "    .dataframe thead th {\n",
       "        text-align: right;\n",
       "    }\n",
       "</style>\n",
       "<table border=\"1\" class=\"dataframe\">\n",
       "  <thead>\n",
       "    <tr style=\"text-align: right;\">\n",
       "      <th></th>\n",
       "      <th>city</th>\n",
       "      <th>lon</th>\n",
       "      <th>lat</th>\n",
       "      <th>Max Temp</th>\n",
       "      <th>Humidity</th>\n",
       "      <th>Cloudiness</th>\n",
       "      <th>Wind Speed</th>\n",
       "      <th>Country</th>\n",
       "      <th>Date</th>\n",
       "    </tr>\n",
       "  </thead>\n",
       "  <tbody>\n",
       "    <tr>\n",
       "      <th>0</th>\n",
       "      <td>chuy</td>\n",
       "      <td>-53.4616</td>\n",
       "      <td>-33.6971</td>\n",
       "      <td>56.57</td>\n",
       "      <td>99.0</td>\n",
       "      <td>100.0</td>\n",
       "      <td>8.30</td>\n",
       "      <td>UY</td>\n",
       "      <td>1.659581e+09</td>\n",
       "    </tr>\n",
       "    <tr>\n",
       "      <th>1</th>\n",
       "      <td>new norfolk</td>\n",
       "      <td>147.0587</td>\n",
       "      <td>-42.7826</td>\n",
       "      <td>62.92</td>\n",
       "      <td>46.0</td>\n",
       "      <td>4.0</td>\n",
       "      <td>9.89</td>\n",
       "      <td>AU</td>\n",
       "      <td>1.659581e+09</td>\n",
       "    </tr>\n",
       "    <tr>\n",
       "      <th>2</th>\n",
       "      <td>barrow</td>\n",
       "      <td>-156.7887</td>\n",
       "      <td>71.2906</td>\n",
       "      <td>48.22</td>\n",
       "      <td>81.0</td>\n",
       "      <td>75.0</td>\n",
       "      <td>18.41</td>\n",
       "      <td>US</td>\n",
       "      <td>1.659581e+09</td>\n",
       "    </tr>\n",
       "    <tr>\n",
       "      <th>4</th>\n",
       "      <td>saint-philippe</td>\n",
       "      <td>55.7679</td>\n",
       "      <td>-21.3585</td>\n",
       "      <td>63.99</td>\n",
       "      <td>83.0</td>\n",
       "      <td>55.0</td>\n",
       "      <td>9.71</td>\n",
       "      <td>RE</td>\n",
       "      <td>1.659581e+09</td>\n",
       "    </tr>\n",
       "    <tr>\n",
       "      <th>5</th>\n",
       "      <td>chifeng</td>\n",
       "      <td>118.9636</td>\n",
       "      <td>42.2683</td>\n",
       "      <td>91.56</td>\n",
       "      <td>44.0</td>\n",
       "      <td>79.0</td>\n",
       "      <td>11.54</td>\n",
       "      <td>CN</td>\n",
       "      <td>1.659581e+09</td>\n",
       "    </tr>\n",
       "    <tr>\n",
       "      <th>6</th>\n",
       "      <td>guerrero negro</td>\n",
       "      <td>-114.0611</td>\n",
       "      <td>27.9769</td>\n",
       "      <td>71.06</td>\n",
       "      <td>83.0</td>\n",
       "      <td>4.0</td>\n",
       "      <td>16.96</td>\n",
       "      <td>MX</td>\n",
       "      <td>1.659581e+09</td>\n",
       "    </tr>\n",
       "    <tr>\n",
       "      <th>8</th>\n",
       "      <td>punta arenas</td>\n",
       "      <td>-70.9167</td>\n",
       "      <td>-53.1500</td>\n",
       "      <td>37.51</td>\n",
       "      <td>93.0</td>\n",
       "      <td>75.0</td>\n",
       "      <td>11.50</td>\n",
       "      <td>CL</td>\n",
       "      <td>1.659581e+09</td>\n",
       "    </tr>\n",
       "    <tr>\n",
       "      <th>9</th>\n",
       "      <td>mahebourg</td>\n",
       "      <td>57.7000</td>\n",
       "      <td>-20.4081</td>\n",
       "      <td>68.29</td>\n",
       "      <td>77.0</td>\n",
       "      <td>40.0</td>\n",
       "      <td>8.05</td>\n",
       "      <td>MU</td>\n",
       "      <td>1.659581e+09</td>\n",
       "    </tr>\n",
       "    <tr>\n",
       "      <th>10</th>\n",
       "      <td>bukachacha</td>\n",
       "      <td>116.9167</td>\n",
       "      <td>52.9833</td>\n",
       "      <td>61.63</td>\n",
       "      <td>99.0</td>\n",
       "      <td>100.0</td>\n",
       "      <td>3.18</td>\n",
       "      <td>RU</td>\n",
       "      <td>1.659581e+09</td>\n",
       "    </tr>\n",
       "    <tr>\n",
       "      <th>11</th>\n",
       "      <td>kahului</td>\n",
       "      <td>-156.4700</td>\n",
       "      <td>20.8947</td>\n",
       "      <td>84.22</td>\n",
       "      <td>68.0</td>\n",
       "      <td>75.0</td>\n",
       "      <td>19.57</td>\n",
       "      <td>US</td>\n",
       "      <td>1.659581e+09</td>\n",
       "    </tr>\n",
       "    <tr>\n",
       "      <th>12</th>\n",
       "      <td>luanda</td>\n",
       "      <td>13.2343</td>\n",
       "      <td>-8.8368</td>\n",
       "      <td>64.72</td>\n",
       "      <td>84.0</td>\n",
       "      <td>0.0</td>\n",
       "      <td>6.24</td>\n",
       "      <td>AO</td>\n",
       "      <td>1.659581e+09</td>\n",
       "    </tr>\n",
       "    <tr>\n",
       "      <th>13</th>\n",
       "      <td>cape town</td>\n",
       "      <td>18.4232</td>\n",
       "      <td>-33.9258</td>\n",
       "      <td>55.81</td>\n",
       "      <td>82.0</td>\n",
       "      <td>75.0</td>\n",
       "      <td>10.36</td>\n",
       "      <td>ZA</td>\n",
       "      <td>1.659581e+09</td>\n",
       "    </tr>\n",
       "    <tr>\n",
       "      <th>14</th>\n",
       "      <td>mataura</td>\n",
       "      <td>168.8643</td>\n",
       "      <td>-46.1927</td>\n",
       "      <td>57.47</td>\n",
       "      <td>64.0</td>\n",
       "      <td>29.0</td>\n",
       "      <td>8.10</td>\n",
       "      <td>NZ</td>\n",
       "      <td>1.659581e+09</td>\n",
       "    </tr>\n",
       "    <tr>\n",
       "      <th>15</th>\n",
       "      <td>butaritari</td>\n",
       "      <td>172.7902</td>\n",
       "      <td>3.0707</td>\n",
       "      <td>81.99</td>\n",
       "      <td>74.0</td>\n",
       "      <td>23.0</td>\n",
       "      <td>15.79</td>\n",
       "      <td>KI</td>\n",
       "      <td>1.659581e+09</td>\n",
       "    </tr>\n",
       "    <tr>\n",
       "      <th>16</th>\n",
       "      <td>tasiilaq</td>\n",
       "      <td>-37.6368</td>\n",
       "      <td>65.6145</td>\n",
       "      <td>39.51</td>\n",
       "      <td>71.0</td>\n",
       "      <td>100.0</td>\n",
       "      <td>2.08</td>\n",
       "      <td>GL</td>\n",
       "      <td>1.659581e+09</td>\n",
       "    </tr>\n",
       "  </tbody>\n",
       "</table>\n",
       "</div>"
      ],
      "text/plain": [
       "              city       lon      lat  Max Temp  Humidity  Cloudiness  \\\n",
       "0             chuy  -53.4616 -33.6971     56.57      99.0       100.0   \n",
       "1      new norfolk  147.0587 -42.7826     62.92      46.0         4.0   \n",
       "2           barrow -156.7887  71.2906     48.22      81.0        75.0   \n",
       "4   saint-philippe   55.7679 -21.3585     63.99      83.0        55.0   \n",
       "5          chifeng  118.9636  42.2683     91.56      44.0        79.0   \n",
       "6   guerrero negro -114.0611  27.9769     71.06      83.0         4.0   \n",
       "8     punta arenas  -70.9167 -53.1500     37.51      93.0        75.0   \n",
       "9        mahebourg   57.7000 -20.4081     68.29      77.0        40.0   \n",
       "10      bukachacha  116.9167  52.9833     61.63      99.0       100.0   \n",
       "11         kahului -156.4700  20.8947     84.22      68.0        75.0   \n",
       "12          luanda   13.2343  -8.8368     64.72      84.0         0.0   \n",
       "13       cape town   18.4232 -33.9258     55.81      82.0        75.0   \n",
       "14         mataura  168.8643 -46.1927     57.47      64.0        29.0   \n",
       "15      butaritari  172.7902   3.0707     81.99      74.0        23.0   \n",
       "16        tasiilaq  -37.6368  65.6145     39.51      71.0       100.0   \n",
       "\n",
       "    Wind Speed Country          Date  \n",
       "0         8.30      UY  1.659581e+09  \n",
       "1         9.89      AU  1.659581e+09  \n",
       "2        18.41      US  1.659581e+09  \n",
       "4         9.71      RE  1.659581e+09  \n",
       "5        11.54      CN  1.659581e+09  \n",
       "6        16.96      MX  1.659581e+09  \n",
       "8        11.50      CL  1.659581e+09  \n",
       "9         8.05      MU  1.659581e+09  \n",
       "10        3.18      RU  1.659581e+09  \n",
       "11       19.57      US  1.659581e+09  \n",
       "12        6.24      AO  1.659581e+09  \n",
       "13       10.36      ZA  1.659581e+09  \n",
       "14        8.10      NZ  1.659581e+09  \n",
       "15       15.79      KI  1.659581e+09  \n",
       "16        2.08      GL  1.659581e+09  "
      ]
     },
     "metadata": {},
     "output_type": "display_data"
    }
   ],
   "source": [
    "#export data to csv file\n",
    "#removing the cities NaN \n",
    "weatherCheck_cleandata=weatherCheck_data.dropna()\n",
    "weatherCheck_cleandata.reset_index(drop=True)\n",
    "weatherCheck_cleandata.head(10)\n",
    "weatherCheck_cleandata.to_csv(\"OutputFiles/CityData.csv\", index=False, header=True)\n",
    "\n",
    "#display dataframe\n",
    "display(weatherCheck_cleandata.head(15))"
   ]
  },
  {
   "cell_type": "code",
   "execution_count": 411,
   "metadata": {},
   "outputs": [
    {
     "name": "stdout",
     "output_type": "stream",
     "text": [
      "*****What are the data types ?******\n"
     ]
    },
    {
     "data": {
      "text/plain": [
       "city           object\n",
       "lon           float64\n",
       "lat           float64\n",
       "Max Temp      float64\n",
       "Humidity      float64\n",
       "Cloudiness    float64\n",
       "Wind Speed    float64\n",
       "Country        object\n",
       "Date          float64\n",
       "dtype: object"
      ]
     },
     "metadata": {},
     "output_type": "display_data"
    },
    {
     "data": {
      "text/html": [
       "<div>\n",
       "<style scoped>\n",
       "    .dataframe tbody tr th:only-of-type {\n",
       "        vertical-align: middle;\n",
       "    }\n",
       "\n",
       "    .dataframe tbody tr th {\n",
       "        vertical-align: top;\n",
       "    }\n",
       "\n",
       "    .dataframe thead th {\n",
       "        text-align: right;\n",
       "    }\n",
       "</style>\n",
       "<table border=\"1\" class=\"dataframe\">\n",
       "  <thead>\n",
       "    <tr style=\"text-align: right;\">\n",
       "      <th></th>\n",
       "      <th>lon</th>\n",
       "      <th>lat</th>\n",
       "      <th>Max Temp</th>\n",
       "      <th>Humidity</th>\n",
       "      <th>Cloudiness</th>\n",
       "      <th>Wind Speed</th>\n",
       "      <th>Date</th>\n",
       "    </tr>\n",
       "  </thead>\n",
       "  <tbody>\n",
       "    <tr>\n",
       "      <th>count</th>\n",
       "      <td>580.000000</td>\n",
       "      <td>580.000000</td>\n",
       "      <td>580.000000</td>\n",
       "      <td>580.000000</td>\n",
       "      <td>580.000000</td>\n",
       "      <td>580.000000</td>\n",
       "      <td>5.800000e+02</td>\n",
       "    </tr>\n",
       "    <tr>\n",
       "      <th>mean</th>\n",
       "      <td>18.760694</td>\n",
       "      <td>20.098345</td>\n",
       "      <td>69.281241</td>\n",
       "      <td>72.446552</td>\n",
       "      <td>55.058621</td>\n",
       "      <td>7.698086</td>\n",
       "      <td>1.659581e+09</td>\n",
       "    </tr>\n",
       "    <tr>\n",
       "      <th>std</th>\n",
       "      <td>90.587313</td>\n",
       "      <td>33.586479</td>\n",
       "      <td>12.561643</td>\n",
       "      <td>18.999107</td>\n",
       "      <td>40.297598</td>\n",
       "      <td>5.438717</td>\n",
       "      <td>7.374808e+01</td>\n",
       "    </tr>\n",
       "    <tr>\n",
       "      <th>min</th>\n",
       "      <td>-175.200000</td>\n",
       "      <td>-54.800000</td>\n",
       "      <td>34.970000</td>\n",
       "      <td>1.000000</td>\n",
       "      <td>0.000000</td>\n",
       "      <td>0.000000</td>\n",
       "      <td>1.659580e+09</td>\n",
       "    </tr>\n",
       "    <tr>\n",
       "      <th>25%</th>\n",
       "      <td>-58.686950</td>\n",
       "      <td>-8.963550</td>\n",
       "      <td>60.880000</td>\n",
       "      <td>61.000000</td>\n",
       "      <td>12.000000</td>\n",
       "      <td>3.755000</td>\n",
       "      <td>1.659581e+09</td>\n",
       "    </tr>\n",
       "    <tr>\n",
       "      <th>50%</th>\n",
       "      <td>24.698350</td>\n",
       "      <td>23.758350</td>\n",
       "      <td>69.720000</td>\n",
       "      <td>76.000000</td>\n",
       "      <td>68.500000</td>\n",
       "      <td>6.610000</td>\n",
       "      <td>1.659581e+09</td>\n",
       "    </tr>\n",
       "    <tr>\n",
       "      <th>75%</th>\n",
       "      <td>100.342500</td>\n",
       "      <td>49.257975</td>\n",
       "      <td>79.292500</td>\n",
       "      <td>87.000000</td>\n",
       "      <td>99.000000</td>\n",
       "      <td>10.360000</td>\n",
       "      <td>1.659581e+09</td>\n",
       "    </tr>\n",
       "    <tr>\n",
       "      <th>max</th>\n",
       "      <td>178.416700</td>\n",
       "      <td>78.218600</td>\n",
       "      <td>100.330000</td>\n",
       "      <td>100.000000</td>\n",
       "      <td>100.000000</td>\n",
       "      <td>32.820000</td>\n",
       "      <td>1.659581e+09</td>\n",
       "    </tr>\n",
       "  </tbody>\n",
       "</table>\n",
       "</div>"
      ],
      "text/plain": [
       "              lon         lat    Max Temp    Humidity  Cloudiness  Wind Speed  \\\n",
       "count  580.000000  580.000000  580.000000  580.000000  580.000000  580.000000   \n",
       "mean    18.760694   20.098345   69.281241   72.446552   55.058621    7.698086   \n",
       "std     90.587313   33.586479   12.561643   18.999107   40.297598    5.438717   \n",
       "min   -175.200000  -54.800000   34.970000    1.000000    0.000000    0.000000   \n",
       "25%    -58.686950   -8.963550   60.880000   61.000000   12.000000    3.755000   \n",
       "50%     24.698350   23.758350   69.720000   76.000000   68.500000    6.610000   \n",
       "75%    100.342500   49.257975   79.292500   87.000000   99.000000   10.360000   \n",
       "max    178.416700   78.218600  100.330000  100.000000  100.000000   32.820000   \n",
       "\n",
       "               Date  \n",
       "count  5.800000e+02  \n",
       "mean   1.659581e+09  \n",
       "std    7.374808e+01  \n",
       "min    1.659580e+09  \n",
       "25%    1.659581e+09  \n",
       "50%    1.659581e+09  \n",
       "75%    1.659581e+09  \n",
       "max    1.659581e+09  "
      ]
     },
     "metadata": {},
     "output_type": "display_data"
    }
   ],
   "source": [
    "#In order to get summary of data using DESCRIBE FUNCTION, the values must be in Integer format\n",
    "print(\"*****What are the data types ?******\")\n",
    "display(weatherCheck_data.dtypes)\n",
    "\n",
    "#Convert necessary column to integer\n",
    "weatherCheck_data[['lon','lat','Max Temp','Humidity','Cloudiness','Wind Speed','Date']]=weatherCheck_data[['lon','lat','Max Temp','Humidity','Cloudiness','Wind Speed','Date']].apply(pd.to_numeric)\n",
    "\n",
    "    \n",
    "#Summarize the data\n",
    "display(weatherCheck_data.describe())\n"
   ]
  },
  {
   "cell_type": "markdown",
   "metadata": {},
   "source": [
    "## Inspect the data and remove the cities where the humidity > 100%.\n",
    "----\n",
    "Skip this step if there are no cities that have humidity > 100%. "
   ]
  },
  {
   "cell_type": "code",
   "execution_count": 412,
   "metadata": {},
   "outputs": [
    {
     "name": "stdout",
     "output_type": "stream",
     "text": [
      "After Inspection from the summary stats , humidity has not gone above 100% \n"
     ]
    }
   ],
   "source": [
    "print(\"After Inspection from the summary stats , humidity has not gone above 100% \")\n",
    "\n"
   ]
  },
  {
   "cell_type": "markdown",
   "metadata": {},
   "source": [
    "## Plotting the Data\n",
    "* Use proper labeling of the plots using plot titles (including date of analysis) and axes labels.\n",
    "* Save the plotted figures as .pngs."
   ]
  },
  {
   "cell_type": "markdown",
   "metadata": {},
   "source": [
    "## Latitude vs. Temperature Plot"
   ]
  },
  {
   "cell_type": "code",
   "execution_count": 413,
   "metadata": {},
   "outputs": [
    {
     "data": {
      "image/png": "[encoded data removed]",
      "text/plain": [
       "<Figure size 432x288 with 1 Axes>"
      ]
     },
     "metadata": {
      "needs_background": "light"
     },
     "output_type": "display_data"
    }
   ],
   "source": [
    "#format the max date in the dataset as \"runDate\" for graph titles\n",
    "date = weatherCheck_cleandata[\"Date\"].max()\n",
    "weatherDate = datetime.utcfromtimestamp(date).strftime('%Y-%m-%d')\n",
    "\n",
    "plt.title(f\"City Latitude vs Max Temperature ({weatherDate})\")\n",
    "plt.xlabel(\"Latitude\")\n",
    "plt.ylabel(\"Max Temperature(F)\")\n",
    "plt.grid()\n",
    "\n",
    "plt.scatter(weatherCheck_cleandata['lat'], weatherCheck_cleandata[\"Max Temp\"],c='cyan', edgecolors=\"black\")\n",
    "plt.savefig(\"Images/Latitude_vs_Temperature_Plot.png\")\n",
    "plt.show()"
   ]
  },
  {
   "cell_type": "code",
   "execution_count": 414,
   "metadata": {},
   "outputs": [],
   "source": [
    "### Insights on Latitude vs. Temperature Plot\n",
    "## This plot shows that temperature rises at equator(latitude = 0) and falls at either ends of axis with latitute -60 and -80.\n"
   ]
  },
  {
   "cell_type": "markdown",
   "metadata": {},
   "source": [
    "## Latitude vs. Humidity Plot"
   ]
  },
  {
   "cell_type": "code",
   "execution_count": 415,
   "metadata": {},
   "outputs": [
    {
     "data": {
      "image/png": "[encoded data removed]",
      "text/plain": [
       "<Figure size 432x288 with 1 Axes>"
      ]
     },
     "metadata": {
      "needs_background": "light"
     },
     "output_type": "display_data"
    }
   ],
   "source": [
    "plt.title(f\"City Latitude vs Humidity({weatherDate})\")\n",
    "plt.xlabel(\"Latitude\")\n",
    "plt.ylabel(\"Humidity(%)\")\n",
    "plt.grid()\n",
    "\n",
    "plt.scatter(weatherCheck_cleandata['lat'], weatherCheck_cleandata[\"Humidity\"],c='yellow', edgecolors=\"black\")\n",
    "plt.savefig(\"Images/Latitude_vs_Humidity_Plot.png\")\n",
    "plt.show()"
   ]
  },
  {
   "cell_type": "code",
   "execution_count": 416,
   "metadata": {},
   "outputs": [],
   "source": [
    "### Insights on Latitude vs. Humidity Plot\n",
    "## This plot shows that humidity is never at a lowest point at the equator (latitude 0).\n",
    "## It also reveals that all the cities at equator will have a atleast 75% humidity. "
   ]
  },
  {
   "cell_type": "markdown",
   "metadata": {},
   "source": [
    "## Latitude vs. Cloudiness Plot"
   ]
  },
  {
   "cell_type": "code",
   "execution_count": 417,
   "metadata": {},
   "outputs": [
    {
     "data": {
      "image/png": "[encoded data removed]",
      "text/plain": [
       "<Figure size 432x288 with 1 Axes>"
      ]
     },
     "metadata": {
      "needs_background": "light"
     },
     "output_type": "display_data"
    }
   ],
   "source": [
    "plt.title(f\"City Latitude vs Cloudiness({weatherDate})\")\n",
    "plt.xlabel(\"Latitude\")\n",
    "plt.ylabel(\"Cloudiness(%)\")\n",
    "plt.grid()\n",
    "\n",
    "plt.scatter(weatherCheck_cleandata['lat'], weatherCheck_cleandata[\"Cloudiness\"],c='magenta', edgecolors=\"black\")\n",
    "plt.savefig(\"Images/Latitude_vs_Cloudiness_Plot.png\")\n",
    "plt.show()"
   ]
  },
  {
   "cell_type": "code",
   "execution_count": 418,
   "metadata": {},
   "outputs": [],
   "source": [
    "### Insights on Latitude vs. Cloudiness Plot\n",
    "## This graph may not show any correlation but its interesting to observe the density of cities that 100% cloudy and 0% cloudy"
   ]
  },
  {
   "cell_type": "markdown",
   "metadata": {},
   "source": [
    "## Latitude vs. Wind Speed Plot"
   ]
  },
  {
   "cell_type": "code",
   "execution_count": 419,
   "metadata": {},
   "outputs": [
    {
     "data": {
      "image/png": "[encoded data removed]",
      "text/plain": [
       "<Figure size 432x288 with 1 Axes>"
      ]
     },
     "metadata": {
      "needs_background": "light"
     },
     "output_type": "display_data"
    }
   ],
   "source": [
    "plt.title(f\"Latitude vs. Wind Speed Plot({weatherDate})\")\n",
    "plt.xlabel(\"Latitude\")\n",
    "plt.ylabel(\"Wind Speed(mph)\")\n",
    "plt.grid()\n",
    "\n",
    "plt.scatter(weatherCheck_cleandata['lat'], weatherCheck_cleandata[\"Wind Speed\"],c='orange', edgecolors=\"black\")\n",
    "plt.savefig(\"Images/Latitude_vs_WindSpeed_Plot.png\")\n",
    "plt.show()"
   ]
  },
  {
   "cell_type": "code",
   "execution_count": 420,
   "metadata": {},
   "outputs": [],
   "source": [
    "### Insights on Latitude vs. Wind Speed Plot Plot\n",
    "## This plot doesn't show any major correlation"
   ]
  },
  {
   "cell_type": "markdown",
   "metadata": {},
   "source": [
    "## Linear Regression"
   ]
  },
  {
   "cell_type": "code",
   "execution_count": 443,
   "metadata": {},
   "outputs": [],
   "source": [
    "#Creating a function so it gets call everytime when it needs the execute same code multiple time\n",
    "\n",
    "def linearRegression(x,y,xy_1,xy_2):\n",
    "    (slope, intercept, rvalue, pvalue, stderr) = linregress(x,y)\n",
    "    regress_values = x * slope + intercept\n",
    "    line_equation = \"y = \" + str(round(slope,2)) + \"x + \" + str(round(intercept,2))\n",
    "    print(line_equation)\n",
    "    print(f'The r-square is: {rvalue}')\n",
    "    \n",
    "    plt.scatter(x,y,facecolors=\"violet\",edgecolors='red')\n",
    "    plt.plot(x,regress_values,\"r-\",color=\"purple\")\n",
    "    plt.annotate(line_equation,(xy_1,xy_2),fontsize=15,color=\"purple\")\n",
    "\n",
    "  "
   ]
  },
  {
   "cell_type": "markdown",
   "metadata": {},
   "source": [
    "####  Northern Hemisphere - Max Temp vs. Latitude Linear Regression"
   ]
  },
  {
   "cell_type": "code",
   "execution_count": 445,
   "metadata": {},
   "outputs": [
    {
     "name": "stdout",
     "output_type": "stream",
     "text": [
      "y = -0.39x + 86.2\n",
      "The r-square is: -0.6291290604422828\n"
     ]
    },
    {
     "data": {
      "image/png": "[encoded data removed]",
      "text/plain": [
       "<Figure size 432x288 with 1 Axes>"
      ]
     },
     "metadata": {
      "needs_background": "light"
     },
     "output_type": "display_data"
    }
   ],
   "source": [
    "#Data just for northern hemisphere, creating another dataframe\n",
    "northHemp_data = weatherCheck_cleandata.loc[weatherCheck_cleandata[\"lat\"] > 0]\n",
    "\n",
    "x = northHemp_data[\"lat\"]\n",
    "y = northHemp_data[\"Max Temp\"]\n",
    "xy_1=20\n",
    "xy_2=50\n",
    "\n",
    "#Can the defined function and pass the parameters\n",
    "plt.xlabel(\"Latitude\",fontsize=10)\n",
    "plt.ylabel(\"Max Temp\",fontsize=10)\n",
    "\n",
    "linearRegression(x,y,xy_1,xy_2)\n",
    "plt.savefig(f\"Images/Northern Hemisphere - Max Temp vs. Latitude Linear Regression ({weatherDate}).png\")\n",
    "plt.show()"
   ]
  },
  {
   "cell_type": "markdown",
   "metadata": {},
   "source": [
    "####  Southern Hemisphere - Max Temp vs. Latitude Linear Regression"
   ]
  },
  {
   "cell_type": "code",
   "execution_count": 447,
   "metadata": {},
   "outputs": [
    {
     "name": "stdout",
     "output_type": "stream",
     "text": [
      "y = 0.66x + 80.55\n",
      "The r-square is: 0.701002467502045\n"
     ]
    },
    {
     "data": {
      "image/png": "[encoded data removed]",
      "text/plain": [
       "<Figure size 432x288 with 1 Axes>"
      ]
     },
     "metadata": {
      "needs_background": "light"
     },
     "output_type": "display_data"
    }
   ],
   "source": [
    "#Data just for sourthern hemisphere, creating another dataframe\n",
    "southHemp_data = weatherCheck_cleandata.loc[weatherCheck_cleandata[\"lat\"] < 0]\n",
    "\n",
    "x = southHemp_data[\"lat\"]\n",
    "y = southHemp_data[\"Max Temp\"]\n",
    "xy_1=-22\n",
    "xy_2=50\n",
    "\n",
    "#Can the defined function and pass the parameters\n",
    "plt.xlabel(\"Latitude\",fontsize=10)\n",
    "plt.ylabel(\"Max Temp\",fontsize=10)\n",
    "linearRegression(x,y,xy_1,xy_2)\n",
    "plt.savefig(f\"Images/Southern Hemisphere - Max Temp vs. Latitude Linear Regression ({weatherDate}).png\")\n",
    "plt.show()"
   ]
  },
  {
   "cell_type": "code",
   "execution_count": 424,
   "metadata": {},
   "outputs": [],
   "source": [
    "### Insights on Northwern and Southern Hemisphere - Max Temp vs. Latitude Linear Regression\n",
    "## This graph shows a  strong correlation. \n",
    "## In the northern hemisphere the temperature decreasses as we go away from equator(Latitute =0) and in southern it is opposite"
   ]
  },
  {
   "cell_type": "markdown",
   "metadata": {},
   "source": [
    "####  Northern Hemisphere - Humidity (%) vs. Latitude Linear Regression"
   ]
  },
  {
   "cell_type": "code",
   "execution_count": 448,
   "metadata": {},
   "outputs": [
    {
     "name": "stdout",
     "output_type": "stream",
     "text": [
      "y = -0.09x + 75.57\n",
      "The r-square is: -0.08825960649282108\n"
     ]
    },
    {
     "data": {
      "image/png": "[encoded data removed]",
      "text/plain": [
       "<Figure size 432x288 with 1 Axes>"
      ]
     },
     "metadata": {
      "needs_background": "light"
     },
     "output_type": "display_data"
    }
   ],
   "source": [
    "#Data just for northern hemisphere, creating another dataframe\n",
    "northHemp_data = weatherCheck_cleandata.loc[weatherCheck_cleandata[\"lat\"] > 0]\n",
    "\n",
    "x = northHemp_data[\"lat\"]\n",
    "y = northHemp_data[\"Humidity\"]\n",
    "xy_1=40\n",
    "xy_2=7\n",
    "\n",
    "#Can the defined function and pass the parameters\n",
    "plt.xlabel(\"Latitude\",fontsize=10)\n",
    "plt.ylabel(\"Humidity\",fontsize=10)\n",
    "linearRegression(x,y,xy_1,xy_2)\n",
    "plt.savefig(f\"Images/Northern Hemisphere - Humidity (%) vs. Latitude Linear Regression ({weatherDate}).png\")\n",
    "plt.show()"
   ]
  },
  {
   "cell_type": "markdown",
   "metadata": {},
   "source": [
    "####  Southern Hemisphere - Humidity (%) vs. Latitude Linear Regression"
   ]
  },
  {
   "cell_type": "code",
   "execution_count": 449,
   "metadata": {},
   "outputs": [
    {
     "name": "stdout",
     "output_type": "stream",
     "text": [
      "y = 0.01x + 73.25\n",
      "The r-square is: 0.005720226745982871\n"
     ]
    },
    {
     "data": {
      "image/png": "[encoded data removed]",
      "text/plain": [
       "<Figure size 432x288 with 1 Axes>"
      ]
     },
     "metadata": {
      "needs_background": "light"
     },
     "output_type": "display_data"
    }
   ],
   "source": [
    "#Data just for southern hemisphere, creating another dataframe\n",
    "southHemp_data = weatherCheck_cleandata.loc[weatherCheck_cleandata[\"lat\"] < 0]\n",
    "\n",
    "x = southHemp_data[\"lat\"]\n",
    "y = southHemp_data[\"Humidity\"]\n",
    "xy_1=-35\n",
    "xy_2=34\n",
    "\n",
    "#Can the defined function and pass the parameters\n",
    "plt.xlabel(\"Latitude\",fontsize=10)\n",
    "plt.ylabel(\"Humidity\",fontsize=10)\n",
    "linearRegression(x,y,xy_1,xy_2)\n",
    "plt.savefig(f\"Images/Southern Hemisphere - Humidity (%) vs. Latitude Linear Regression ({weatherDate}).png\")\n",
    "plt.show()"
   ]
  },
  {
   "cell_type": "code",
   "execution_count": 427,
   "metadata": {},
   "outputs": [],
   "source": [
    "### Insights on Northwern and Southern Hemisphere - Humidity (%) vs. Latitude Linear Regression\n",
    "## There is no correlation between Humidity and latitude"
   ]
  },
  {
   "cell_type": "markdown",
   "metadata": {},
   "source": [
    "####  Northern Hemisphere - Cloudiness (%) vs. Latitude Linear Regression"
   ]
  },
  {
   "cell_type": "code",
   "execution_count": 450,
   "metadata": {},
   "outputs": [
    {
     "name": "stdout",
     "output_type": "stream",
     "text": [
      "y = -0.06x + 61.13\n",
      "The r-square is: -0.0299254426318998\n"
     ]
    },
    {
     "data": {
      "image/png": "[encoded data removed]",
      "text/plain": [
       "<Figure size 432x288 with 1 Axes>"
      ]
     },
     "metadata": {
      "needs_background": "light"
     },
     "output_type": "display_data"
    }
   ],
   "source": [
    "#Data just for northern hemisphere, creating another dataframe\n",
    "northHemp_data = weatherCheck_cleandata.loc[weatherCheck_cleandata[\"lat\"] > 0]\n",
    "\n",
    "x = northHemp_data[\"lat\"]\n",
    "y = northHemp_data[\"Cloudiness\"]\n",
    "xy_1=40\n",
    "xy_2=45\n",
    "\n",
    "#Can the defined function and pass the parameters\n",
    "plt.xlabel(\"Latitude\",fontsize=10)\n",
    "plt.ylabel(\"Cloudiness\",fontsize=10)\n",
    "linearRegression(x,y,xy_1,xy_2)\n",
    "plt.savefig(f\"Images/Northern Hemisphere - Cloudiness (%) vs. Latitude Linear Regression ({weatherDate}).png\")\n",
    "plt.show()"
   ]
  },
  {
   "cell_type": "markdown",
   "metadata": {},
   "source": [
    "####  Southern Hemisphere - Cloudiness (%) vs. Latitude Linear Regression"
   ]
  },
  {
   "cell_type": "code",
   "execution_count": 451,
   "metadata": {},
   "outputs": [
    {
     "name": "stdout",
     "output_type": "stream",
     "text": [
      "y = -0.18x + 43.13\n",
      "The r-square is: -0.059457787131807306\n"
     ]
    },
    {
     "data": {
      "image/png": "[encoded data removed]",
      "text/plain": [
       "<Figure size 432x288 with 1 Axes>"
      ]
     },
     "metadata": {
      "needs_background": "light"
     },
     "output_type": "display_data"
    }
   ],
   "source": [
    "#Data just for southern hemisphere, creating another dataframe\n",
    "southHemp_data = weatherCheck_cleandata.loc[weatherCheck_cleandata[\"lat\"] < 0]\n",
    "\n",
    "x = southHemp_data[\"lat\"]\n",
    "y = southHemp_data[\"Cloudiness\"]\n",
    "xy_1=-25\n",
    "xy_2=60\n",
    "\n",
    "#Can the defined function and pass the parameters\n",
    "plt.xlabel(\"Latitude\",fontsize=10)\n",
    "plt.ylabel(\"Cloudiness\",fontsize=10)\n",
    "linearRegression(x,y,xy_1,xy_2)\n",
    "plt.savefig(f\"Images/Southern Hemisphere - Cloudiness (%) vs. Latitude Linear Regression ({weatherDate}).png\")\n",
    "plt.show()"
   ]
  },
  {
   "cell_type": "code",
   "execution_count": 430,
   "metadata": {},
   "outputs": [],
   "source": [
    "### Insights on Northwern and Southern Hemisphere -Cloudiness (%) vs. Latitude Linear Regression\n",
    "## There is no correlation between cloudiness and latitude"
   ]
  },
  {
   "cell_type": "markdown",
   "metadata": {},
   "source": [
    "####  Northern Hemisphere - Wind Speed (mph) vs. Latitude Linear Regression"
   ]
  },
  {
   "cell_type": "code",
   "execution_count": 452,
   "metadata": {},
   "outputs": [
    {
     "name": "stdout",
     "output_type": "stream",
     "text": [
      "y = 0.0x + 7.41\n",
      "The r-square is: 0.008244158011925696\n"
     ]
    },
    {
     "data": {
      "image/png": "[encoded data removed]",
      "text/plain": [
       "<Figure size 432x288 with 1 Axes>"
      ]
     },
     "metadata": {
      "needs_background": "light"
     },
     "output_type": "display_data"
    }
   ],
   "source": [
    "#Data just for northern hemisphere, creating another dataframe\n",
    "northHemp_data = weatherCheck_cleandata.loc[weatherCheck_cleandata[\"lat\"] > 0]\n",
    "\n",
    "x = northHemp_data[\"lat\"]\n",
    "y = northHemp_data[\"Wind Speed\"]\n",
    "xy_1=40\n",
    "xy_2=25\n",
    "\n",
    "#Can the defined function and pass the parameters\n",
    "plt.xlabel(\"Latitude\",fontsize=10)\n",
    "plt.ylabel(\"Wind Speed\",fontsize=10)\n",
    "linearRegression(x,y,xy_1,xy_2)\n",
    "plt.savefig(f\"Images/Northern Hemisphere - Wind Speed (mph) vs. Latitude Linear Regression ({weatherDate}).png\")\n",
    "plt.show()"
   ]
  },
  {
   "cell_type": "markdown",
   "metadata": {},
   "source": [
    "####  Southern Hemisphere - Wind Speed (mph) vs. Latitude Linear Regression"
   ]
  },
  {
   "cell_type": "code",
   "execution_count": 453,
   "metadata": {},
   "outputs": [
    {
     "name": "stdout",
     "output_type": "stream",
     "text": [
      "y = -0.07x + 6.55\n",
      "The r-square is: -0.15962718024081368\n"
     ]
    },
    {
     "data": {
      "image/png": "[encoded data removed]",
      "text/plain": [
       "<Figure size 432x288 with 1 Axes>"
      ]
     },
     "metadata": {
      "needs_background": "light"
     },
     "output_type": "display_data"
    }
   ],
   "source": [
    "#Data just for northern hemisphere, creating another dataframe\n",
    "southHemp_data = weatherCheck_cleandata.loc[weatherCheck_cleandata[\"lat\"] < 0]\n",
    "\n",
    "x = southHemp_data[\"lat\"]\n",
    "y = southHemp_data[\"Wind Speed\"]\n",
    "xy_1=-22\n",
    "xy_2=20\n",
    "\n",
    "#Can the defined function and pass the parameters\n",
    "plt.xlabel(\"Latitude\",fontsize=10)\n",
    "plt.ylabel(\"Wind Speed\",fontsize=10)\n",
    "linearRegression(x,y,xy_1,xy_2)\n",
    "plt.savefig(f\"Images/Southern Hemisphere - Wind Speed (mph) vs. Latitude Linear Regression ({weatherDate}).png\")\n",
    "plt.show()"
   ]
  },
  {
   "cell_type": "code",
   "execution_count": 433,
   "metadata": {},
   "outputs": [],
   "source": [
    "#### Insights on Northwern and Southern Hemisphere -Wind Speed (mph) vs. Latitude Linear Regression\n",
    "#### There is no correlation between Wind Speed and latitude."
   ]
  }
 ],
 "metadata": {
  "anaconda-cloud": {},
  "kernel_info": {
   "name": "python3"
  },
  "kernelspec": {
   "display_name": "PythonData",
   "language": "python",
   "name": "pythondata"
  },
  "language_info": {
   "codemirror_mode": {
    "name": "ipython",
    "version": 3
   },
   "file_extension": ".py",
   "mimetype": "text/x-python",
   "name": "python",
   "nbconvert_exporter": "python",
   "pygments_lexer": "ipython3",
   "version": "3.7.6"
  },
  "latex_envs": {
   "LaTeX_envs_menu_present": true,
   "autoclose": false,
   "autocomplete": true,
   "bibliofile": "biblio.bib",
   "cite_by": "apalike",
   "current_citInitial": 1,
   "eqLabelWithNumbers": true,
   "eqNumInitial": 1,
   "hotkeys": {
    "equation": "Ctrl-E",
    "itemize": "Ctrl-I"
   },
   "labels_anchors": false,
   "latex_user_defs": false,
   "report_style_numbering": false,
   "user_envs_cfg": false
  },
  "nteract": {
   "version": "0.12.3"
  }
 },
 "nbformat": 4,
 "nbformat_minor": 2
}
