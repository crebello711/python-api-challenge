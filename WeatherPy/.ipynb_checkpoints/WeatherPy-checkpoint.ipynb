{
 "cells": [
  {
   "cell_type": "markdown",
   "metadata": {},
   "source": [
    "# WeatherPy\n",
    "----\n",
    "\n",
    "#### Note\n",
    "* Instructions have been included for each segment. You do not have to follow them exactly, but they are included to help you think through the steps."
   ]
  },
  {
   "cell_type": "code",
   "execution_count": 275,
   "metadata": {
    "scrolled": true
   },
   "outputs": [],
   "source": [
    "# Dependencies and Setup\n",
    "import matplotlib.pyplot as plt\n",
    "import pandas as pd\n",
    "import numpy as np\n",
    "import requests\n",
    "import time\n",
    "from scipy.stats import linregress\n",
    "from pprint import pprint\n",
    "from IPython.display import display\n",
    "from datetime import datetime\n",
    "\n",
    "# Import API key\n",
    "from api_keys import weather_api_key\n",
    "\n",
    "# Incorporated citipy to determine city based on latitude and longitude\n",
    "from citipy import citipy\n",
    "\n",
    "# Output File (CSV)\n",
    "output_data_file = \"output_data/cities.csv\"\n",
    "\n",
    "# Range of latitudes and longitudes\n",
    "lat_range = (-90, 90)\n",
    "lng_range = (-180, 180)"
   ]
  },
  {
   "cell_type": "markdown",
   "metadata": {},
   "source": [
    "## Generate Cities List"
   ]
  },
  {
   "cell_type": "code",
   "execution_count": 276,
   "metadata": {},
   "outputs": [
    {
     "data": {
      "text/plain": [
       "620"
      ]
     },
     "execution_count": 276,
     "metadata": {},
     "output_type": "execute_result"
    }
   ],
   "source": [
    "# List for holding lat_lngs and cities\n",
    "lat_lngs = []\n",
    "cities = []\n",
    "\n",
    "# Create a set of random lat and lng combinations\n",
    "lats = np.random.uniform(lat_range[0], lat_range[1], size=1500)\n",
    "lngs = np.random.uniform(lng_range[0], lng_range[1], size=1500)\n",
    "\n",
    "lat_lngs = zip(lats, lngs)\n",
    "#print(list(zip(lats, lngs)))\n",
    "\n",
    "\n",
    "# Identify nearest city for each lat, lng combination\n",
    "for lat_lng in lat_lngs:\n",
    "    city = citipy.nearest_city(lat_lng[0], lat_lng[1]).city_name\n",
    "    \n",
    "    # If the city is unique, then add it to a our cities list\n",
    "    if city not in cities:\n",
    "        cities.append(city)\n",
    "#print(\"list of city : \",cities)\n",
    "\n",
    "# Print the city count to confirm sufficient count\n",
    "len(cities)"
   ]
  },
  {
   "cell_type": "markdown",
   "metadata": {},
   "source": [
    "### Perform API Calls\n",
    "* Perform a weather check on each city using a series of successive API calls.\n",
    "* Include a print log of each city as it'sbeing processed (with the city number and city name).\n"
   ]
  },
  {
   "cell_type": "code",
   "execution_count": 277,
   "metadata": {
    "scrolled": true
   },
   "outputs": [
    {
     "name": "stdout",
     "output_type": "stream",
     "text": [
      "<Response [400]>\n",
      "Beginning Data Retrieval\n",
      "-----------------------------\n",
      "Processing Record 1 of Set 1 | bengkulu\n",
      "Processing Record 2 of Set 1 | kodiak\n",
      "Processing Record 3 of Set 1 | new norfolk\n",
      "Processing Record 4 of Set 1 | punta arenas\n",
      "Processing Record 5 of Set 1 | amderma\n",
      "City not found. Skipping...\n",
      "Processing Record 6 of Set 1 | khatanga\n",
      "Processing Record 7 of Set 1 | belushya guba\n",
      "City not found. Skipping...\n",
      "Processing Record 8 of Set 1 | dingle\n",
      "Processing Record 9 of Set 1 | saint-augustin\n",
      "Processing Record 10 of Set 1 | nikolskoye\n",
      "Processing Record 11 of Set 1 | balkanabat\n",
      "Processing Record 12 of Set 1 | dudinka\n",
      "Processing Record 13 of Set 1 | busselton\n",
      "Processing Record 14 of Set 1 | antofagasta\n",
      "Processing Record 15 of Set 1 | tiksi\n",
      "Processing Record 16 of Set 1 | arman\n",
      "Processing Record 17 of Set 1 | bredasdorp\n",
      "Processing Record 18 of Set 1 | rikitea\n",
      "Processing Record 19 of Set 1 | ushuaia\n",
      "Processing Record 20 of Set 1 | abu samrah\n",
      "Processing Record 21 of Set 1 | orito\n",
      "Processing Record 22 of Set 1 | yatou\n",
      "Processing Record 23 of Set 1 | asau\n",
      "Processing Record 24 of Set 1 | mataura\n",
      "Processing Record 25 of Set 1 | saskylakh\n",
      "Processing Record 26 of Set 1 | anandpur sahib\n",
      "Processing Record 27 of Set 1 | illoqqortoormiut\n",
      "City not found. Skipping...\n",
      "Processing Record 28 of Set 1 | chuy\n",
      "Processing Record 29 of Set 1 | piopio\n",
      "Processing Record 30 of Set 1 | attawapiskat\n",
      "City not found. Skipping...\n",
      "Processing Record 31 of Set 1 | necochea\n",
      "Processing Record 32 of Set 1 | east london\n",
      "Processing Record 33 of Set 1 | chagda\n",
      "City not found. Skipping...\n",
      "Processing Record 34 of Set 1 | meshchovsk\n",
      "Processing Record 35 of Set 1 | taolanaro\n",
      "City not found. Skipping...\n",
      "Processing Record 36 of Set 1 | kita\n",
      "Processing Record 37 of Set 1 | at-bashi\n",
      "Processing Record 38 of Set 1 | airai\n",
      "Processing Record 39 of Set 1 | albany\n",
      "Processing Record 40 of Set 1 | vaini\n",
      "Processing Record 41 of Set 1 | jamestown\n",
      "Processing Record 42 of Set 1 | provideniya\n",
      "Processing Record 43 of Set 1 | solovetskiy\n",
      "City not found. Skipping...\n",
      "Processing Record 44 of Set 1 | sarh\n",
      "Processing Record 45 of Set 1 | ribeira grande\n",
      "Processing Record 46 of Set 1 | vila franca do campo\n",
      "Processing Record 47 of Set 1 | ponta do sol\n",
      "Processing Record 48 of Set 1 | tasiilaq\n",
      "Processing Record 49 of Set 1 | butaritari\n",
      "Processing Record 50 of Set 1 | maneadero\n",
      "Processing Record 1 of Set 2 | andra\n",
      "Processing Record 2 of Set 2 | dunedin\n",
      "Processing Record 3 of Set 2 | sorong\n",
      "Processing Record 4 of Set 2 | sikonge\n",
      "Processing Record 5 of Set 2 | taksimo\n",
      "Processing Record 6 of Set 2 | mount isa\n",
      "Processing Record 7 of Set 2 | saint-philippe\n",
      "Processing Record 8 of Set 2 | mushabani\n",
      "Processing Record 9 of Set 2 | kapaa\n",
      "Processing Record 10 of Set 2 | staunton\n",
      "Processing Record 11 of Set 2 | muisne\n",
      "Processing Record 12 of Set 2 | atuona\n",
      "Processing Record 13 of Set 2 | nizhneyansk\n",
      "City not found. Skipping...\n",
      "Processing Record 14 of Set 2 | sisimiut\n",
      "Processing Record 15 of Set 2 | coeneo\n",
      "Processing Record 16 of Set 2 | lakselv\n",
      "Processing Record 17 of Set 2 | mozhga\n",
      "Processing Record 18 of Set 2 | hovd\n",
      "Processing Record 19 of Set 2 | cabo san lucas\n",
      "Processing Record 20 of Set 2 | kudahuvadhoo\n",
      "Processing Record 21 of Set 2 | badaojiang\n",
      "City not found. Skipping...\n",
      "Processing Record 22 of Set 2 | almaznyy\n",
      "Processing Record 23 of Set 2 | roma\n",
      "Processing Record 24 of Set 2 | lebu\n",
      "Processing Record 25 of Set 2 | jawhar\n",
      "Processing Record 26 of Set 2 | dikson\n",
      "Processing Record 27 of Set 2 | puerto ayora\n",
      "Processing Record 28 of Set 2 | avarua\n",
      "Processing Record 29 of Set 2 | gigmoto\n",
      "Processing Record 30 of Set 2 | hilo\n",
      "Processing Record 31 of Set 2 | victoria\n",
      "Processing Record 32 of Set 2 | moron\n",
      "Processing Record 33 of Set 2 | barrow\n",
      "Processing Record 34 of Set 2 | port elizabeth\n",
      "Processing Record 35 of Set 2 | senno\n",
      "Processing Record 36 of Set 2 | umzimvubu\n",
      "City not found. Skipping...\n",
      "Processing Record 37 of Set 2 | san patricio\n",
      "Processing Record 38 of Set 2 | waipawa\n",
      "Processing Record 39 of Set 2 | cabatuan\n",
      "Processing Record 40 of Set 2 | port lincoln\n",
      "Processing Record 41 of Set 2 | namibe\n",
      "Processing Record 42 of Set 2 | ayr\n",
      "Processing Record 43 of Set 2 | srikakulam\n",
      "Processing Record 44 of Set 2 | hermanus\n",
      "Processing Record 45 of Set 2 | tomigusuku\n",
      "Processing Record 46 of Set 2 | lerwick\n",
      "Processing Record 47 of Set 2 | beloha\n",
      "Processing Record 48 of Set 2 | naze\n",
      "Processing Record 49 of Set 2 | nchelenge\n",
      "Processing Record 50 of Set 2 | chengde\n",
      "Processing Record 1 of Set 3 | polyarnyy\n",
      "Processing Record 2 of Set 3 | geraldton\n",
      "Processing Record 3 of Set 3 | tuktoyaktuk\n",
      "Processing Record 4 of Set 3 | hobart\n",
      "Processing Record 5 of Set 3 | los llanos de aridane\n",
      "Processing Record 6 of Set 3 | bluff\n",
      "Processing Record 7 of Set 3 | puerto penasco\n",
      "Processing Record 8 of Set 3 | lavrentiya\n",
      "Processing Record 9 of Set 3 | xiangxiang\n",
      "Processing Record 10 of Set 3 | carnarvon\n",
      "Processing Record 11 of Set 3 | ketchikan\n",
      "Processing Record 12 of Set 3 | shumskiy\n",
      "Processing Record 13 of Set 3 | dekar\n",
      "Processing Record 14 of Set 3 | ishigaki\n",
      "Processing Record 15 of Set 3 | domoni\n",
      "Processing Record 16 of Set 3 | hualmay\n",
      "Processing Record 17 of Set 3 | castro\n",
      "Processing Record 18 of Set 3 | lorengau\n",
      "Processing Record 19 of Set 3 | betma\n",
      "Processing Record 20 of Set 3 | florianopolis\n",
      "Processing Record 21 of Set 3 | noumea\n",
      "Processing Record 22 of Set 3 | kavieng\n",
      "Processing Record 23 of Set 3 | mys shmidta\n",
      "City not found. Skipping...\n",
      "Processing Record 24 of Set 3 | zhezkazgan\n",
      "Processing Record 25 of Set 3 | sentyabrskiy\n",
      "City not found. Skipping...\n",
      "Processing Record 26 of Set 3 | mount gambier\n",
      "Processing Record 27 of Set 3 | yellowknife\n",
      "Processing Record 28 of Set 3 | manado\n",
      "Processing Record 29 of Set 3 | chifeng\n",
      "Processing Record 30 of Set 3 | sampit\n",
      "Processing Record 31 of Set 3 | hannibal\n",
      "Processing Record 32 of Set 3 | faanui\n",
      "Processing Record 33 of Set 3 | chara\n",
      "Processing Record 34 of Set 3 | ust-kuyga\n",
      "Processing Record 35 of Set 3 | beidao\n",
      "Processing Record 36 of Set 3 | gasa\n",
      "Processing Record 37 of Set 3 | akyab\n",
      "Processing Record 38 of Set 3 | atka\n",
      "City not found. Skipping...\n",
      "Processing Record 39 of Set 3 | tuatapere\n",
      "Processing Record 40 of Set 3 | cape town\n",
      "Processing Record 41 of Set 3 | rio grande\n",
      "Processing Record 42 of Set 3 | tabiauea\n",
      "City not found. Skipping...\n",
      "Processing Record 43 of Set 3 | awjilah\n",
      "Processing Record 44 of Set 3 | keti bandar\n",
      "Processing Record 45 of Set 3 | iqaluit\n",
      "Processing Record 46 of Set 3 | vaitupu\n",
      "City not found. Skipping...\n",
      "Processing Record 47 of Set 3 | pevek\n",
      "Processing Record 48 of Set 3 | georgetown\n",
      "Processing Record 49 of Set 3 | chemax\n",
      "Processing Record 50 of Set 3 | ballitoville\n",
      "Processing Record 1 of Set 4 | ashland\n",
      "Processing Record 2 of Set 4 | lagoa\n",
      "Processing Record 3 of Set 4 | nurota\n",
      "Processing Record 4 of Set 4 | shenjiamen\n",
      "Processing Record 5 of Set 4 | lloydminster\n",
      "Processing Record 6 of Set 4 | calmar\n",
      "Processing Record 7 of Set 4 | yanam\n",
      "Processing Record 8 of Set 4 | boca do acre\n",
      "Processing Record 9 of Set 4 | manuk mangkaw\n",
      "Processing Record 10 of Set 4 | mul\n",
      "Processing Record 11 of Set 4 | tapaua\n",
      "City not found. Skipping...\n",
      "Processing Record 12 of Set 4 | santa isabel do rio negro\n",
      "Processing Record 13 of Set 4 | carballo\n",
      "Processing Record 14 of Set 4 | chiche\n",
      "Processing Record 15 of Set 4 | cowra\n",
      "Processing Record 16 of Set 4 | luderitz\n",
      "Processing Record 17 of Set 4 | zhangye\n",
      "Processing Record 18 of Set 4 | haifa\n",
      "Processing Record 19 of Set 4 | arraial do cabo\n",
      "Processing Record 20 of Set 4 | port alfred\n",
      "Processing Record 21 of Set 4 | bethel\n",
      "Processing Record 22 of Set 4 | bathsheba\n",
      "Processing Record 23 of Set 4 | grindavik\n",
      "Processing Record 24 of Set 4 | kaitangata\n",
      "Processing Record 25 of Set 4 | vanimo\n",
      "Processing Record 26 of Set 4 | westport\n",
      "Processing Record 27 of Set 4 | kargasok\n",
      "Processing Record 28 of Set 4 | barentsburg\n",
      "City not found. Skipping...\n",
      "Processing Record 29 of Set 4 | mar del plata\n",
      "Processing Record 30 of Set 4 | kamenka\n",
      "Processing Record 31 of Set 4 | hithadhoo\n",
      "Processing Record 32 of Set 4 | kahului\n",
      "Processing Record 33 of Set 4 | yeppoon\n",
      "Processing Record 34 of Set 4 | canitas\n",
      "City not found. Skipping...\n",
      "Processing Record 35 of Set 4 | rawannawi\n",
      "City not found. Skipping...\n",
      "Processing Record 36 of Set 4 | bur gabo\n",
      "City not found. Skipping...\n"
     ]
    },
    {
     "name": "stdout",
     "output_type": "stream",
     "text": [
      "Processing Record 37 of Set 4 | walvis bay\n",
      "Processing Record 38 of Set 4 | rio gallegos\n",
      "Processing Record 39 of Set 4 | ocos\n",
      "Processing Record 40 of Set 4 | neryungri\n",
      "Processing Record 41 of Set 4 | krasnoselkup\n",
      "Processing Record 42 of Set 4 | mandan\n",
      "Processing Record 43 of Set 4 | battle creek\n",
      "Processing Record 44 of Set 4 | grand river south east\n",
      "City not found. Skipping...\n",
      "Processing Record 45 of Set 4 | kaka\n",
      "Processing Record 46 of Set 4 | shancheng\n",
      "Processing Record 47 of Set 4 | dwarka\n",
      "Processing Record 48 of Set 4 | am timan\n",
      "Processing Record 49 of Set 4 | upernavik\n",
      "Processing Record 50 of Set 4 | saquena\n",
      "Processing Record 1 of Set 5 | yar-sale\n",
      "Processing Record 2 of Set 5 | twentynine palms\n",
      "Processing Record 3 of Set 5 | raudeberg\n",
      "Processing Record 4 of Set 5 | touros\n",
      "Processing Record 5 of Set 5 | gold coast\n",
      "Processing Record 6 of Set 5 | takayama\n",
      "Processing Record 7 of Set 5 | christchurch\n",
      "Processing Record 8 of Set 5 | acarau\n",
      "Processing Record 9 of Set 5 | montabaur\n",
      "Processing Record 10 of Set 5 | te anau\n",
      "Processing Record 11 of Set 5 | arrecife\n",
      "Processing Record 12 of Set 5 | camacari\n",
      "Processing Record 13 of Set 5 | corn island\n",
      "Processing Record 14 of Set 5 | xai-xai\n",
      "Processing Record 15 of Set 5 | soure\n",
      "Processing Record 16 of Set 5 | torring\n",
      "Processing Record 17 of Set 5 | thompson\n",
      "Processing Record 18 of Set 5 | hofn\n",
      "Processing Record 19 of Set 5 | inhambane\n",
      "Processing Record 20 of Set 5 | rosetown\n",
      "Processing Record 21 of Set 5 | tiebissou\n",
      "Processing Record 22 of Set 5 | nuuk\n",
      "Processing Record 23 of Set 5 | shenzhen\n",
      "Processing Record 24 of Set 5 | nikel\n",
      "Processing Record 25 of Set 5 | mildura\n",
      "Processing Record 26 of Set 5 | lasa\n",
      "Processing Record 27 of Set 5 | matara\n",
      "Processing Record 28 of Set 5 | aklavik\n",
      "Processing Record 29 of Set 5 | ola\n",
      "Processing Record 30 of Set 5 | banda aceh\n",
      "Processing Record 31 of Set 5 | sao filipe\n",
      "Processing Record 32 of Set 5 | doka\n",
      "Processing Record 33 of Set 5 | hunza\n",
      "City not found. Skipping...\n",
      "Processing Record 34 of Set 5 | pangody\n",
      "Processing Record 35 of Set 5 | tazovskiy\n",
      "Processing Record 36 of Set 5 | richards bay\n",
      "Processing Record 37 of Set 5 | phan rang\n",
      "City not found. Skipping...\n",
      "Processing Record 38 of Set 5 | ancud\n",
      "Processing Record 39 of Set 5 | gorontalo\n",
      "Processing Record 40 of Set 5 | barao de melgaco\n",
      "Processing Record 41 of Set 5 | saleaula\n",
      "City not found. Skipping...\n",
      "Processing Record 42 of Set 5 | korla\n",
      "Processing Record 43 of Set 5 | huarmey\n",
      "Processing Record 44 of Set 5 | saint george\n",
      "Processing Record 45 of Set 5 | esso\n",
      "Processing Record 46 of Set 5 | torredonjimeno\n",
      "Processing Record 47 of Set 5 | varadero\n",
      "Processing Record 48 of Set 5 | tumannyy\n",
      "City not found. Skipping...\n",
      "Processing Record 49 of Set 5 | ponta delgada\n",
      "Processing Record 50 of Set 5 | aksu\n",
      "Processing Record 1 of Set 6 | clyde river\n",
      "Processing Record 2 of Set 6 | khonuu\n",
      "City not found. Skipping...\n",
      "Processing Record 3 of Set 6 | januaria\n",
      "Processing Record 4 of Set 6 | mahebourg\n",
      "Processing Record 5 of Set 6 | komsomolskiy\n",
      "Processing Record 6 of Set 6 | norman wells\n",
      "Processing Record 7 of Set 6 | porangatu\n",
      "Processing Record 8 of Set 6 | acin\n",
      "City not found. Skipping...\n",
      "Processing Record 9 of Set 6 | guerrero negro\n",
      "Processing Record 10 of Set 6 | syasstroy\n",
      "Processing Record 11 of Set 6 | ust-nera\n",
      "Processing Record 12 of Set 6 | wenling\n",
      "Processing Record 13 of Set 6 | villanueva\n",
      "Processing Record 14 of Set 6 | praia da vitoria\n",
      "Processing Record 15 of Set 6 | hopelchen\n",
      "Processing Record 16 of Set 6 | charlestown\n",
      "Processing Record 17 of Set 6 | ahipara\n",
      "Processing Record 18 of Set 6 | biloela\n",
      "Processing Record 19 of Set 6 | karratha\n",
      "Processing Record 20 of Set 6 | camacha\n",
      "Processing Record 21 of Set 6 | laguna\n",
      "Processing Record 22 of Set 6 | pervomayskoye\n",
      "Processing Record 23 of Set 6 | longhua\n",
      "Processing Record 24 of Set 6 | yomitan\n",
      "City not found. Skipping...\n",
      "Processing Record 25 of Set 6 | honiara\n",
      "Processing Record 26 of Set 6 | kalmunai\n",
      "Processing Record 27 of Set 6 | nivala\n",
      "Processing Record 28 of Set 6 | stornoway\n",
      "Processing Record 29 of Set 6 | qaanaaq\n",
      "Processing Record 30 of Set 6 | belaya gora\n",
      "Processing Record 31 of Set 6 | kruisfontein\n",
      "Processing Record 32 of Set 6 | fortuna\n",
      "Processing Record 33 of Set 6 | bahia blanca\n",
      "Processing Record 34 of Set 6 | codrington\n",
      "Processing Record 35 of Set 6 | namatanai\n",
      "Processing Record 36 of Set 6 | half moon bay\n",
      "Processing Record 37 of Set 6 | san andres\n",
      "Processing Record 38 of Set 6 | borogontsy\n",
      "Processing Record 39 of Set 6 | sao joao da barra\n",
      "Processing Record 40 of Set 6 | ahvaz\n",
      "Processing Record 41 of Set 6 | auki\n",
      "Processing Record 42 of Set 6 | songkhla\n",
      "Processing Record 43 of Set 6 | requena\n",
      "Processing Record 44 of Set 6 | vytegra\n",
      "Processing Record 45 of Set 6 | salalah\n",
      "Processing Record 46 of Set 6 | souillac\n",
      "Processing Record 47 of Set 6 | sitka\n",
      "Processing Record 48 of Set 6 | zaozerne\n",
      "Processing Record 49 of Set 6 | ugoofaaru\n",
      "Processing Record 50 of Set 6 | flinders\n",
      "Processing Record 1 of Set 7 | vila\n",
      "Processing Record 2 of Set 7 | batticaloa\n",
      "Processing Record 3 of Set 7 | puri\n",
      "Processing Record 4 of Set 7 | dubrovka\n",
      "Processing Record 5 of Set 7 | bud\n",
      "Processing Record 6 of Set 7 | salinas\n",
      "Processing Record 7 of Set 7 | carutapera\n",
      "Processing Record 8 of Set 7 | le mars\n",
      "Processing Record 9 of Set 7 | beaverlodge\n",
      "Processing Record 10 of Set 7 | grand gaube\n",
      "Processing Record 11 of Set 7 | tahoua\n",
      "Processing Record 12 of Set 7 | tshikapa\n",
      "Processing Record 13 of Set 7 | saldanha\n",
      "Processing Record 14 of Set 7 | alice springs\n",
      "Processing Record 15 of Set 7 | luau\n",
      "Processing Record 16 of Set 7 | puerto colombia\n",
      "Processing Record 17 of Set 7 | torbay\n",
      "Processing Record 18 of Set 7 | saint pete beach\n",
      "Processing Record 19 of Set 7 | bakchar\n",
      "Processing Record 20 of Set 7 | sternai\n",
      "City not found. Skipping...\n",
      "Processing Record 21 of Set 7 | san jose\n",
      "Processing Record 22 of Set 7 | leh\n",
      "Processing Record 23 of Set 7 | isangel\n",
      "Processing Record 24 of Set 7 | pafos\n",
      "Processing Record 25 of Set 7 | jiujiang\n",
      "Processing Record 26 of Set 7 | coahuayana\n",
      "Processing Record 27 of Set 7 | kamen-rybolov\n",
      "Processing Record 28 of Set 7 | sosnogorsk\n",
      "Processing Record 29 of Set 7 | socorro\n",
      "Processing Record 30 of Set 7 | kavaratti\n",
      "Processing Record 31 of Set 7 | bambous virieux\n",
      "Processing Record 32 of Set 7 | ruatoria\n",
      "City not found. Skipping...\n",
      "Processing Record 33 of Set 7 | karauzyak\n",
      "City not found. Skipping...\n",
      "Processing Record 34 of Set 7 | mozhaysk\n",
      "Processing Record 35 of Set 7 | vardo\n",
      "Processing Record 36 of Set 7 | teya\n",
      "Processing Record 37 of Set 7 | ust-maya\n",
      "Processing Record 38 of Set 7 | solvychegodsk\n",
      "Processing Record 39 of Set 7 | wanning\n",
      "Processing Record 40 of Set 7 | cockburn harbour\n",
      "City not found. Skipping...\n",
      "Processing Record 41 of Set 7 | chokurdakh\n",
      "Processing Record 42 of Set 7 | juneau\n",
      "Processing Record 43 of Set 7 | boa vista\n",
      "Processing Record 44 of Set 7 | oda\n",
      "Processing Record 45 of Set 7 | sozimskiy\n",
      "Processing Record 46 of Set 7 | flin flon\n",
      "Processing Record 47 of Set 7 | svetlaya\n",
      "Processing Record 48 of Set 7 | nanortalik\n",
      "Processing Record 49 of Set 7 | sokolow podlaski\n",
      "Processing Record 50 of Set 7 | oistins\n",
      "Processing Record 1 of Set 8 | mahadday weyne\n",
      "City not found. Skipping...\n",
      "Processing Record 2 of Set 8 | vilcun\n",
      "Processing Record 3 of Set 8 | klyuchi\n",
      "Processing Record 4 of Set 8 | jarjis\n",
      "City not found. Skipping...\n",
      "Processing Record 5 of Set 8 | mergui\n",
      "City not found. Skipping...\n",
      "Processing Record 6 of Set 8 | buchanan\n",
      "Processing Record 7 of Set 8 | takoradi\n",
      "Processing Record 8 of Set 8 | lompoc\n",
      "Processing Record 9 of Set 8 | alofi\n",
      "Processing Record 10 of Set 8 | luangwa\n",
      "Processing Record 11 of Set 8 | karaul\n",
      "City not found. Skipping...\n",
      "Processing Record 12 of Set 8 | cidreira\n",
      "Processing Record 13 of Set 8 | sorvag\n",
      "City not found. Skipping...\n",
      "Processing Record 14 of Set 8 | yongan\n",
      "Processing Record 15 of Set 8 | tombouctou\n",
      "Processing Record 16 of Set 8 | pangnirtung\n",
      "Processing Record 17 of Set 8 | benguela\n",
      "Processing Record 18 of Set 8 | ajdabiya\n",
      "Processing Record 19 of Set 8 | haines junction\n",
      "Processing Record 20 of Set 8 | itaueira\n",
      "Processing Record 21 of Set 8 | pingliang\n",
      "Processing Record 22 of Set 8 | severo-kurilsk\n",
      "Processing Record 23 of Set 8 | tawkar\n",
      "City not found. Skipping...\n"
     ]
    },
    {
     "name": "stdout",
     "output_type": "stream",
     "text": [
      "Processing Record 24 of Set 8 | garowe\n",
      "Processing Record 25 of Set 8 | yulara\n",
      "Processing Record 26 of Set 8 | tsihombe\n",
      "City not found. Skipping...\n",
      "Processing Record 27 of Set 8 | ilhabela\n",
      "Processing Record 28 of Set 8 | dese\n",
      "Processing Record 29 of Set 8 | srednekolymsk\n",
      "Processing Record 30 of Set 8 | manta\n",
      "Processing Record 31 of Set 8 | yarada\n",
      "Processing Record 32 of Set 8 | ostrovnoy\n",
      "Processing Record 33 of Set 8 | arkhangelsk\n",
      "Processing Record 34 of Set 8 | amot\n",
      "Processing Record 35 of Set 8 | vestmannaeyjar\n",
      "Processing Record 36 of Set 8 | rawson\n",
      "Processing Record 37 of Set 8 | marcona\n",
      "City not found. Skipping...\n",
      "Processing Record 38 of Set 8 | hailar\n",
      "Processing Record 39 of Set 8 | nalut\n",
      "Processing Record 40 of Set 8 | alta floresta\n",
      "Processing Record 41 of Set 8 | seydi\n",
      "Processing Record 42 of Set 8 | nuevo progreso\n",
      "Processing Record 43 of Set 8 | serenje\n",
      "Processing Record 44 of Set 8 | yumen\n",
      "Processing Record 45 of Set 8 | andrelandia\n",
      "Processing Record 46 of Set 8 | okoneshnikovo\n",
      "Processing Record 47 of Set 8 | klaksvik\n",
      "Processing Record 48 of Set 8 | dzhusaly\n",
      "City not found. Skipping...\n",
      "Processing Record 49 of Set 8 | vostok\n",
      "Processing Record 50 of Set 8 | mokhsogollokh\n",
      "Processing Record 1 of Set 9 | kieta\n",
      "Processing Record 2 of Set 9 | great yarmouth\n",
      "Processing Record 3 of Set 9 | kuito\n",
      "Processing Record 4 of Set 9 | acapulco\n",
      "Processing Record 5 of Set 9 | san cristobal\n",
      "Processing Record 6 of Set 9 | saint anthony\n",
      "Processing Record 7 of Set 9 | pangai\n",
      "Processing Record 8 of Set 9 | oyama\n",
      "Processing Record 9 of Set 9 | tabarqah\n",
      "City not found. Skipping...\n",
      "Processing Record 10 of Set 9 | viedma\n",
      "Processing Record 11 of Set 9 | kamina\n",
      "Processing Record 12 of Set 9 | altamira\n",
      "Processing Record 13 of Set 9 | zheleznodorozhnyy\n",
      "Processing Record 14 of Set 9 | puerto leguizamo\n",
      "Processing Record 15 of Set 9 | igarka\n",
      "Processing Record 16 of Set 9 | yalta\n",
      "Processing Record 17 of Set 9 | manakara\n",
      "Processing Record 18 of Set 9 | shelby\n",
      "Processing Record 19 of Set 9 | jinchang\n",
      "Processing Record 20 of Set 9 | nador\n",
      "Processing Record 21 of Set 9 | tambacounda\n",
      "Processing Record 22 of Set 9 | saleilua\n",
      "City not found. Skipping...\n",
      "Processing Record 23 of Set 9 | utiroa\n",
      "City not found. Skipping...\n",
      "Processing Record 24 of Set 9 | muncar\n",
      "Processing Record 25 of Set 9 | hammerfest\n",
      "Processing Record 26 of Set 9 | constitucion\n",
      "Processing Record 27 of Set 9 | mwinilunga\n",
      "Processing Record 28 of Set 9 | husavik\n",
      "Processing Record 29 of Set 9 | shangrao\n",
      "Processing Record 30 of Set 9 | nome\n",
      "Processing Record 31 of Set 9 | saint-pierre\n",
      "Processing Record 32 of Set 9 | sambava\n",
      "Processing Record 33 of Set 9 | da nang\n",
      "Processing Record 34 of Set 9 | hasaki\n",
      "Processing Record 35 of Set 9 | livingston\n",
      "Processing Record 36 of Set 9 | mirnyy\n",
      "Processing Record 37 of Set 9 | kondinskoye\n",
      "Processing Record 38 of Set 9 | cooma\n",
      "Processing Record 39 of Set 9 | lago da pedra\n",
      "Processing Record 40 of Set 9 | kilemary\n",
      "Processing Record 41 of Set 9 | katsuura\n",
      "Processing Record 42 of Set 9 | palabuhanratu\n",
      "City not found. Skipping...\n",
      "Processing Record 43 of Set 9 | adrar\n",
      "Processing Record 44 of Set 9 | qaqortoq\n",
      "Processing Record 45 of Set 9 | broken hill\n",
      "Processing Record 46 of Set 9 | caconda\n",
      "Processing Record 47 of Set 9 | harindanga\n",
      "Processing Record 48 of Set 9 | tual\n",
      "Processing Record 49 of Set 9 | ust-ilimsk\n",
      "Processing Record 50 of Set 9 | calama\n",
      "Processing Record 1 of Set 10 | mana\n",
      "Processing Record 2 of Set 10 | hervey bay\n",
      "Processing Record 3 of Set 10 | pacifica\n",
      "Processing Record 4 of Set 10 | hami\n",
      "Processing Record 5 of Set 10 | beringovskiy\n",
      "Processing Record 6 of Set 10 | broome\n",
      "Processing Record 7 of Set 10 | bontang\n",
      "Processing Record 8 of Set 10 | nantucket\n",
      "Processing Record 9 of Set 10 | kamenskoye\n",
      "City not found. Skipping...\n",
      "Processing Record 10 of Set 10 | progreso\n",
      "Processing Record 11 of Set 10 | ndioum\n",
      "Processing Record 12 of Set 10 | launceston\n",
      "Processing Record 13 of Set 10 | meyungs\n",
      "City not found. Skipping...\n",
      "Processing Record 14 of Set 10 | nemuro\n",
      "Processing Record 15 of Set 10 | parabel\n",
      "Processing Record 16 of Set 10 | oksfjord\n",
      "Processing Record 17 of Set 10 | veraval\n",
      "Processing Record 18 of Set 10 | kaseda\n",
      "Processing Record 19 of Set 10 | mufulira\n",
      "Processing Record 20 of Set 10 | maracaibo\n",
      "Processing Record 21 of Set 10 | mareeba\n",
      "Processing Record 22 of Set 10 | ulladulla\n",
      "Processing Record 23 of Set 10 | tevriz\n",
      "Processing Record 24 of Set 10 | bereda\n",
      "Processing Record 25 of Set 10 | sinnamary\n",
      "Processing Record 26 of Set 10 | katakwi\n",
      "Processing Record 27 of Set 10 | kosino\n",
      "Processing Record 28 of Set 10 | sorland\n",
      "Processing Record 29 of Set 10 | ulaanbaatar\n",
      "Processing Record 30 of Set 10 | empalme\n",
      "Processing Record 31 of Set 10 | berlevag\n",
      "Processing Record 32 of Set 10 | port maria\n",
      "Processing Record 33 of Set 10 | nuevo casas grandes\n",
      "Processing Record 34 of Set 10 | longyearbyen\n",
      "Processing Record 35 of Set 10 | fayaoue\n",
      "Processing Record 36 of Set 10 | bairiki\n",
      "Processing Record 37 of Set 10 | hamilton\n",
      "Processing Record 38 of Set 10 | newport\n",
      "Processing Record 39 of Set 10 | cecina\n",
      "Processing Record 40 of Set 10 | lugazi\n",
      "Processing Record 41 of Set 10 | dubenskiy\n",
      "City not found. Skipping...\n",
      "Processing Record 42 of Set 10 | carahue\n",
      "Processing Record 43 of Set 10 | santa maria del oro\n",
      "Processing Record 44 of Set 10 | bloemhof\n",
      "Processing Record 45 of Set 10 | esperance\n",
      "Processing Record 46 of Set 10 | memaliaj\n",
      "Processing Record 47 of Set 10 | pauini\n",
      "Processing Record 48 of Set 10 | akcaabat\n",
      "Processing Record 49 of Set 10 | pecos\n",
      "Processing Record 50 of Set 10 | slidell\n",
      "Processing Record 1 of Set 11 | gamba\n",
      "Processing Record 2 of Set 11 | baykit\n",
      "Processing Record 3 of Set 11 | dekoa\n",
      "City not found. Skipping...\n",
      "Processing Record 4 of Set 11 | zhanjiang\n",
      "Processing Record 5 of Set 11 | ahuimanu\n",
      "Processing Record 6 of Set 11 | rungata\n",
      "City not found. Skipping...\n",
      "Processing Record 7 of Set 11 | kutum\n",
      "Processing Record 8 of Set 11 | coatzintla\n",
      "Processing Record 9 of Set 11 | canto do buriti\n",
      "Processing Record 10 of Set 11 | dolbeau\n",
      "City not found. Skipping...\n",
      "Processing Record 11 of Set 11 | warqla\n",
      "City not found. Skipping...\n",
      "Processing Record 12 of Set 11 | galesburg\n",
      "Processing Record 13 of Set 11 | high level\n",
      "Processing Record 14 of Set 11 | doctor pedro p. pena\n",
      "City not found. Skipping...\n",
      "Processing Record 15 of Set 11 | ye\n",
      "City not found. Skipping...\n",
      "Processing Record 16 of Set 11 | hirara\n",
      "Processing Record 17 of Set 11 | bara\n",
      "Processing Record 18 of Set 11 | tamandare\n",
      "Processing Record 19 of Set 11 | andenes\n",
      "Processing Record 20 of Set 11 | helong\n",
      "Processing Record 21 of Set 11 | la romana\n",
      "Processing Record 22 of Set 11 | fort nelson\n",
      "Processing Record 23 of Set 11 | belgrade\n",
      "Processing Record 24 of Set 11 | kisangani\n",
      "Processing Record 25 of Set 11 | henties bay\n",
      "Processing Record 26 of Set 11 | vila velha\n",
      "Processing Record 27 of Set 11 | cherskiy\n",
      "Processing Record 28 of Set 11 | karkaralinsk\n",
      "City not found. Skipping...\n",
      "Processing Record 29 of Set 11 | saraza\n",
      "Processing Record 30 of Set 11 | luanshya\n",
      "Processing Record 31 of Set 11 | manaure\n",
      "Processing Record 32 of Set 11 | charters towers\n",
      "Processing Record 33 of Set 11 | ambanja\n",
      "Processing Record 34 of Set 11 | pacific grove\n",
      "Processing Record 35 of Set 11 | pala\n",
      "Processing Record 36 of Set 11 | si satchanalai\n",
      "Processing Record 37 of Set 11 | qurayyat\n",
      "Processing Record 38 of Set 11 | gawler\n",
      "Processing Record 39 of Set 11 | calvia\n",
      "Processing Record 40 of Set 11 | kang\n",
      "Processing Record 41 of Set 11 | bulgan\n",
      "Processing Record 42 of Set 11 | samusu\n",
      "City not found. Skipping...\n",
      "Processing Record 43 of Set 11 | kingman\n",
      "Processing Record 44 of Set 11 | olafsvik\n",
      "Processing Record 45 of Set 11 | vilhena\n",
      "Processing Record 46 of Set 11 | saint-prosper\n",
      "Processing Record 47 of Set 11 | tabriz\n",
      "Processing Record 48 of Set 11 | alexandria\n",
      "Processing Record 49 of Set 11 | sutysky\n",
      "Processing Record 50 of Set 11 | banepa\n",
      "Processing Record 1 of Set 12 | la ronge\n",
      "Processing Record 2 of Set 12 | manzhouli\n",
      "Processing Record 3 of Set 12 | petropavlovsk-kamchatskiy\n",
      "Processing Record 4 of Set 12 | mitsamiouli\n",
      "Processing Record 5 of Set 12 | kyzyl-suu\n",
      "Processing Record 6 of Set 12 | nelson bay\n",
      "Processing Record 7 of Set 12 | zaigrayevo\n",
      "Processing Record 8 of Set 12 | odweyne\n"
     ]
    },
    {
     "name": "stdout",
     "output_type": "stream",
     "text": [
      "Processing Record 9 of Set 12 | maragogi\n",
      "Processing Record 10 of Set 12 | alotau\n",
      "City not found. Skipping...\n",
      "Processing Record 11 of Set 12 | envira\n",
      "Processing Record 12 of Set 12 | renfrew\n",
      "Processing Record 13 of Set 12 | dongsheng\n",
      "Processing Record 14 of Set 12 | samarai\n",
      "Processing Record 15 of Set 12 | nakajo\n",
      "City not found. Skipping...\n",
      "Processing Record 16 of Set 12 | les cayes\n",
      "Processing Record 17 of Set 12 | wulanhaote\n",
      "City not found. Skipping...\n",
      "Processing Record 18 of Set 12 | vigrestad\n",
      "Processing Record 19 of Set 12 | lushunkou\n",
      "City not found. Skipping...\n",
      "Processing Record 20 of Set 12 | tver\n",
      "Processing Record 21 of Set 12 | kandrian\n",
      "Processing Record 22 of Set 12 | vanavara\n",
      "Processing Record 23 of Set 12 | halalo\n",
      "City not found. Skipping...\n",
      "Processing Record 24 of Set 12 | mecca\n",
      "Processing Record 25 of Set 12 | tadine\n",
      "Processing Record 26 of Set 12 | jackson\n",
      "Processing Record 27 of Set 12 | jiaozhou\n",
      "Processing Record 28 of Set 12 | luanda\n",
      "Processing Record 29 of Set 12 | ojinaga\n",
      "Processing Record 30 of Set 12 | koslan\n",
      "Processing Record 31 of Set 12 | pringsewu\n",
      "Processing Record 32 of Set 12 | botwood\n",
      "Processing Record 33 of Set 12 | zhigansk\n",
      "Processing Record 34 of Set 12 | olga\n",
      "Processing Record 35 of Set 12 | bati\n",
      "Processing Record 36 of Set 12 | eureka\n",
      "Processing Record 37 of Set 12 | labuhan\n",
      "Processing Record 38 of Set 12 | ikorodu\n",
      "Processing Record 39 of Set 12 | sabzevar\n",
      "Processing Record 40 of Set 12 | halifax\n",
      "Processing Record 41 of Set 12 | archidona\n",
      "Processing Record 42 of Set 12 | guben\n",
      "Processing Record 43 of Set 12 | san carlos\n",
      "Processing Record 44 of Set 12 | arona\n",
      "Processing Record 45 of Set 12 | severnyy\n",
      "Processing Record 46 of Set 12 | japura\n",
      "Processing Record 47 of Set 12 | deputatskiy\n",
      "Processing Record 48 of Set 12 | sayyan\n",
      "Processing Record 49 of Set 12 | evensk\n",
      "Processing Record 50 of Set 12 | bilma\n",
      "Processing Record 1 of Set 13 | lardos\n",
      "Processing Record 2 of Set 13 | port augusta\n",
      "Processing Record 3 of Set 13 | soyo\n",
      "Processing Record 4 of Set 13 | goedereede\n",
      "Processing Record 5 of Set 13 | tessalit\n",
      "Processing Record 6 of Set 13 | igunga\n",
      "Processing Record 7 of Set 13 | fairbanks\n",
      "Processing Record 8 of Set 13 | sassenberg\n",
      "Processing Record 9 of Set 13 | dvorichna\n",
      "Processing Record 10 of Set 13 | leningradskiy\n",
      "Processing Record 11 of Set 13 | alugan\n",
      "Processing Record 12 of Set 13 | tarudant\n",
      "City not found. Skipping...\n",
      "Processing Record 13 of Set 13 | oranjemund\n",
      "Processing Record 14 of Set 13 | talnakh\n",
      "Processing Record 15 of Set 13 | mogadishu\n",
      "Processing Record 16 of Set 13 | cobija\n",
      "Processing Record 17 of Set 13 | maldonado\n",
      "Processing Record 18 of Set 13 | izumo\n",
      "Processing Record 19 of Set 13 | two hills\n",
      "Processing Record 20 of Set 13 | bata\n",
      "   \n",
      "-----------------------------\n",
      "Data Retrieval Complete      \n",
      "-----------------------------\n",
      "**Number of Cities Not found:  62\n"
     ]
    }
   ],
   "source": [
    "\n",
    "#url =f\"https://api.openweathermap.org/data/2.5/weather?\"\n",
    "url =\"http://api.openweathermap.org/data/2.5/weather?units=Imperial&APPID=\"+weather_api_key\n",
    "#print(url)\n",
    "response=requests.get(url)\n",
    "print(response)\n",
    "\n",
    "#initialize \n",
    "recordNum=1\n",
    "setNum =1\n",
    "numCityNotFound =0\n",
    "\n",
    "# Create a dictionary for weather check dataframe (based on the dataframe given in started code)\n",
    "weatherCheck_dict = {\"city\":cities,\n",
    "                     \"lon\": \"\",\n",
    "                     \"lat\": \"\",\n",
    "                     \"Max Temp\": \"\",\n",
    "                     \"Humidity\": \"\",\n",
    "                     \"Cloudiness\": \"\",\n",
    "                     \"Wind Speed\": \"\",\n",
    "                     \"Country\": \"\",\n",
    "                     \"Date\": \"\" }\n",
    "\n",
    "weatherCheck_data = pd.DataFrame(weatherCheck_dict)\n",
    "\n",
    "print('''Beginning Data Retrieval\n",
    "-----------------------------''')\n",
    "#Loop through list of cities and perform a request for data on each of them\n",
    "\n",
    "for city in cities:\n",
    "    \n",
    "    query_url =f\"{url}&q={city}\"\n",
    "    #print(query_url)\n",
    "    response =requests.get(query_url).json()\n",
    "    #print(response)\n",
    "    #Try except block to catch the missing city and skipping that one\n",
    "    try:\n",
    "        #print log\n",
    "        print(\"Processing Record\",recordNum,\"of Set\",setNum,\"|\",city)\n",
    "        #Insert data into dataframe\n",
    "        weatherCheck_data.loc[weatherCheck_data['city'] == city, 'lon'] = response['coord']['lon']\n",
    "        weatherCheck_data.loc[weatherCheck_data['city'] == city, 'lat'] = response['coord']['lat']\n",
    "        weatherCheck_data.loc[weatherCheck_data['city'] == city, 'Max Temp'] = response['main']['temp_max']\n",
    "        weatherCheck_data.loc[weatherCheck_data['city'] == city, 'Humidity'] = response['main']['humidity']\n",
    "        weatherCheck_data.loc[weatherCheck_data['city'] == city, 'Cloudiness'] = response['clouds']['all']\n",
    "        weatherCheck_data.loc[weatherCheck_data['city'] == city, 'Wind Speed'] = response['wind']['speed']\n",
    "        weatherCheck_data.loc[weatherCheck_data['city'] == city, 'Country'] = response['sys']['country']\n",
    "        weatherCheck_data.loc[weatherCheck_data['city'] == city, 'Date'] = response['dt']\n",
    "    except :\n",
    "        print(\"City not found. Skipping...\")\n",
    "        numCityNotFound+=1\n",
    "        \n",
    "    #increment the record num count\n",
    "    recordNum+=1\n",
    "    #Condition to print sets by breakig the records into 50 each\n",
    "    if recordNum == 51:\n",
    "        setNum+=1\n",
    "        recordNum =1\n",
    "        #time.sleep(60)\n",
    "      \n",
    "print('''   \n",
    "-----------------------------\n",
    "Data Retrieval Complete      \n",
    "-----------------------------''')\n",
    "\n",
    "print(\"**Number of Cities Not found: \",numCityNotFound)"
   ]
  },
  {
   "cell_type": "markdown",
   "metadata": {},
   "source": [
    "### Convert Raw Data to DataFrame\n",
    "* Export the city data into a .csv.\n",
    "* Display the DataFrame"
   ]
  },
  {
   "cell_type": "code",
   "execution_count": 278,
   "metadata": {},
   "outputs": [
    {
     "data": {
      "text/html": [
       "<div>\n",
       "<style scoped>\n",
       "    .dataframe tbody tr th:only-of-type {\n",
       "        vertical-align: middle;\n",
       "    }\n",
       "\n",
       "    .dataframe tbody tr th {\n",
       "        vertical-align: top;\n",
       "    }\n",
       "\n",
       "    .dataframe thead th {\n",
       "        text-align: right;\n",
       "    }\n",
       "</style>\n",
       "<table border=\"1\" class=\"dataframe\">\n",
       "  <thead>\n",
       "    <tr style=\"text-align: right;\">\n",
       "      <th></th>\n",
       "      <th>city</th>\n",
       "      <th>lon</th>\n",
       "      <th>lat</th>\n",
       "      <th>Max Temp</th>\n",
       "      <th>Humidity</th>\n",
       "      <th>Cloudiness</th>\n",
       "      <th>Wind Speed</th>\n",
       "      <th>Country</th>\n",
       "      <th>Date</th>\n",
       "    </tr>\n",
       "  </thead>\n",
       "  <tbody>\n",
       "    <tr>\n",
       "      <th>0</th>\n",
       "      <td>bengkulu</td>\n",
       "      <td>102.2655</td>\n",
       "      <td>-3.8004</td>\n",
       "      <td>74.01</td>\n",
       "      <td>92</td>\n",
       "      <td>94</td>\n",
       "      <td>2.28</td>\n",
       "      <td>ID</td>\n",
       "      <td>1659565314</td>\n",
       "    </tr>\n",
       "    <tr>\n",
       "      <th>1</th>\n",
       "      <td>kodiak</td>\n",
       "      <td>-152.4072</td>\n",
       "      <td>57.79</td>\n",
       "      <td>67.51</td>\n",
       "      <td>56</td>\n",
       "      <td>0</td>\n",
       "      <td>13.8</td>\n",
       "      <td>US</td>\n",
       "      <td>1659565315</td>\n",
       "    </tr>\n",
       "    <tr>\n",
       "      <th>2</th>\n",
       "      <td>new norfolk</td>\n",
       "      <td>147.0587</td>\n",
       "      <td>-42.7826</td>\n",
       "      <td>51.93</td>\n",
       "      <td>86</td>\n",
       "      <td>50</td>\n",
       "      <td>1.01</td>\n",
       "      <td>AU</td>\n",
       "      <td>1659565315</td>\n",
       "    </tr>\n",
       "    <tr>\n",
       "      <th>3</th>\n",
       "      <td>punta arenas</td>\n",
       "      <td>-70.9167</td>\n",
       "      <td>-53.15</td>\n",
       "      <td>39.31</td>\n",
       "      <td>87</td>\n",
       "      <td>75</td>\n",
       "      <td>13.8</td>\n",
       "      <td>CL</td>\n",
       "      <td>1659565100</td>\n",
       "    </tr>\n",
       "    <tr>\n",
       "      <th>4</th>\n",
       "      <td>amderma</td>\n",
       "      <td></td>\n",
       "      <td></td>\n",
       "      <td></td>\n",
       "      <td></td>\n",
       "      <td></td>\n",
       "      <td></td>\n",
       "      <td></td>\n",
       "      <td></td>\n",
       "    </tr>\n",
       "    <tr>\n",
       "      <th>5</th>\n",
       "      <td>khatanga</td>\n",
       "      <td>102.5</td>\n",
       "      <td>71.9667</td>\n",
       "      <td>50.54</td>\n",
       "      <td>66</td>\n",
       "      <td>100</td>\n",
       "      <td>9.35</td>\n",
       "      <td>RU</td>\n",
       "      <td>1659565316</td>\n",
       "    </tr>\n",
       "    <tr>\n",
       "      <th>6</th>\n",
       "      <td>belushya guba</td>\n",
       "      <td></td>\n",
       "      <td></td>\n",
       "      <td></td>\n",
       "      <td></td>\n",
       "      <td></td>\n",
       "      <td></td>\n",
       "      <td></td>\n",
       "      <td></td>\n",
       "    </tr>\n",
       "    <tr>\n",
       "      <th>7</th>\n",
       "      <td>dingle</td>\n",
       "      <td>122.6711</td>\n",
       "      <td>10.9995</td>\n",
       "      <td>76.66</td>\n",
       "      <td>91</td>\n",
       "      <td>99</td>\n",
       "      <td>3.2</td>\n",
       "      <td>PH</td>\n",
       "      <td>1659565316</td>\n",
       "    </tr>\n",
       "    <tr>\n",
       "      <th>8</th>\n",
       "      <td>saint-augustin</td>\n",
       "      <td>-58.6502</td>\n",
       "      <td>51.226</td>\n",
       "      <td>66.7</td>\n",
       "      <td>70</td>\n",
       "      <td>16</td>\n",
       "      <td>10.36</td>\n",
       "      <td>CA</td>\n",
       "      <td>1659565316</td>\n",
       "    </tr>\n",
       "    <tr>\n",
       "      <th>9</th>\n",
       "      <td>nikolskoye</td>\n",
       "      <td>30.7861</td>\n",
       "      <td>59.7035</td>\n",
       "      <td>62.49</td>\n",
       "      <td>85</td>\n",
       "      <td>39</td>\n",
       "      <td>2.75</td>\n",
       "      <td>RU</td>\n",
       "      <td>1659565317</td>\n",
       "    </tr>\n",
       "    <tr>\n",
       "      <th>10</th>\n",
       "      <td>balkanabat</td>\n",
       "      <td>54.3671</td>\n",
       "      <td>39.5108</td>\n",
       "      <td>91.18</td>\n",
       "      <td>19</td>\n",
       "      <td>17</td>\n",
       "      <td>7.72</td>\n",
       "      <td>TM</td>\n",
       "      <td>1659565317</td>\n",
       "    </tr>\n",
       "    <tr>\n",
       "      <th>11</th>\n",
       "      <td>dudinka</td>\n",
       "      <td>86.1778</td>\n",
       "      <td>69.4058</td>\n",
       "      <td>51.62</td>\n",
       "      <td>67</td>\n",
       "      <td>15</td>\n",
       "      <td>2.51</td>\n",
       "      <td>RU</td>\n",
       "      <td>1659565317</td>\n",
       "    </tr>\n",
       "    <tr>\n",
       "      <th>12</th>\n",
       "      <td>busselton</td>\n",
       "      <td>115.3333</td>\n",
       "      <td>-33.65</td>\n",
       "      <td>52.99</td>\n",
       "      <td>72</td>\n",
       "      <td>91</td>\n",
       "      <td>17.07</td>\n",
       "      <td>AU</td>\n",
       "      <td>1659565317</td>\n",
       "    </tr>\n",
       "    <tr>\n",
       "      <th>13</th>\n",
       "      <td>antofagasta</td>\n",
       "      <td>-70.4</td>\n",
       "      <td>-23.65</td>\n",
       "      <td>58.28</td>\n",
       "      <td>77</td>\n",
       "      <td>4</td>\n",
       "      <td>10.36</td>\n",
       "      <td>CL</td>\n",
       "      <td>1659565088</td>\n",
       "    </tr>\n",
       "    <tr>\n",
       "      <th>14</th>\n",
       "      <td>tiksi</td>\n",
       "      <td>128.8694</td>\n",
       "      <td>71.6872</td>\n",
       "      <td>44.71</td>\n",
       "      <td>76</td>\n",
       "      <td>99</td>\n",
       "      <td>8.21</td>\n",
       "      <td>RU</td>\n",
       "      <td>1659565318</td>\n",
       "    </tr>\n",
       "  </tbody>\n",
       "</table>\n",
       "</div>"
      ],
      "text/plain": [
       "              city       lon      lat Max Temp Humidity Cloudiness Wind Speed  \\\n",
       "0         bengkulu  102.2655  -3.8004    74.01       92         94       2.28   \n",
       "1           kodiak -152.4072    57.79    67.51       56          0       13.8   \n",
       "2      new norfolk  147.0587 -42.7826    51.93       86         50       1.01   \n",
       "3     punta arenas  -70.9167   -53.15    39.31       87         75       13.8   \n",
       "4          amderma                                                              \n",
       "5         khatanga     102.5  71.9667    50.54       66        100       9.35   \n",
       "6    belushya guba                                                              \n",
       "7           dingle  122.6711  10.9995    76.66       91         99        3.2   \n",
       "8   saint-augustin  -58.6502   51.226     66.7       70         16      10.36   \n",
       "9       nikolskoye   30.7861  59.7035    62.49       85         39       2.75   \n",
       "10      balkanabat   54.3671  39.5108    91.18       19         17       7.72   \n",
       "11         dudinka   86.1778  69.4058    51.62       67         15       2.51   \n",
       "12       busselton  115.3333   -33.65    52.99       72         91      17.07   \n",
       "13     antofagasta     -70.4   -23.65    58.28       77          4      10.36   \n",
       "14           tiksi  128.8694  71.6872    44.71       76         99       8.21   \n",
       "\n",
       "   Country        Date  \n",
       "0       ID  1659565314  \n",
       "1       US  1659565315  \n",
       "2       AU  1659565315  \n",
       "3       CL  1659565100  \n",
       "4                       \n",
       "5       RU  1659565316  \n",
       "6                       \n",
       "7       PH  1659565316  \n",
       "8       CA  1659565316  \n",
       "9       RU  1659565317  \n",
       "10      TM  1659565317  \n",
       "11      RU  1659565317  \n",
       "12      AU  1659565317  \n",
       "13      CL  1659565088  \n",
       "14      RU  1659565318  "
      ]
     },
     "metadata": {},
     "output_type": "display_data"
    }
   ],
   "source": [
    "#export data to csv file\n",
    "weatherCheck_data.to_csv(\"OutputFiles/CityData.csv\", index=False, header=True)\n",
    "\n",
    "#display dataframe\n",
    "display(weatherCheck_data.head(15))"
   ]
  },
  {
   "cell_type": "code",
   "execution_count": 279,
   "metadata": {},
   "outputs": [
    {
     "name": "stdout",
     "output_type": "stream",
     "text": [
      "*****What are the data types ?******\n"
     ]
    },
    {
     "data": {
      "text/plain": [
       "city          object\n",
       "lon           object\n",
       "lat           object\n",
       "Max Temp      object\n",
       "Humidity      object\n",
       "Cloudiness    object\n",
       "Wind Speed    object\n",
       "Country       object\n",
       "Date          object\n",
       "dtype: object"
      ]
     },
     "metadata": {},
     "output_type": "display_data"
    },
    {
     "data": {
      "text/html": [
       "<div>\n",
       "<style scoped>\n",
       "    .dataframe tbody tr th:only-of-type {\n",
       "        vertical-align: middle;\n",
       "    }\n",
       "\n",
       "    .dataframe tbody tr th {\n",
       "        vertical-align: top;\n",
       "    }\n",
       "\n",
       "    .dataframe thead th {\n",
       "        text-align: right;\n",
       "    }\n",
       "</style>\n",
       "<table border=\"1\" class=\"dataframe\">\n",
       "  <thead>\n",
       "    <tr style=\"text-align: right;\">\n",
       "      <th></th>\n",
       "      <th>lon</th>\n",
       "      <th>lat</th>\n",
       "      <th>Max Temp</th>\n",
       "      <th>Humidity</th>\n",
       "      <th>Cloudiness</th>\n",
       "      <th>Wind Speed</th>\n",
       "      <th>Date</th>\n",
       "    </tr>\n",
       "  </thead>\n",
       "  <tbody>\n",
       "    <tr>\n",
       "      <th>count</th>\n",
       "      <td>558.000000</td>\n",
       "      <td>558.000000</td>\n",
       "      <td>558.000000</td>\n",
       "      <td>558.000000</td>\n",
       "      <td>558.000000</td>\n",
       "      <td>558.000000</td>\n",
       "      <td>5.580000e+02</td>\n",
       "    </tr>\n",
       "    <tr>\n",
       "      <th>mean</th>\n",
       "      <td>22.338943</td>\n",
       "      <td>20.575754</td>\n",
       "      <td>69.810143</td>\n",
       "      <td>73.043011</td>\n",
       "      <td>54.860215</td>\n",
       "      <td>7.891111</td>\n",
       "      <td>1.659565e+09</td>\n",
       "    </tr>\n",
       "    <tr>\n",
       "      <th>std</th>\n",
       "      <td>90.812561</td>\n",
       "      <td>33.808231</td>\n",
       "      <td>14.026568</td>\n",
       "      <td>19.186085</td>\n",
       "      <td>38.741029</td>\n",
       "      <td>5.419480</td>\n",
       "      <td>7.895531e+01</td>\n",
       "    </tr>\n",
       "    <tr>\n",
       "      <th>min</th>\n",
       "      <td>-175.200000</td>\n",
       "      <td>-54.800000</td>\n",
       "      <td>34.920000</td>\n",
       "      <td>14.000000</td>\n",
       "      <td>0.000000</td>\n",
       "      <td>0.000000</td>\n",
       "      <td>1.659565e+09</td>\n",
       "    </tr>\n",
       "    <tr>\n",
       "      <th>25%</th>\n",
       "      <td>-58.354225</td>\n",
       "      <td>-8.010900</td>\n",
       "      <td>59.062500</td>\n",
       "      <td>63.000000</td>\n",
       "      <td>15.250000</td>\n",
       "      <td>3.792500</td>\n",
       "      <td>1.659565e+09</td>\n",
       "    </tr>\n",
       "    <tr>\n",
       "      <th>50%</th>\n",
       "      <td>28.128200</td>\n",
       "      <td>24.572400</td>\n",
       "      <td>71.165000</td>\n",
       "      <td>78.000000</td>\n",
       "      <td>62.000000</td>\n",
       "      <td>6.610000</td>\n",
       "      <td>1.659565e+09</td>\n",
       "    </tr>\n",
       "    <tr>\n",
       "      <th>75%</th>\n",
       "      <td>102.621425</td>\n",
       "      <td>49.187475</td>\n",
       "      <td>80.085000</td>\n",
       "      <td>87.000000</td>\n",
       "      <td>97.000000</td>\n",
       "      <td>10.485000</td>\n",
       "      <td>1.659565e+09</td>\n",
       "    </tr>\n",
       "    <tr>\n",
       "      <th>max</th>\n",
       "      <td>179.316700</td>\n",
       "      <td>78.218600</td>\n",
       "      <td>107.690000</td>\n",
       "      <td>100.000000</td>\n",
       "      <td>100.000000</td>\n",
       "      <td>34.650000</td>\n",
       "      <td>1.659565e+09</td>\n",
       "    </tr>\n",
       "  </tbody>\n",
       "</table>\n",
       "</div>"
      ],
      "text/plain": [
       "              lon         lat    Max Temp    Humidity  Cloudiness  Wind Speed  \\\n",
       "count  558.000000  558.000000  558.000000  558.000000  558.000000  558.000000   \n",
       "mean    22.338943   20.575754   69.810143   73.043011   54.860215    7.891111   \n",
       "std     90.812561   33.808231   14.026568   19.186085   38.741029    5.419480   \n",
       "min   -175.200000  -54.800000   34.920000   14.000000    0.000000    0.000000   \n",
       "25%    -58.354225   -8.010900   59.062500   63.000000   15.250000    3.792500   \n",
       "50%     28.128200   24.572400   71.165000   78.000000   62.000000    6.610000   \n",
       "75%    102.621425   49.187475   80.085000   87.000000   97.000000   10.485000   \n",
       "max    179.316700   78.218600  107.690000  100.000000  100.000000   34.650000   \n",
       "\n",
       "               Date  \n",
       "count  5.580000e+02  \n",
       "mean   1.659565e+09  \n",
       "std    7.895531e+01  \n",
       "min    1.659565e+09  \n",
       "25%    1.659565e+09  \n",
       "50%    1.659565e+09  \n",
       "75%    1.659565e+09  \n",
       "max    1.659565e+09  "
      ]
     },
     "metadata": {},
     "output_type": "display_data"
    }
   ],
   "source": [
    "#In order to get summary of data using DESCRIBE FUNCTION, the values must be in Integer format\n",
    "print(\"*****What are the data types ?******\")\n",
    "display(weatherCheck_data.dtypes)\n",
    "\n",
    "#Convert necessary column to integer\n",
    "weatherCheck_data[['lon','lat','Max Temp','Humidity','Cloudiness','Wind Speed','Date']]=weatherCheck_data[['lon','lat','Max Temp','Humidity','Cloudiness','Wind Speed','Date']].apply(pd.to_numeric)\n",
    "\n",
    "    \n",
    "#Summarize the data\n",
    "display(weatherCheck_data.describe())\n"
   ]
  },
  {
   "cell_type": "markdown",
   "metadata": {},
   "source": [
    "## Inspect the data and remove the cities where the humidity > 100%.\n",
    "----\n",
    "Skip this step if there are no cities that have humidity > 100%. "
   ]
  },
  {
   "cell_type": "code",
   "execution_count": 280,
   "metadata": {},
   "outputs": [
    {
     "name": "stdout",
     "output_type": "stream",
     "text": [
      "After Inspection from the summary stats , humidity has not gone above 100% \n"
     ]
    }
   ],
   "source": [
    "print(\"After Inspection from the summary stats , humidity has not gone above 100% \")\n",
    "\n"
   ]
  },
  {
   "cell_type": "markdown",
   "metadata": {},
   "source": [
    "## Plotting the Data\n",
    "* Use proper labeling of the plots using plot titles (including date of analysis) and axes labels.\n",
    "* Save the plotted figures as .pngs."
   ]
  },
  {
   "cell_type": "markdown",
   "metadata": {},
   "source": [
    "## Latitude vs. Temperature Plot"
   ]
  },
  {
   "cell_type": "code",
   "execution_count": 284,
   "metadata": {},
   "outputs": [
    {
     "data": {
      "image/png": "[encoded data removed]",
      "text/plain": [
       "<Figure size 432x288 with 1 Axes>"
      ]
     },
     "metadata": {
      "needs_background": "light"
     },
     "output_type": "display_data"
    }
   ],
   "source": [
    "#format the max date in the dataset as \"runDate\" for graph titles\n",
    "date = weatherCheck_data[\"Date\"].max()\n",
    "weatherDate = datetime.utcfromtimestamp(date).strftime('%Y-%m-%d')\n",
    "\n",
    "plt.title(f\"City Latitude vs Max Temperature ({weatherDate})\")\n",
    "plt.xlabel(\"Latitude\")\n",
    "plt.ylabel(\"Max Temperature(F)\")\n",
    "plt.grid()\n",
    "\n",
    "plt.scatter(weatherCheck_data['lat'], weatherCheck_data[\"Max Temp\"],c='cyan', edgecolors=\"black\")\n",
    "plt.savefig(\"Images/Latitude_vs_Temperature_Plot.png\")\n",
    "plt.show()"
   ]
  },
  {
   "cell_type": "code",
   "execution_count": 288,
   "metadata": {},
   "outputs": [],
   "source": [
    "### Insights on Latitude vs. Temperature Plot\n",
    "## This plot shows that temperature rises at equator(latitude = 0) and falls at either ends of axis with latitute -60 and -80.\n"
   ]
  },
  {
   "cell_type": "markdown",
   "metadata": {},
   "source": [
    "## Latitude vs. Humidity Plot"
   ]
  },
  {
   "cell_type": "code",
   "execution_count": 287,
   "metadata": {},
   "outputs": [
    {
     "data": {
      "image/png": "[encoded data removed]",
      "text/plain": [
       "<Figure size 432x288 with 1 Axes>"
      ]
     },
     "metadata": {
      "needs_background": "light"
     },
     "output_type": "display_data"
    }
   ],
   "source": [
    "plt.title(f\"City Latitude vs Humidity({weatherDate})\")\n",
    "plt.xlabel(\"Latitude\")\n",
    "plt.ylabel(\"Humidity(%)\")\n",
    "plt.grid()\n",
    "\n",
    "plt.scatter(weatherCheck_data['lat'], weatherCheck_data[\"Humidity\"],c='yellow', edgecolors=\"black\")\n",
    "plt.savefig(\"Images/Latitude_vs_Humidity_Plot.png\")\n",
    "plt.show()"
   ]
  },
  {
   "cell_type": "code",
   "execution_count": null,
   "metadata": {},
   "outputs": [],
   "source": [
    "### Insights on Latitude vs. Humidity Plot\n",
    "## This plot shows that humidity is never at a lowest point at the equator (latitude 0).\n",
    "## It also reveals that all the cities at equator will have a atleast 75% humidity. "
   ]
  },
  {
   "cell_type": "markdown",
   "metadata": {},
   "source": [
    "## Latitude vs. Cloudiness Plot"
   ]
  },
  {
   "cell_type": "code",
   "execution_count": 289,
   "metadata": {},
   "outputs": [
    {
     "data": {
      "image/png": "[encoded data removed]",
      "text/plain": [
       "<Figure size 432x288 with 1 Axes>"
      ]
     },
     "metadata": {
      "needs_background": "light"
     },
     "output_type": "display_data"
    }
   ],
   "source": [
    "plt.title(f\"City Latitude vs Cloudiness({weatherDate})\")\n",
    "plt.xlabel(\"Latitude\")\n",
    "plt.ylabel(\"Cloudiness(%)\")\n",
    "plt.grid()\n",
    "\n",
    "plt.scatter(weatherCheck_data['lat'], weatherCheck_data[\"Cloudiness\"],c='magenta', edgecolors=\"black\")\n",
    "plt.savefig(\"Images/Latitude_vs_Cloudiness_Plot.png\")\n",
    "plt.show()"
   ]
  },
  {
   "cell_type": "code",
   "execution_count": null,
   "metadata": {},
   "outputs": [],
   "source": [
    "### Insights on Latitude vs. Cloudiness Plot\n",
    "## This graph may not show any correlation but its interesting to observe the density of cities that 100% cloudy and 0% cloudy"
   ]
  },
  {
   "cell_type": "markdown",
   "metadata": {},
   "source": [
    "## Latitude vs. Wind Speed Plot"
   ]
  },
  {
   "cell_type": "code",
   "execution_count": 294,
   "metadata": {},
   "outputs": [
    {
     "data": {
      "image/png": "[encoded data removed]",
      "text/plain": [
       "<Figure size 432x288 with 1 Axes>"
      ]
     },
     "metadata": {
      "needs_background": "light"
     },
     "output_type": "display_data"
    }
   ],
   "source": [
    "plt.title(f\"Latitude vs. Wind Speed Plot({weatherDate})\")\n",
    "plt.xlabel(\"Latitude\")\n",
    "plt.ylabel(\"Wind Speed(mph)\")\n",
    "plt.grid()\n",
    "\n",
    "plt.scatter(weatherCheck_data['lat'], weatherCheck_data[\"Wind Speed\"],c='orange', edgecolors=\"black\")\n",
    "plt.savefig(\"Images/Latitude_vs_WindSpeed_Plot.png\")\n",
    "plt.show()"
   ]
  },
  {
   "cell_type": "code",
   "execution_count": 291,
   "metadata": {},
   "outputs": [],
   "source": [
    "### Insights on Latitude vs. Wind Speed Plot Plot\n",
    "## This plot doesn't show any major correlation"
   ]
  },
  {
   "cell_type": "markdown",
   "metadata": {},
   "source": [
    "## Linear Regression"
   ]
  },
  {
   "cell_type": "code",
   "execution_count": 292,
   "metadata": {},
   "outputs": [],
   "source": [
    "#Creating a function so it gets call everytime when it needs the execute same code multiple time\n",
    "\n",
    "def linearRegression(x,y,xy_1,xy_2):\n",
    "    (slope, intercept, rvalue, pvalue, stderr) = linregress(x,y)\n",
    "    regress_values = x * slope + intercept\n",
    "    line_equation = \"y = \" + str(round(slope,2)) + \"x + \" + str(round(intercept,2))\n",
    "    print(line_equation)\n",
    "    print(f'The r-square is: {rvalue}')\n",
    "    \n",
    "    plt.scatter(x,y,facecolors=\"violet\",edgecolors='red')\n",
    "    plt.plot(x,regress_values,\"r-\",color=\"purple\")\n",
    "    plt.annotate(line_equation,(xy_1,xy_2),fontsize=15,color=\"purple\")\n",
    "    plt.show()"
   ]
  },
  {
   "cell_type": "markdown",
   "metadata": {},
   "source": [
    "####  Northern Hemisphere - Max Temp vs. Latitude Linear Regression"
   ]
  },
  {
   "cell_type": "code",
   "execution_count": 293,
   "metadata": {},
   "outputs": [
    {
     "name": "stdout",
     "output_type": "stream",
     "text": [
      "y = -0.48x + 90.94\n",
      "The r-square is: -0.6772203019063429\n"
     ]
    },
    {
     "data": {
      "image/png": "[encoded data removed]",
      "text/plain": [
       "<Figure size 432x288 with 1 Axes>"
      ]
     },
     "metadata": {
      "needs_background": "light"
     },
     "output_type": "display_data"
    }
   ],
   "source": [
    "#Data just for northern hemisphere, creating another dataframe\n",
    "northHemp_data = weatherCheck_data.loc[weatherCheck_data[\"lat\"] > 0]\n",
    "\n",
    "x = northHemp_data[\"lat\"]\n",
    "y = northHemp_data[\"Max Temp\"]\n",
    "xy_1=20\n",
    "xy_2=38\n",
    "\n",
    "#Can the defined function and pass the parameters\n",
    "plt.xlabel(\"Latitude\",fontsize=10)\n",
    "plt.ylabel(\"Max Temp\",fontsize=10)\n",
    "linearRegression(x,y,xy_1,xy_2)"
   ]
  },
  {
   "cell_type": "markdown",
   "metadata": {},
   "source": [
    "####  Southern Hemisphere - Max Temp vs. Latitude Linear Regression"
   ]
  },
  {
   "cell_type": "code",
   "execution_count": 264,
   "metadata": {},
   "outputs": [
    {
     "name": "stdout",
     "output_type": "stream",
     "text": [
      "y = 0.73x + 82.5\n",
      "The r-square is: 0.7673513112012962\n"
     ]
    },
    {
     "data": {
      "image/png": "[encoded data removed]",
      "text/plain": [
       "<Figure size 432x288 with 1 Axes>"
      ]
     },
     "metadata": {
      "needs_background": "light"
     },
     "output_type": "display_data"
    }
   ],
   "source": [
    "#Data just for sourthern hemisphere, creating another dataframe\n",
    "southHemp_data = weatherCheck_data.loc[weatherCheck_data[\"lat\"] < 0]\n",
    "\n",
    "x = southHemp_data[\"lat\"]\n",
    "y = southHemp_data[\"Max Temp\"]\n",
    "xy_1=-22\n",
    "xy_2=39\n",
    "\n",
    "#Can the defined function and pass the parameters\n",
    "plt.xlabel(\"Latitude\",fontsize=10)\n",
    "plt.ylabel(\"Max Temp\",fontsize=10)\n",
    "linearRegression(x,y,xy_1,xy_2)\n"
   ]
  },
  {
   "cell_type": "code",
   "execution_count": null,
   "metadata": {},
   "outputs": [],
   "source": [
    "### Insights on Northwern and Southern Hemisphere - Max Temp vs. Latitude Linear Regression\n",
    "## This graph shows a  strong correlation. \n",
    "## In the northern hemisphere the temperature decreasses as we go away from equator(Latitute =0) and in southern it is opposite"
   ]
  },
  {
   "cell_type": "markdown",
   "metadata": {},
   "source": [
    "####  Northern Hemisphere - Humidity (%) vs. Latitude Linear Regression"
   ]
  },
  {
   "cell_type": "code",
   "execution_count": 265,
   "metadata": {},
   "outputs": [
    {
     "name": "stdout",
     "output_type": "stream",
     "text": [
      "y = 0.06x + 69.52\n",
      "The r-square is: 0.062619520527292\n"
     ]
    },
    {
     "data": {
      "image/png": "[encoded data removed]",
      "text/plain": [
       "<Figure size 432x288 with 1 Axes>"
      ]
     },
     "metadata": {
      "needs_background": "light"
     },
     "output_type": "display_data"
    }
   ],
   "source": [
    "#Data just for northern hemisphere, creating another dataframe\n",
    "northHemp_data = weatherCheck_data.loc[weatherCheck_data[\"lat\"] > 0]\n",
    "\n",
    "x = northHemp_data[\"lat\"]\n",
    "y = northHemp_data[\"Humidity\"]\n",
    "xy_1=40\n",
    "xy_2=7\n",
    "\n",
    "#Can the defined function and pass the parameters\n",
    "plt.xlabel(\"Latitude\",fontsize=10)\n",
    "plt.ylabel(\"Humidity\",fontsize=10)\n",
    "linearRegression(x,y,xy_1,xy_2)"
   ]
  },
  {
   "cell_type": "markdown",
   "metadata": {},
   "source": [
    "####  Southern Hemisphere - Humidity (%) vs. Latitude Linear Regression"
   ]
  },
  {
   "cell_type": "code",
   "execution_count": 266,
   "metadata": {},
   "outputs": [
    {
     "name": "stdout",
     "output_type": "stream",
     "text": [
      "y = -0.16x + 68.43\n",
      "The r-square is: -0.11332252299221333\n"
     ]
    },
    {
     "data": {
      "image/png": "[encoded data removed]",
      "text/plain": [
       "<Figure size 432x288 with 1 Axes>"
      ]
     },
     "metadata": {
      "needs_background": "light"
     },
     "output_type": "display_data"
    }
   ],
   "source": [
    "#Data just for southern hemisphere, creating another dataframe\n",
    "southHemp_data = weatherCheck_data.loc[weatherCheck_data[\"lat\"] < 0]\n",
    "\n",
    "x = southHemp_data[\"lat\"]\n",
    "y = southHemp_data[\"Humidity\"]\n",
    "xy_1=-25\n",
    "xy_2=10\n",
    "\n",
    "#Can the defined function and pass the parameters\n",
    "plt.xlabel(\"Latitude\",fontsize=10)\n",
    "plt.ylabel(\"Humidity\",fontsize=10)\n",
    "linearRegression(x,y,xy_1,xy_2)"
   ]
  },
  {
   "cell_type": "code",
   "execution_count": null,
   "metadata": {},
   "outputs": [],
   "source": [
    "### Insights on Northwern and Southern Hemisphere - Humidity (%) vs. Latitude Linear Regression\n",
    "## There is no correlation between Humidity and latitude"
   ]
  },
  {
   "cell_type": "markdown",
   "metadata": {},
   "source": [
    "####  Northern Hemisphere - Cloudiness (%) vs. Latitude Linear Regression"
   ]
  },
  {
   "cell_type": "code",
   "execution_count": 267,
   "metadata": {},
   "outputs": [
    {
     "name": "stdout",
     "output_type": "stream",
     "text": [
      "y = -0.07x + 61.42\n",
      "The r-square is: -0.037558620229462415\n"
     ]
    },
    {
     "data": {
      "image/png": "[encoded data removed]",
      "text/plain": [
       "<Figure size 432x288 with 1 Axes>"
      ]
     },
     "metadata": {
      "needs_background": "light"
     },
     "output_type": "display_data"
    }
   ],
   "source": [
    "#Data just for northern hemisphere, creating another dataframe\n",
    "northHemp_data = weatherCheck_data.loc[weatherCheck_data[\"lat\"] > 0]\n",
    "\n",
    "x = northHemp_data[\"lat\"]\n",
    "y = northHemp_data[\"Cloudiness\"]\n",
    "xy_1=40\n",
    "xy_2=7\n",
    "\n",
    "#Can the defined function and pass the parameters\n",
    "plt.xlabel(\"Latitude\",fontsize=10)\n",
    "plt.ylabel(\"Cloudiness\",fontsize=10)\n",
    "linearRegression(x,y,xy_1,xy_2)"
   ]
  },
  {
   "cell_type": "markdown",
   "metadata": {},
   "source": [
    "####  Southern Hemisphere - Cloudiness (%) vs. Latitude Linear Regression"
   ]
  },
  {
   "cell_type": "code",
   "execution_count": 268,
   "metadata": {},
   "outputs": [
    {
     "name": "stdout",
     "output_type": "stream",
     "text": [
      "y = -0.13x + 48.38\n",
      "The r-square is: -0.047562927826590225\n"
     ]
    },
    {
     "data": {
      "image/png": "[encoded data removed]",
      "text/plain": [
       "<Figure size 432x288 with 1 Axes>"
      ]
     },
     "metadata": {
      "needs_background": "light"
     },
     "output_type": "display_data"
    }
   ],
   "source": [
    "#Data just for southern hemisphere, creating another dataframe\n",
    "southHemp_data = weatherCheck_data.loc[weatherCheck_data[\"lat\"] < 0]\n",
    "\n",
    "x = southHemp_data[\"lat\"]\n",
    "y = southHemp_data[\"Cloudiness\"]\n",
    "xy_1=-28\n",
    "xy_2=7\n",
    "\n",
    "#Can the defined function and pass the parameters\n",
    "plt.xlabel(\"Latitude\",fontsize=10)\n",
    "plt.ylabel(\"Cloudiness\",fontsize=10)\n",
    "linearRegression(x,y,xy_1,xy_2)"
   ]
  },
  {
   "cell_type": "code",
   "execution_count": null,
   "metadata": {},
   "outputs": [],
   "source": [
    "### Insights on Northwern and Southern Hemisphere -Cloudiness (%) vs. Latitude Linear Regression\n",
    "## There is no correlation between cloudiness and latitude"
   ]
  },
  {
   "cell_type": "markdown",
   "metadata": {},
   "source": [
    "####  Northern Hemisphere - Wind Speed (mph) vs. Latitude Linear Regression"
   ]
  },
  {
   "cell_type": "code",
   "execution_count": 269,
   "metadata": {},
   "outputs": [
    {
     "name": "stdout",
     "output_type": "stream",
     "text": [
      "y = -0.02x + 8.79\n",
      "The r-square is: -0.0630500716823538\n"
     ]
    },
    {
     "data": {
      "image/png": "[encoded data removed]",
      "text/plain": [
       "<Figure size 432x288 with 1 Axes>"
      ]
     },
     "metadata": {
      "needs_background": "light"
     },
     "output_type": "display_data"
    }
   ],
   "source": [
    "#Data just for northern hemisphere, creating another dataframe\n",
    "northHemp_data = weatherCheck_data.loc[weatherCheck_data[\"lat\"] > 0]\n",
    "\n",
    "x = northHemp_data[\"lat\"]\n",
    "y = northHemp_data[\"Wind Speed\"]\n",
    "xy_1=40\n",
    "xy_2=30\n",
    "\n",
    "#Can the defined function and pass the parameters\n",
    "plt.xlabel(\"Latitude\",fontsize=10)\n",
    "plt.ylabel(\"Wind Speed\",fontsize=10)\n",
    "linearRegression(x,y,xy_1,xy_2)"
   ]
  },
  {
   "cell_type": "markdown",
   "metadata": {},
   "source": [
    "####  Southern Hemisphere - Wind Speed (mph) vs. Latitude Linear Regression"
   ]
  },
  {
   "cell_type": "code",
   "execution_count": 270,
   "metadata": {},
   "outputs": [
    {
     "name": "stdout",
     "output_type": "stream",
     "text": [
      "y = -0.03x + 7.59\n",
      "The r-square is: -0.08259056893226625\n"
     ]
    },
    {
     "data": {
      "image/png": "[encoded data removed]",
      "text/plain": [
       "<Figure size 432x288 with 1 Axes>"
      ]
     },
     "metadata": {
      "needs_background": "light"
     },
     "output_type": "display_data"
    }
   ],
   "source": [
    "#Data just for northern hemisphere, creating another dataframe\n",
    "southHemp_data = weatherCheck_data.loc[weatherCheck_data[\"lat\"] < 0]\n",
    "\n",
    "x = southHemp_data[\"lat\"]\n",
    "y = southHemp_data[\"Wind Speed\"]\n",
    "xy_1=-22\n",
    "xy_2=20\n",
    "\n",
    "#Can the defined function and pass the parameters\n",
    "plt.xlabel(\"Latitude\",fontsize=10)\n",
    "plt.ylabel(\"Wind Speed\",fontsize=10)\n",
    "linearRegression(x,y,xy_1,xy_2)"
   ]
  },
  {
   "cell_type": "code",
   "execution_count": null,
   "metadata": {},
   "outputs": [],
   "source": [
    "### Insights on Northwern and Southern Hemisphere -Wind Speed (mph) vs. Latitude Linear Regression\n",
    "## There is no correlation between Wind Speed and latitude."
   ]
  }
 ],
 "metadata": {
  "anaconda-cloud": {},
  "kernel_info": {
   "name": "python3"
  },
  "kernelspec": {
   "display_name": "PythonData",
   "language": "python",
   "name": "pythondata"
  },
  "language_info": {
   "codemirror_mode": {
    "name": "ipython",
    "version": 3
   },
   "file_extension": ".py",
   "mimetype": "text/x-python",
   "name": "python",
   "nbconvert_exporter": "python",
   "pygments_lexer": "ipython3",
   "version": "3.7.6"
  },
  "latex_envs": {
   "LaTeX_envs_menu_present": true,
   "autoclose": false,
   "autocomplete": true,
   "bibliofile": "biblio.bib",
   "cite_by": "apalike",
   "current_citInitial": 1,
   "eqLabelWithNumbers": true,
   "eqNumInitial": 1,
   "hotkeys": {
    "equation": "Ctrl-E",
    "itemize": "Ctrl-I"
   },
   "labels_anchors": false,
   "latex_user_defs": false,
   "report_style_numbering": false,
   "user_envs_cfg": false
  },
  "nteract": {
   "version": "0.12.3"
  }
 },
 "nbformat": 4,
 "nbformat_minor": 2
}
