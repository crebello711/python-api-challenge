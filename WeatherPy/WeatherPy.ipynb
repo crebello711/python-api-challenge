{
 "cells": [
  {
   "cell_type": "markdown",
   "metadata": {},
   "source": [
    "# WeatherPy\n",
    "----\n",
    "\n",
    "#### Note\n",
    "* Instructions have been included for each segment. You do not have to follow them exactly, but they are included to help you think through the steps."
   ]
  },
  {
   "cell_type": "code",
   "execution_count": 454,
   "metadata": {
    "scrolled": true
   },
   "outputs": [],
   "source": [
    "# Dependencies and Setup\n",
    "import matplotlib.pyplot as plt\n",
    "import pandas as pd\n",
    "import numpy as np\n",
    "import requests\n",
    "import time\n",
    "from scipy.stats import linregress\n",
    "from pprint import pprint\n",
    "from IPython.display import display\n",
    "from datetime import datetime\n",
    "\n",
    "# Import API key\n",
    "from api_keys import weather_api_key\n",
    "\n",
    "# Incorporated citipy to determine city based on latitude and longitude\n",
    "from citipy import citipy\n",
    "\n",
    "# Output File (CSV)\n",
    "output_data_file = \"output_data/cities.csv\"\n",
    "\n",
    "# Range of latitudes and longitudes\n",
    "lat_range = (-90, 90)\n",
    "lng_range = (-180, 180)"
   ]
  },
  {
   "cell_type": "markdown",
   "metadata": {},
   "source": [
    "## Generate Cities List"
   ]
  },
  {
   "cell_type": "code",
   "execution_count": 455,
   "metadata": {},
   "outputs": [
    {
     "data": {
      "text/plain": [
       "619"
      ]
     },
     "execution_count": 455,
     "metadata": {},
     "output_type": "execute_result"
    }
   ],
   "source": [
    "# List for holding lat_lngs and cities\n",
    "lat_lngs = []\n",
    "cities = []\n",
    "\n",
    "# Create a set of random lat and lng combinations\n",
    "lats = np.random.uniform(lat_range[0], lat_range[1], size=1500)\n",
    "lngs = np.random.uniform(lng_range[0], lng_range[1], size=1500)\n",
    "\n",
    "lat_lngs = zip(lats, lngs)\n",
    "#print(list(zip(lats, lngs)))\n",
    "\n",
    "\n",
    "# Identify nearest city for each lat, lng combination\n",
    "for lat_lng in lat_lngs:\n",
    "    city = citipy.nearest_city(lat_lng[0], lat_lng[1]).city_name\n",
    "    \n",
    "    # If the city is unique, then add it to a our cities list\n",
    "    if city not in cities:\n",
    "        cities.append(city)\n",
    "#print(\"list of city : \",cities)\n",
    "\n",
    "# Print the city count to confirm sufficient count\n",
    "len(cities)"
   ]
  },
  {
   "cell_type": "markdown",
   "metadata": {},
   "source": [
    "### Perform API Calls\n",
    "* Perform a weather check on each city using a series of successive API calls.\n",
    "* Include a print log of each city as it'sbeing processed (with the city number and city name).\n"
   ]
  },
  {
   "cell_type": "code",
   "execution_count": 456,
   "metadata": {
    "scrolled": true
   },
   "outputs": [
    {
     "name": "stdout",
     "output_type": "stream",
     "text": [
      "<Response [400]>\n",
      "Beginning Data Retrieval\n",
      "-----------------------------\n",
      "Processing Record 1 of Set 1 | barentsburg\n",
      "City not found. Skipping...\n",
      "Processing Record 2 of Set 1 | cayenne\n",
      "Processing Record 3 of Set 1 | provideniya\n",
      "Processing Record 4 of Set 1 | atuona\n",
      "Processing Record 5 of Set 1 | bluff\n",
      "Processing Record 6 of Set 1 | sentyabrskiy\n",
      "City not found. Skipping...\n",
      "Processing Record 7 of Set 1 | butaritari\n",
      "Processing Record 8 of Set 1 | igdir\n",
      "Processing Record 9 of Set 1 | zernograd\n",
      "Processing Record 10 of Set 1 | mataura\n",
      "Processing Record 11 of Set 1 | loei\n",
      "Processing Record 12 of Set 1 | mar del plata\n",
      "Processing Record 13 of Set 1 | sisimiut\n",
      "Processing Record 14 of Set 1 | kapaa\n",
      "Processing Record 15 of Set 1 | college\n",
      "Processing Record 16 of Set 1 | saskylakh\n",
      "Processing Record 17 of Set 1 | pandan\n",
      "Processing Record 18 of Set 1 | rikitea\n",
      "Processing Record 19 of Set 1 | castro\n",
      "Processing Record 20 of Set 1 | filingue\n",
      "Processing Record 21 of Set 1 | villa rica\n",
      "Processing Record 22 of Set 1 | codrington\n",
      "Processing Record 23 of Set 1 | le mars\n",
      "Processing Record 24 of Set 1 | mount isa\n",
      "Processing Record 25 of Set 1 | pimampiro\n",
      "Processing Record 26 of Set 1 | punta arenas\n",
      "Processing Record 27 of Set 1 | ponta do sol\n",
      "Processing Record 28 of Set 1 | east london\n",
      "Processing Record 29 of Set 1 | salalah\n",
      "Processing Record 30 of Set 1 | esperance\n",
      "Processing Record 31 of Set 1 | tuktoyaktuk\n",
      "Processing Record 32 of Set 1 | nuuk\n",
      "Processing Record 33 of Set 1 | kavieng\n",
      "Processing Record 34 of Set 1 | vaini\n",
      "Processing Record 35 of Set 1 | yaan\n",
      "Processing Record 36 of Set 1 | mattawa\n",
      "Processing Record 37 of Set 1 | biarritz\n",
      "Processing Record 38 of Set 1 | port alfred\n",
      "Processing Record 39 of Set 1 | riyadh\n",
      "Processing Record 40 of Set 1 | airai\n",
      "Processing Record 41 of Set 1 | karratha\n",
      "Processing Record 42 of Set 1 | illoqqortoormiut\n",
      "City not found. Skipping...\n",
      "Processing Record 43 of Set 1 | georgetown\n",
      "Processing Record 44 of Set 1 | erdenet\n",
      "Processing Record 45 of Set 1 | artyk\n",
      "City not found. Skipping...\n",
      "Processing Record 46 of Set 1 | solnechnyy\n",
      "Processing Record 47 of Set 1 | mazara del vallo\n",
      "Processing Record 48 of Set 1 | nishihara\n",
      "Processing Record 49 of Set 1 | kintampo\n",
      "Processing Record 50 of Set 1 | kodiak\n",
      "Processing Record 1 of Set 2 | jamestown\n",
      "Processing Record 2 of Set 2 | nanortalik\n",
      "Processing Record 3 of Set 2 | albany\n",
      "Processing Record 4 of Set 2 | la union\n",
      "Processing Record 5 of Set 2 | cidreira\n",
      "Processing Record 6 of Set 2 | tubruq\n",
      "City not found. Skipping...\n",
      "Processing Record 7 of Set 2 | leshukonskoye\n",
      "Processing Record 8 of Set 2 | bajram curri\n",
      "Processing Record 9 of Set 2 | pevek\n",
      "Processing Record 10 of Set 2 | villazon\n",
      "Processing Record 11 of Set 2 | port elizabeth\n",
      "Processing Record 12 of Set 2 | ugoofaaru\n",
      "Processing Record 13 of Set 2 | hermanus\n",
      "Processing Record 14 of Set 2 | san jeronimo\n",
      "Processing Record 15 of Set 2 | bredasdorp\n",
      "Processing Record 16 of Set 2 | hilo\n",
      "Processing Record 17 of Set 2 | sorong\n",
      "Processing Record 18 of Set 2 | chaklasi\n",
      "Processing Record 19 of Set 2 | capoterra\n",
      "Processing Record 20 of Set 2 | evensk\n",
      "Processing Record 21 of Set 2 | cape town\n",
      "Processing Record 22 of Set 2 | bardiyah\n",
      "Processing Record 23 of Set 2 | iqaluit\n",
      "Processing Record 24 of Set 2 | konstantinovka\n",
      "Processing Record 25 of Set 2 | busselton\n",
      "Processing Record 26 of Set 2 | sibolga\n",
      "Processing Record 27 of Set 2 | molochnoye\n",
      "Processing Record 28 of Set 2 | ekhabi\n",
      "Processing Record 29 of Set 2 | mana\n",
      "Processing Record 30 of Set 2 | grand river south east\n",
      "City not found. Skipping...\n",
      "Processing Record 31 of Set 2 | yellowknife\n",
      "Processing Record 32 of Set 2 | sangar\n",
      "Processing Record 33 of Set 2 | la ronge\n",
      "Processing Record 34 of Set 2 | adilabad\n",
      "Processing Record 35 of Set 2 | tasiilaq\n",
      "Processing Record 36 of Set 2 | nizhneyansk\n",
      "City not found. Skipping...\n",
      "Processing Record 37 of Set 2 | rongcheng\n",
      "Processing Record 38 of Set 2 | baykit\n",
      "Processing Record 39 of Set 2 | daloa\n",
      "Processing Record 40 of Set 2 | lazaro cardenas\n",
      "Processing Record 41 of Set 2 | vestmanna\n",
      "Processing Record 42 of Set 2 | ushuaia\n",
      "Processing Record 43 of Set 2 | tarudant\n",
      "City not found. Skipping...\n",
      "Processing Record 44 of Set 2 | avarua\n",
      "Processing Record 45 of Set 2 | san quintin\n",
      "Processing Record 46 of Set 2 | mamallapuram\n",
      "Processing Record 47 of Set 2 | cabedelo\n",
      "Processing Record 48 of Set 2 | coquimbo\n",
      "Processing Record 49 of Set 2 | nago\n",
      "Processing Record 50 of Set 2 | puerto ayora\n",
      "Processing Record 1 of Set 3 | carnarvon\n",
      "Processing Record 2 of Set 3 | kulhudhuffushi\n",
      "Processing Record 3 of Set 3 | mys shmidta\n",
      "City not found. Skipping...\n",
      "Processing Record 4 of Set 3 | qaanaaq\n",
      "Processing Record 5 of Set 3 | kahului\n",
      "Processing Record 6 of Set 3 | cabo san lucas\n",
      "Processing Record 7 of Set 3 | tiksi\n",
      "Processing Record 8 of Set 3 | san fernando\n",
      "Processing Record 9 of Set 3 | new norfolk\n",
      "Processing Record 10 of Set 3 | abeokuta\n",
      "Processing Record 11 of Set 3 | belushya guba\n",
      "City not found. Skipping...\n",
      "Processing Record 12 of Set 3 | longyearbyen\n",
      "Processing Record 13 of Set 3 | newala\n",
      "Processing Record 14 of Set 3 | potam\n",
      "Processing Record 15 of Set 3 | hobart\n",
      "Processing Record 16 of Set 3 | pisco\n",
      "Processing Record 17 of Set 3 | mantua\n",
      "Processing Record 18 of Set 3 | wawa\n",
      "Processing Record 19 of Set 3 | shimoda\n",
      "Processing Record 20 of Set 3 | ahar\n",
      "Processing Record 21 of Set 3 | ribeira grande\n",
      "Processing Record 22 of Set 3 | klaksvik\n",
      "Processing Record 23 of Set 3 | ahipara\n",
      "Processing Record 24 of Set 3 | guye\n",
      "Processing Record 25 of Set 3 | falun\n",
      "Processing Record 26 of Set 3 | sayyan\n",
      "Processing Record 27 of Set 3 | mehran\n",
      "Processing Record 28 of Set 3 | lompoc\n",
      "Processing Record 29 of Set 3 | taltal\n",
      "Processing Record 30 of Set 3 | anadyr\n",
      "Processing Record 31 of Set 3 | tuatapere\n",
      "Processing Record 32 of Set 3 | vao\n",
      "Processing Record 33 of Set 3 | copiapo\n",
      "Processing Record 34 of Set 3 | port-cartier\n",
      "Processing Record 35 of Set 3 | lebu\n",
      "Processing Record 36 of Set 3 | djibo\n",
      "Processing Record 37 of Set 3 | victoria\n",
      "Processing Record 38 of Set 3 | raga\n",
      "Processing Record 39 of Set 3 | ciudad bolivar\n",
      "Processing Record 40 of Set 3 | itoman\n",
      "Processing Record 41 of Set 3 | sol-iletsk\n",
      "Processing Record 42 of Set 3 | atar\n",
      "Processing Record 43 of Set 3 | mitsamiouli\n",
      "Processing Record 44 of Set 3 | poum\n",
      "Processing Record 45 of Set 3 | binzhou\n",
      "Processing Record 46 of Set 3 | stornoway\n",
      "Processing Record 47 of Set 3 | torbay\n",
      "Processing Record 48 of Set 3 | burica\n",
      "City not found. Skipping...\n",
      "Processing Record 49 of Set 3 | murmashi\n",
      "Processing Record 50 of Set 3 | chuy\n",
      "Processing Record 1 of Set 4 | ulaanbaatar\n",
      "Processing Record 2 of Set 4 | saint-philippe\n",
      "Processing Record 3 of Set 4 | ancud\n",
      "Processing Record 4 of Set 4 | saldanha\n",
      "Processing Record 5 of Set 4 | cherskiy\n",
      "Processing Record 6 of Set 4 | chanute\n",
      "Processing Record 7 of Set 4 | tautira\n",
      "Processing Record 8 of Set 4 | kalabo\n",
      "Processing Record 9 of Set 4 | malwan\n",
      "City not found. Skipping...\n",
      "Processing Record 10 of Set 4 | tiznit\n",
      "Processing Record 11 of Set 4 | saint-pierre\n",
      "Processing Record 12 of Set 4 | jieshi\n",
      "Processing Record 13 of Set 4 | takoradi\n",
      "Processing Record 14 of Set 4 | duxbury\n",
      "Processing Record 15 of Set 4 | port hardy\n",
      "Processing Record 16 of Set 4 | hithadhoo\n",
      "Processing Record 17 of Set 4 | souillac\n",
      "Processing Record 18 of Set 4 | port blair\n",
      "Processing Record 19 of Set 4 | sambava\n",
      "Processing Record 20 of Set 4 | san isidro\n",
      "Processing Record 21 of Set 4 | zhirnovsk\n",
      "Processing Record 22 of Set 4 | iquique\n",
      "Processing Record 23 of Set 4 | taolanaro\n",
      "City not found. Skipping...\n",
      "Processing Record 24 of Set 4 | esmeraldas\n",
      "Processing Record 25 of Set 4 | ust-ilimsk\n",
      "Processing Record 26 of Set 4 | paragominas\n",
      "Processing Record 27 of Set 4 | barrow\n",
      "Processing Record 28 of Set 4 | upernavik\n",
      "Processing Record 29 of Set 4 | chimore\n",
      "Processing Record 30 of Set 4 | sur\n",
      "Processing Record 31 of Set 4 | kruisfontein\n",
      "Processing Record 32 of Set 4 | meyungs\n",
      "City not found. Skipping...\n",
      "Processing Record 33 of Set 4 | aksarka\n",
      "Processing Record 34 of Set 4 | fairbanks\n",
      "Processing Record 35 of Set 4 | puerto leguizamo\n",
      "Processing Record 36 of Set 4 | lavrentiya\n",
      "Processing Record 37 of Set 4 | bekovo\n",
      "Processing Record 38 of Set 4 | polson\n",
      "Processing Record 39 of Set 4 | saint george\n"
     ]
    },
    {
     "name": "stdout",
     "output_type": "stream",
     "text": [
      "Processing Record 40 of Set 4 | sretensk\n",
      "Processing Record 41 of Set 4 | izmalkovo\n",
      "Processing Record 42 of Set 4 | maceio\n",
      "Processing Record 43 of Set 4 | le pont-de-claix\n",
      "Processing Record 44 of Set 4 | caravelas\n",
      "Processing Record 45 of Set 4 | svetlogorsk\n",
      "Processing Record 46 of Set 4 | edson\n",
      "Processing Record 47 of Set 4 | ballater\n",
      "Processing Record 48 of Set 4 | bethel\n",
      "Processing Record 49 of Set 4 | pangnirtung\n",
      "Processing Record 50 of Set 4 | samaniego\n",
      "Processing Record 1 of Set 5 | kotido\n",
      "Processing Record 2 of Set 5 | saryshagan\n",
      "City not found. Skipping...\n",
      "Processing Record 3 of Set 5 | dawei\n",
      "Processing Record 4 of Set 5 | san jose\n",
      "Processing Record 5 of Set 5 | sitka\n",
      "Processing Record 6 of Set 5 | thung song\n",
      "Processing Record 7 of Set 5 | ondjiva\n",
      "Processing Record 8 of Set 5 | carballo\n",
      "Processing Record 9 of Set 5 | malyye derbety\n",
      "Processing Record 10 of Set 5 | gulshat\n",
      "City not found. Skipping...\n",
      "Processing Record 11 of Set 5 | yingshang\n",
      "City not found. Skipping...\n",
      "Processing Record 12 of Set 5 | norman wells\n",
      "Processing Record 13 of Set 5 | vilhena\n",
      "Processing Record 14 of Set 5 | shingu\n",
      "Processing Record 15 of Set 5 | ust-kan\n",
      "Processing Record 16 of Set 5 | fortuna\n",
      "Processing Record 17 of Set 5 | belaya gora\n",
      "Processing Record 18 of Set 5 | cumaral\n",
      "Processing Record 19 of Set 5 | thompson\n",
      "Processing Record 20 of Set 5 | nikolskoye\n",
      "Processing Record 21 of Set 5 | dong xoai\n",
      "Processing Record 22 of Set 5 | kuah\n",
      "Processing Record 23 of Set 5 | tadpatri\n",
      "Processing Record 24 of Set 5 | floro\n",
      "Processing Record 25 of Set 5 | bathsheba\n",
      "Processing Record 26 of Set 5 | faanui\n",
      "Processing Record 27 of Set 5 | katsuura\n",
      "Processing Record 28 of Set 5 | mount gambier\n",
      "Processing Record 29 of Set 5 | grand gaube\n",
      "Processing Record 30 of Set 5 | hovd\n",
      "Processing Record 31 of Set 5 | porto murtinho\n",
      "Processing Record 32 of Set 5 | manakara\n",
      "Processing Record 33 of Set 5 | sukhobuzimskoye\n",
      "Processing Record 34 of Set 5 | byron bay\n",
      "Processing Record 35 of Set 5 | yulara\n",
      "Processing Record 36 of Set 5 | tessalit\n",
      "Processing Record 37 of Set 5 | jizan\n",
      "Processing Record 38 of Set 5 | satitoa\n",
      "City not found. Skipping...\n",
      "Processing Record 39 of Set 5 | maniitsoq\n",
      "Processing Record 40 of Set 5 | severo-kurilsk\n",
      "Processing Record 41 of Set 5 | akyab\n",
      "Processing Record 42 of Set 5 | coihaique\n",
      "Processing Record 43 of Set 5 | anar darreh\n",
      "City not found. Skipping...\n",
      "Processing Record 44 of Set 5 | narasannapeta\n",
      "Processing Record 45 of Set 5 | borba\n",
      "Processing Record 46 of Set 5 | bayeux\n",
      "Processing Record 47 of Set 5 | lasa\n",
      "Processing Record 48 of Set 5 | ruatoria\n",
      "City not found. Skipping...\n",
      "Processing Record 49 of Set 5 | bubaque\n",
      "Processing Record 50 of Set 5 | vila velha\n",
      "Processing Record 1 of Set 6 | hutchinson\n",
      "Processing Record 2 of Set 6 | ramhormoz\n",
      "Processing Record 3 of Set 6 | rio muerto\n",
      "Processing Record 4 of Set 6 | hualmay\n",
      "Processing Record 5 of Set 6 | kaitangata\n",
      "Processing Record 6 of Set 6 | sterling\n",
      "Processing Record 7 of Set 6 | adrar\n",
      "Processing Record 8 of Set 6 | shar\n",
      "Processing Record 9 of Set 6 | xuddur\n",
      "Processing Record 10 of Set 6 | poronaysk\n",
      "Processing Record 11 of Set 6 | scarborough\n",
      "Processing Record 12 of Set 6 | komsomolskiy\n",
      "Processing Record 13 of Set 6 | narsaq\n",
      "Processing Record 14 of Set 6 | mancio lima\n",
      "Processing Record 15 of Set 6 | chyhyryn\n",
      "Processing Record 16 of Set 6 | vanimo\n",
      "Processing Record 17 of Set 6 | homer\n",
      "Processing Record 18 of Set 6 | hamilton\n",
      "Processing Record 19 of Set 6 | sobolevo\n",
      "Processing Record 20 of Set 6 | umzimvubu\n",
      "City not found. Skipping...\n",
      "Processing Record 21 of Set 6 | olinda\n",
      "Processing Record 22 of Set 6 | keti bandar\n",
      "Processing Record 23 of Set 6 | bengkulu\n",
      "Processing Record 24 of Set 6 | haines junction\n",
      "Processing Record 25 of Set 6 | ozu\n",
      "Processing Record 26 of Set 6 | aykhal\n",
      "Processing Record 27 of Set 6 | husavik\n",
      "Processing Record 28 of Set 6 | tunduru\n",
      "City not found. Skipping...\n",
      "Processing Record 29 of Set 6 | tumannyy\n",
      "City not found. Skipping...\n",
      "Processing Record 30 of Set 6 | praia da vitoria\n",
      "Processing Record 31 of Set 6 | gasa\n",
      "Processing Record 32 of Set 6 | dikson\n",
      "Processing Record 33 of Set 6 | sinnamary\n",
      "Processing Record 34 of Set 6 | kolosovka\n",
      "Processing Record 35 of Set 6 | deputatskiy\n",
      "Processing Record 36 of Set 6 | saint-denis\n",
      "Processing Record 37 of Set 6 | sault sainte marie\n",
      "Processing Record 38 of Set 6 | huilong\n",
      "Processing Record 39 of Set 6 | steamboat springs\n",
      "Processing Record 40 of Set 6 | fukue\n",
      "Processing Record 41 of Set 6 | erenhot\n",
      "Processing Record 42 of Set 6 | attawapiskat\n",
      "City not found. Skipping...\n",
      "Processing Record 43 of Set 6 | podosinovets\n",
      "Processing Record 44 of Set 6 | havoysund\n",
      "Processing Record 45 of Set 6 | guarapari\n",
      "Processing Record 46 of Set 6 | whitianga\n",
      "Processing Record 47 of Set 6 | broken hill\n",
      "Processing Record 48 of Set 6 | sao miguel do araguaia\n",
      "Processing Record 49 of Set 6 | buchanan\n",
      "Processing Record 50 of Set 6 | iskateley\n",
      "Processing Record 1 of Set 7 | rocha\n",
      "Processing Record 2 of Set 7 | lorengau\n",
      "Processing Record 3 of Set 7 | birobidzhan\n",
      "Processing Record 4 of Set 7 | geraldton\n",
      "Processing Record 5 of Set 7 | faya\n",
      "Processing Record 6 of Set 7 | tsiroanomandidy\n",
      "Processing Record 7 of Set 7 | portoferraio\n",
      "Processing Record 8 of Set 7 | warqla\n",
      "City not found. Skipping...\n",
      "Processing Record 9 of Set 7 | the valley\n",
      "Processing Record 10 of Set 7 | inirida\n",
      "Processing Record 11 of Set 7 | pacific grove\n",
      "Processing Record 12 of Set 7 | bam\n",
      "Processing Record 13 of Set 7 | utiroa\n",
      "City not found. Skipping...\n",
      "Processing Record 14 of Set 7 | hauterive\n",
      "Processing Record 15 of Set 7 | dubbo\n",
      "Processing Record 16 of Set 7 | margate\n",
      "Processing Record 17 of Set 7 | lata\n",
      "Processing Record 18 of Set 7 | puerto escondido\n",
      "Processing Record 19 of Set 7 | aswan\n",
      "Processing Record 20 of Set 7 | ilulissat\n",
      "Processing Record 21 of Set 7 | qasigiannguit\n",
      "Processing Record 22 of Set 7 | mandalgovi\n",
      "Processing Record 23 of Set 7 | yuanping\n",
      "Processing Record 24 of Set 7 | khatanga\n",
      "Processing Record 25 of Set 7 | bereda\n",
      "Processing Record 26 of Set 7 | lufkin\n",
      "Processing Record 27 of Set 7 | lock haven\n",
      "Processing Record 28 of Set 7 | naco\n",
      "Processing Record 29 of Set 7 | broome\n",
      "Processing Record 30 of Set 7 | kawalu\n",
      "Processing Record 31 of Set 7 | grindavik\n",
      "Processing Record 32 of Set 7 | colares\n",
      "Processing Record 33 of Set 7 | san cristobal\n",
      "Processing Record 34 of Set 7 | pilar\n",
      "Processing Record 35 of Set 7 | sorland\n",
      "Processing Record 36 of Set 7 | ji-parana\n",
      "City not found. Skipping...\n",
      "Processing Record 37 of Set 7 | mogadishu\n",
      "Processing Record 38 of Set 7 | mahebourg\n",
      "Processing Record 39 of Set 7 | tagusao\n",
      "Processing Record 40 of Set 7 | vardo\n",
      "Processing Record 41 of Set 7 | chapais\n",
      "Processing Record 42 of Set 7 | laguna\n",
      "Processing Record 43 of Set 7 | englehart\n",
      "Processing Record 44 of Set 7 | trinidad\n",
      "Processing Record 45 of Set 7 | balintore\n",
      "Processing Record 46 of Set 7 | chokurdakh\n",
      "Processing Record 47 of Set 7 | zaza del medio\n",
      "Processing Record 48 of Set 7 | karkaralinsk\n",
      "City not found. Skipping...\n",
      "Processing Record 49 of Set 7 | arys\n",
      "Processing Record 50 of Set 7 | santa cruz\n",
      "Processing Record 1 of Set 8 | idar\n",
      "Processing Record 2 of Set 8 | richards bay\n",
      "Processing Record 3 of Set 8 | oksfjord\n",
      "Processing Record 4 of Set 8 | san francisco\n",
      "Processing Record 5 of Set 8 | arraial do cabo\n",
      "Processing Record 6 of Set 8 | isangel\n",
      "Processing Record 7 of Set 8 | warah\n",
      "Processing Record 8 of Set 8 | pasighat\n",
      "Processing Record 9 of Set 8 | weligama\n",
      "Processing Record 10 of Set 8 | brae\n",
      "Processing Record 11 of Set 8 | samarai\n",
      "Processing Record 12 of Set 8 | totness\n",
      "Processing Record 13 of Set 8 | guerrero negro\n",
      "Processing Record 14 of Set 8 | uyuni\n",
      "Processing Record 15 of Set 8 | kamaishi\n",
      "Processing Record 16 of Set 8 | pouembout\n",
      "Processing Record 17 of Set 8 | illela\n",
      "Processing Record 18 of Set 8 | avera\n",
      "Processing Record 19 of Set 8 | bandarbeyla\n",
      "Processing Record 20 of Set 8 | montevideo\n",
      "Processing Record 21 of Set 8 | te anau\n",
      "Processing Record 22 of Set 8 | sao filipe\n",
      "Processing Record 23 of Set 8 | menongue\n",
      "Processing Record 24 of Set 8 | hvide sande\n",
      "Processing Record 25 of Set 8 | half moon bay\n",
      "Processing Record 26 of Set 8 | basco\n",
      "Processing Record 27 of Set 8 | alofi\n",
      "Processing Record 28 of Set 8 | westport\n"
     ]
    },
    {
     "name": "stdout",
     "output_type": "stream",
     "text": [
      "Processing Record 29 of Set 8 | biak\n",
      "Processing Record 30 of Set 8 | hihifo\n",
      "City not found. Skipping...\n",
      "Processing Record 31 of Set 8 | wabrzezno\n",
      "Processing Record 32 of Set 8 | gamba\n",
      "Processing Record 33 of Set 8 | nova borova\n",
      "Processing Record 34 of Set 8 | cortes\n",
      "Processing Record 35 of Set 8 | turka\n",
      "Processing Record 36 of Set 8 | tsihombe\n",
      "City not found. Skipping...\n",
      "Processing Record 37 of Set 8 | skegness\n",
      "Processing Record 38 of Set 8 | amderma\n",
      "City not found. Skipping...\n",
      "Processing Record 39 of Set 8 | lagoa\n",
      "Processing Record 40 of Set 8 | conceicao do araguaia\n",
      "Processing Record 41 of Set 8 | aksu\n",
      "Processing Record 42 of Set 8 | alta floresta\n",
      "Processing Record 43 of Set 8 | henties bay\n",
      "Processing Record 44 of Set 8 | belmonte\n",
      "Processing Record 45 of Set 8 | waterloo\n",
      "Processing Record 46 of Set 8 | ixtapa\n",
      "Processing Record 47 of Set 8 | dinsor\n",
      "City not found. Skipping...\n",
      "Processing Record 48 of Set 8 | timizart\n",
      "Processing Record 49 of Set 8 | acajutla\n",
      "Processing Record 50 of Set 8 | strelka\n",
      "Processing Record 1 of Set 9 | soubre\n",
      "Processing Record 2 of Set 9 | asau\n",
      "Processing Record 3 of Set 9 | porto novo\n",
      "Processing Record 4 of Set 9 | vinh\n",
      "Processing Record 5 of Set 9 | makakilo city\n",
      "Processing Record 6 of Set 9 | labuhan\n",
      "Processing Record 7 of Set 9 | luderitz\n",
      "Processing Record 8 of Set 9 | billings\n",
      "Processing Record 9 of Set 9 | teya\n",
      "Processing Record 10 of Set 9 | wewak\n",
      "Processing Record 11 of Set 9 | kushiro\n",
      "Processing Record 12 of Set 9 | campbell river\n",
      "Processing Record 13 of Set 9 | muravlenko\n",
      "Processing Record 14 of Set 9 | kikwit\n",
      "Processing Record 15 of Set 9 | kondinskoye\n",
      "Processing Record 16 of Set 9 | zarubino\n",
      "Processing Record 17 of Set 9 | healesville\n",
      "Processing Record 18 of Set 9 | tongsa\n",
      "City not found. Skipping...\n",
      "Processing Record 19 of Set 9 | marawi\n",
      "Processing Record 20 of Set 9 | andenes\n",
      "Processing Record 21 of Set 9 | bambous virieux\n",
      "Processing Record 22 of Set 9 | smidovich\n",
      "Processing Record 23 of Set 9 | carutapera\n",
      "Processing Record 24 of Set 9 | karanganom\n",
      "Processing Record 25 of Set 9 | san andres\n",
      "Processing Record 26 of Set 9 | cacequi\n",
      "Processing Record 27 of Set 9 | clyde river\n",
      "Processing Record 28 of Set 9 | aguimes\n",
      "Processing Record 29 of Set 9 | bajil\n",
      "Processing Record 30 of Set 9 | quatre cocos\n",
      "Processing Record 31 of Set 9 | pueblo\n",
      "Processing Record 32 of Set 9 | mitu\n",
      "Processing Record 33 of Set 9 | pitimbu\n",
      "Processing Record 34 of Set 9 | guantanamo\n",
      "Processing Record 35 of Set 9 | camacha\n",
      "Processing Record 36 of Set 9 | halalo\n",
      "City not found. Skipping...\n",
      "Processing Record 37 of Set 9 | aklera\n",
      "Processing Record 38 of Set 9 | bonaventure\n",
      "Processing Record 39 of Set 9 | waingapu\n",
      "Processing Record 40 of Set 9 | galveston\n",
      "Processing Record 41 of Set 9 | helong\n",
      "Processing Record 42 of Set 9 | gorontalo\n",
      "Processing Record 43 of Set 9 | puerto asis\n",
      "Processing Record 44 of Set 9 | salinopolis\n",
      "Processing Record 45 of Set 9 | moiyabana\n",
      "City not found. Skipping...\n",
      "Processing Record 46 of Set 9 | batagay-alyta\n",
      "Processing Record 47 of Set 9 | polunochnoye\n",
      "Processing Record 48 of Set 9 | mayo\n",
      "Processing Record 49 of Set 9 | fernley\n",
      "Processing Record 50 of Set 9 | sao gabriel da cachoeira\n",
      "Processing Record 1 of Set 10 | dongying\n",
      "Processing Record 2 of Set 10 | leningradskiy\n",
      "Processing Record 3 of Set 10 | linqiong\n",
      "Processing Record 4 of Set 10 | nizwa\n",
      "Processing Record 5 of Set 10 | arlit\n",
      "Processing Record 6 of Set 10 | chagda\n",
      "City not found. Skipping...\n",
      "Processing Record 7 of Set 10 | novikovo\n",
      "Processing Record 8 of Set 10 | bur gabo\n",
      "City not found. Skipping...\n",
      "Processing Record 9 of Set 10 | usinsk\n",
      "Processing Record 10 of Set 10 | conde\n",
      "Processing Record 11 of Set 10 | kieta\n",
      "Processing Record 12 of Set 10 | salamanca\n",
      "Processing Record 13 of Set 10 | palabuhanratu\n",
      "City not found. Skipping...\n",
      "Processing Record 14 of Set 10 | vestmannaeyjar\n",
      "Processing Record 15 of Set 10 | alugan\n",
      "Processing Record 16 of Set 10 | strezhevoy\n",
      "Processing Record 17 of Set 10 | gogrial\n",
      "Processing Record 18 of Set 10 | dombarovskiy\n",
      "Processing Record 19 of Set 10 | vila franca do campo\n",
      "Processing Record 20 of Set 10 | marcona\n",
      "City not found. Skipping...\n",
      "Processing Record 21 of Set 10 | vigrestad\n",
      "Processing Record 22 of Set 10 | ensley\n",
      "Processing Record 23 of Set 10 | tonekabon\n",
      "Processing Record 24 of Set 10 | ojinaga\n",
      "Processing Record 25 of Set 10 | ossora\n",
      "Processing Record 26 of Set 10 | huarmey\n",
      "Processing Record 27 of Set 10 | los llanos de aridane\n",
      "Processing Record 28 of Set 10 | goderich\n",
      "Processing Record 29 of Set 10 | redcliffe\n",
      "Processing Record 30 of Set 10 | juifang\n",
      "City not found. Skipping...\n",
      "Processing Record 31 of Set 10 | cockburn town\n",
      "Processing Record 32 of Set 10 | uttarkashi\n",
      "Processing Record 33 of Set 10 | darbhanga\n",
      "Processing Record 34 of Set 10 | komsomolets\n",
      "Processing Record 35 of Set 10 | dorado\n",
      "Processing Record 36 of Set 10 | kindia\n",
      "Processing Record 37 of Set 10 | les cayes\n",
      "Processing Record 38 of Set 10 | never\n",
      "Processing Record 39 of Set 10 | nur\n",
      "Processing Record 40 of Set 10 | eyl\n",
      "Processing Record 41 of Set 10 | nosy varika\n",
      "Processing Record 42 of Set 10 | kingman\n",
      "Processing Record 43 of Set 10 | najran\n",
      "Processing Record 44 of Set 10 | eha amufu\n",
      "Processing Record 45 of Set 10 | rawlins\n",
      "Processing Record 46 of Set 10 | sisophon\n",
      "Processing Record 47 of Set 10 | samusu\n",
      "City not found. Skipping...\n",
      "Processing Record 48 of Set 10 | coahuayana\n",
      "Processing Record 49 of Set 10 | tura\n",
      "Processing Record 50 of Set 10 | yigou\n",
      "Processing Record 1 of Set 11 | pokaran\n",
      "Processing Record 2 of Set 11 | scottsbluff\n",
      "Processing Record 3 of Set 11 | kalmunai\n",
      "Processing Record 4 of Set 11 | victoria point\n",
      "Processing Record 5 of Set 11 | kalomo\n",
      "City not found. Skipping...\n",
      "Processing Record 6 of Set 11 | portland\n",
      "Processing Record 7 of Set 11 | katangli\n",
      "Processing Record 8 of Set 11 | fomboni\n",
      "Processing Record 9 of Set 11 | karaul\n",
      "City not found. Skipping...\n",
      "Processing Record 10 of Set 11 | noshiro\n",
      "Processing Record 11 of Set 11 | comodoro rivadavia\n",
      "Processing Record 12 of Set 11 | boguchany\n",
      "Processing Record 13 of Set 11 | lumby\n",
      "Processing Record 14 of Set 11 | port macquarie\n",
      "Processing Record 15 of Set 11 | shelburne\n",
      "Processing Record 16 of Set 11 | manokwari\n",
      "Processing Record 17 of Set 11 | stephanskirchen\n",
      "Processing Record 18 of Set 11 | methala\n",
      "Processing Record 19 of Set 11 | kafyr-kumukh\n",
      "Processing Record 20 of Set 11 | washington\n",
      "Processing Record 21 of Set 11 | inhambane\n",
      "Processing Record 22 of Set 11 | alotau\n",
      "City not found. Skipping...\n",
      "Processing Record 23 of Set 11 | mattru\n",
      "Processing Record 24 of Set 11 | do gonbadan\n",
      "Processing Record 25 of Set 11 | puerto carreno\n",
      "Processing Record 26 of Set 11 | saint andrews\n",
      "Processing Record 27 of Set 11 | palaikastron\n",
      "Processing Record 28 of Set 11 | kalemie\n",
      "Processing Record 29 of Set 11 | sokoto\n",
      "Processing Record 30 of Set 11 | srednekolymsk\n",
      "Processing Record 31 of Set 11 | necochea\n",
      "Processing Record 32 of Set 11 | macau\n",
      "Processing Record 33 of Set 11 | rindal\n",
      "Processing Record 34 of Set 11 | tarauaca\n",
      "Processing Record 35 of Set 11 | kuldur\n",
      "Processing Record 36 of Set 11 | olustvere\n",
      "Processing Record 37 of Set 11 | brentwood\n",
      "Processing Record 38 of Set 11 | ust-nera\n",
      "Processing Record 39 of Set 11 | kapuskasing\n",
      "Processing Record 40 of Set 11 | ambilobe\n",
      "Processing Record 41 of Set 11 | hofn\n",
      "Processing Record 42 of Set 11 | atbasar\n",
      "Processing Record 43 of Set 11 | kamenskoye\n",
      "City not found. Skipping...\n",
      "Processing Record 44 of Set 11 | doha\n",
      "Processing Record 45 of Set 11 | mtambile\n",
      "Processing Record 46 of Set 11 | chitipa\n",
      "Processing Record 47 of Set 11 | sansai\n",
      "City not found. Skipping...\n",
      "Processing Record 48 of Set 11 | ostrovnoy\n",
      "Processing Record 49 of Set 11 | kloulklubed\n",
      "Processing Record 50 of Set 11 | san patricio\n",
      "Processing Record 1 of Set 12 | rorvik\n",
      "Processing Record 2 of Set 12 | dondo\n",
      "Processing Record 3 of Set 12 | sainte-marie\n",
      "Processing Record 4 of Set 12 | posse\n",
      "Processing Record 5 of Set 12 | phun phin\n",
      "City not found. Skipping...\n",
      "Processing Record 6 of Set 12 | liverpool\n",
      "Processing Record 7 of Set 12 | wakkanai\n",
      "Processing Record 8 of Set 12 | poshekhonye\n",
      "Processing Record 9 of Set 12 | mezhdurechenskiy\n",
      "Processing Record 10 of Set 12 | ayan\n",
      "Processing Record 11 of Set 12 | kismayo\n"
     ]
    },
    {
     "name": "stdout",
     "output_type": "stream",
     "text": [
      "Processing Record 12 of Set 12 | riberalta\n",
      "Processing Record 13 of Set 12 | lethem\n",
      "Processing Record 14 of Set 12 | middletown\n",
      "Processing Record 15 of Set 12 | ustupo\n",
      "Processing Record 16 of Set 12 | wasco\n",
      "Processing Record 17 of Set 12 | fairborn\n",
      "Processing Record 18 of Set 12 | shenzhen\n",
      "Processing Record 19 of Set 12 | wageningen\n",
      "Processing Record 20 of Set 12 | dali\n",
      "Processing Record 21 of Set 12 | high rock\n",
      "Processing Record 22 of Set 12 | jiaojiang\n",
      "Processing Record 23 of Set 12 | khonuu\n",
      "City not found. Skipping...\n",
      "Processing Record 24 of Set 12 | whitehorse\n",
      "Processing Record 25 of Set 12 | louisbourg\n",
      "City not found. Skipping...\n",
      "Processing Record 26 of Set 12 | rawson\n",
      "Processing Record 27 of Set 12 | antalaha\n",
      "Processing Record 28 of Set 12 | abu dhabi\n",
      "Processing Record 29 of Set 12 | salvador\n",
      "Processing Record 30 of Set 12 | liuzhou\n",
      "Processing Record 31 of Set 12 | douglas\n",
      "Processing Record 32 of Set 12 | san juan\n",
      "Processing Record 33 of Set 12 | fort nelson\n",
      "Processing Record 34 of Set 12 | constitucion\n",
      "Processing Record 35 of Set 12 | prachuap khiri khan\n",
      "Processing Record 36 of Set 12 | boundiali\n",
      "Processing Record 37 of Set 12 | seymchan\n",
      "Processing Record 38 of Set 12 | sao joao da barra\n",
      "Processing Record 39 of Set 12 | aklavik\n",
      "Processing Record 40 of Set 12 | moose factory\n",
      "Processing Record 41 of Set 12 | paradwip\n",
      "City not found. Skipping...\n",
      "Processing Record 42 of Set 12 | tecoanapa\n",
      "Processing Record 43 of Set 12 | demerval lobao\n",
      "Processing Record 44 of Set 12 | lahij\n",
      "Processing Record 45 of Set 12 | forbes\n",
      "Processing Record 46 of Set 12 | kendari\n",
      "Processing Record 47 of Set 12 | hervey bay\n",
      "Processing Record 48 of Set 12 | olafsvik\n",
      "Processing Record 49 of Set 12 | amga\n",
      "Processing Record 50 of Set 12 | beringovskiy\n",
      "Processing Record 1 of Set 13 | yar-sale\n",
      "Processing Record 2 of Set 13 | christchurch\n",
      "Processing Record 3 of Set 13 | hay river\n",
      "Processing Record 4 of Set 13 | kjollefjord\n",
      "Processing Record 5 of Set 13 | bodden town\n",
      "Processing Record 6 of Set 13 | san antonio\n",
      "Processing Record 7 of Set 13 | nanakuli\n",
      "Processing Record 8 of Set 13 | huanren\n",
      "Processing Record 9 of Set 13 | matagami\n",
      "Processing Record 10 of Set 13 | berlevag\n",
      "Processing Record 11 of Set 13 | barsinghausen\n",
      "Processing Record 12 of Set 13 | havre\n",
      "Processing Record 13 of Set 13 | damara\n",
      "Processing Record 14 of Set 13 | jamame\n",
      "Processing Record 15 of Set 13 | dicabisagan\n",
      "Processing Record 16 of Set 13 | cheyenne\n",
      "Processing Record 17 of Set 13 | kuruman\n",
      "Processing Record 18 of Set 13 | jiroft\n",
      "City not found. Skipping...\n",
      "Processing Record 19 of Set 13 | dzhusaly\n",
      "City not found. Skipping...\n",
      "   \n",
      "-----------------------------\n",
      "Data Retrieval Complete      \n",
      "-----------------------------\n",
      "**Number of Cities Not found:  52\n"
     ]
    }
   ],
   "source": [
    "\n",
    "#url =f\"https://api.openweathermap.org/data/2.5/weather?\"\n",
    "url =\"http://api.openweathermap.org/data/2.5/weather?units=Imperial&APPID=\"+weather_api_key\n",
    "#print(url)\n",
    "response=requests.get(url)\n",
    "print(response)\n",
    "\n",
    "#initialize \n",
    "recordNum=1\n",
    "setNum =1\n",
    "numCityNotFound =0\n",
    "\n",
    "# Create a dictionary for weather check dataframe (based on the dataframe given in started code)\n",
    "weatherCheck_dict = {\"city\":cities,\n",
    "                     \"lon\": \"\",\n",
    "                     \"lat\": \"\",\n",
    "                     \"Max Temp\": \"\",\n",
    "                     \"Humidity\": \"\",\n",
    "                     \"Cloudiness\": \"\",\n",
    "                     \"Wind Speed\": \"\",\n",
    "                     \"Country\": \"\",\n",
    "                     \"Date\": \"\" }\n",
    "\n",
    "weatherCheck_data = pd.DataFrame(weatherCheck_dict)\n",
    "\n",
    "print('''Beginning Data Retrieval\n",
    "-----------------------------''')\n",
    "#Loop through list of cities and perform a request for data on each of them\n",
    "\n",
    "for city in cities:\n",
    "    \n",
    "    query_url =f\"{url}&q={city}\"\n",
    "    #print(query_url)\n",
    "    response =requests.get(query_url).json()\n",
    "    #print(response)\n",
    "    #Try except block to catch the missing city and skipping that one\n",
    "    try:\n",
    "        #print log\n",
    "        print(\"Processing Record\",recordNum,\"of Set\",setNum,\"|\",city)\n",
    "        #Insert data into dataframe\n",
    "        weatherCheck_data.loc[weatherCheck_data['city'] == city, 'lon'] = response['coord']['lon']\n",
    "        weatherCheck_data.loc[weatherCheck_data['city'] == city, 'lat'] = response['coord']['lat']\n",
    "        weatherCheck_data.loc[weatherCheck_data['city'] == city, 'Max Temp'] = response['main']['temp_max']\n",
    "        weatherCheck_data.loc[weatherCheck_data['city'] == city, 'Humidity'] = response['main']['humidity']\n",
    "        weatherCheck_data.loc[weatherCheck_data['city'] == city, 'Cloudiness'] = response['clouds']['all']\n",
    "        weatherCheck_data.loc[weatherCheck_data['city'] == city, 'Wind Speed'] = response['wind']['speed']\n",
    "        weatherCheck_data.loc[weatherCheck_data['city'] == city, 'Country'] = response['sys']['country']\n",
    "        weatherCheck_data.loc[weatherCheck_data['city'] == city, 'Date'] = response['dt']\n",
    "    except :\n",
    "        print(\"City not found. Skipping...\")\n",
    "        numCityNotFound+=1\n",
    "        \n",
    "    #increment the record num count\n",
    "    recordNum+=1\n",
    "    #Condition to print sets by breakig the records into 50 each\n",
    "    if recordNum == 51:\n",
    "        setNum+=1\n",
    "        recordNum =1\n",
    "        #time.sleep(60)\n",
    "      \n",
    "print('''   \n",
    "-----------------------------\n",
    "Data Retrieval Complete      \n",
    "-----------------------------''')\n",
    "\n",
    "print(\"**Number of Cities Not found: \",numCityNotFound)"
   ]
  },
  {
   "cell_type": "markdown",
   "metadata": {},
   "source": [
    "### Convert Raw Data to DataFrame\n",
    "* Export the city data into a .csv.\n",
    "* Display the DataFrame"
   ]
  },
  {
   "cell_type": "code",
   "execution_count": 460,
   "metadata": {},
   "outputs": [
    {
     "data": {
      "text/html": [
       "<div>\n",
       "<style scoped>\n",
       "    .dataframe tbody tr th:only-of-type {\n",
       "        vertical-align: middle;\n",
       "    }\n",
       "\n",
       "    .dataframe tbody tr th {\n",
       "        vertical-align: top;\n",
       "    }\n",
       "\n",
       "    .dataframe thead th {\n",
       "        text-align: right;\n",
       "    }\n",
       "</style>\n",
       "<table border=\"1\" class=\"dataframe\">\n",
       "  <thead>\n",
       "    <tr style=\"text-align: right;\">\n",
       "      <th></th>\n",
       "      <th>city</th>\n",
       "      <th>lon</th>\n",
       "      <th>lat</th>\n",
       "      <th>Max Temp</th>\n",
       "      <th>Humidity</th>\n",
       "      <th>Cloudiness</th>\n",
       "      <th>Wind Speed</th>\n",
       "      <th>Country</th>\n",
       "      <th>Date</th>\n",
       "    </tr>\n",
       "  </thead>\n",
       "  <tbody>\n",
       "    <tr>\n",
       "      <th>1</th>\n",
       "      <td>cayenne</td>\n",
       "      <td>-52.3333</td>\n",
       "      <td>4.9333</td>\n",
       "      <td>80.10</td>\n",
       "      <td>1.0</td>\n",
       "      <td>0.0</td>\n",
       "      <td>2.30</td>\n",
       "      <td>GF</td>\n",
       "      <td>1.659587e+09</td>\n",
       "    </tr>\n",
       "    <tr>\n",
       "      <th>2</th>\n",
       "      <td>provideniya</td>\n",
       "      <td>-173.3000</td>\n",
       "      <td>64.3833</td>\n",
       "      <td>42.91</td>\n",
       "      <td>100.0</td>\n",
       "      <td>75.0</td>\n",
       "      <td>6.71</td>\n",
       "      <td>RU</td>\n",
       "      <td>1.659587e+09</td>\n",
       "    </tr>\n",
       "    <tr>\n",
       "      <th>3</th>\n",
       "      <td>atuona</td>\n",
       "      <td>-139.0333</td>\n",
       "      <td>-9.8000</td>\n",
       "      <td>77.58</td>\n",
       "      <td>81.0</td>\n",
       "      <td>36.0</td>\n",
       "      <td>19.84</td>\n",
       "      <td>PF</td>\n",
       "      <td>1.659587e+09</td>\n",
       "    </tr>\n",
       "    <tr>\n",
       "      <th>4</th>\n",
       "      <td>bluff</td>\n",
       "      <td>168.3333</td>\n",
       "      <td>-46.6000</td>\n",
       "      <td>57.79</td>\n",
       "      <td>71.0</td>\n",
       "      <td>22.0</td>\n",
       "      <td>14.63</td>\n",
       "      <td>NZ</td>\n",
       "      <td>1.659587e+09</td>\n",
       "    </tr>\n",
       "    <tr>\n",
       "      <th>6</th>\n",
       "      <td>butaritari</td>\n",
       "      <td>172.7902</td>\n",
       "      <td>3.0707</td>\n",
       "      <td>82.22</td>\n",
       "      <td>73.0</td>\n",
       "      <td>22.0</td>\n",
       "      <td>14.99</td>\n",
       "      <td>KI</td>\n",
       "      <td>1.659587e+09</td>\n",
       "    </tr>\n",
       "    <tr>\n",
       "      <th>7</th>\n",
       "      <td>igdir</td>\n",
       "      <td>44.0450</td>\n",
       "      <td>39.9237</td>\n",
       "      <td>81.59</td>\n",
       "      <td>41.0</td>\n",
       "      <td>20.0</td>\n",
       "      <td>8.05</td>\n",
       "      <td>TR</td>\n",
       "      <td>1.659587e+09</td>\n",
       "    </tr>\n",
       "    <tr>\n",
       "      <th>8</th>\n",
       "      <td>zernograd</td>\n",
       "      <td>40.3083</td>\n",
       "      <td>46.8452</td>\n",
       "      <td>72.77</td>\n",
       "      <td>74.0</td>\n",
       "      <td>51.0</td>\n",
       "      <td>5.03</td>\n",
       "      <td>RU</td>\n",
       "      <td>1.659587e+09</td>\n",
       "    </tr>\n",
       "    <tr>\n",
       "      <th>9</th>\n",
       "      <td>mataura</td>\n",
       "      <td>168.8643</td>\n",
       "      <td>-46.1927</td>\n",
       "      <td>57.47</td>\n",
       "      <td>68.0</td>\n",
       "      <td>28.0</td>\n",
       "      <td>7.56</td>\n",
       "      <td>NZ</td>\n",
       "      <td>1.659587e+09</td>\n",
       "    </tr>\n",
       "    <tr>\n",
       "      <th>10</th>\n",
       "      <td>loei</td>\n",
       "      <td>101.5000</td>\n",
       "      <td>17.4167</td>\n",
       "      <td>78.17</td>\n",
       "      <td>65.0</td>\n",
       "      <td>100.0</td>\n",
       "      <td>4.09</td>\n",
       "      <td>TH</td>\n",
       "      <td>1.659587e+09</td>\n",
       "    </tr>\n",
       "    <tr>\n",
       "      <th>11</th>\n",
       "      <td>mar del plata</td>\n",
       "      <td>-57.5575</td>\n",
       "      <td>-38.0023</td>\n",
       "      <td>46.42</td>\n",
       "      <td>84.0</td>\n",
       "      <td>100.0</td>\n",
       "      <td>8.05</td>\n",
       "      <td>AR</td>\n",
       "      <td>1.659587e+09</td>\n",
       "    </tr>\n",
       "    <tr>\n",
       "      <th>12</th>\n",
       "      <td>sisimiut</td>\n",
       "      <td>-53.6735</td>\n",
       "      <td>66.9395</td>\n",
       "      <td>46.31</td>\n",
       "      <td>88.0</td>\n",
       "      <td>100.0</td>\n",
       "      <td>4.36</td>\n",
       "      <td>GL</td>\n",
       "      <td>1.659587e+09</td>\n",
       "    </tr>\n",
       "    <tr>\n",
       "      <th>13</th>\n",
       "      <td>kapaa</td>\n",
       "      <td>-159.3190</td>\n",
       "      <td>22.0752</td>\n",
       "      <td>82.38</td>\n",
       "      <td>70.0</td>\n",
       "      <td>20.0</td>\n",
       "      <td>11.50</td>\n",
       "      <td>US</td>\n",
       "      <td>1.659587e+09</td>\n",
       "    </tr>\n",
       "    <tr>\n",
       "      <th>14</th>\n",
       "      <td>college</td>\n",
       "      <td>-147.8028</td>\n",
       "      <td>64.8569</td>\n",
       "      <td>74.07</td>\n",
       "      <td>43.0</td>\n",
       "      <td>75.0</td>\n",
       "      <td>6.91</td>\n",
       "      <td>US</td>\n",
       "      <td>1.659587e+09</td>\n",
       "    </tr>\n",
       "    <tr>\n",
       "      <th>15</th>\n",
       "      <td>saskylakh</td>\n",
       "      <td>114.0833</td>\n",
       "      <td>71.9167</td>\n",
       "      <td>56.98</td>\n",
       "      <td>50.0</td>\n",
       "      <td>24.0</td>\n",
       "      <td>13.78</td>\n",
       "      <td>RU</td>\n",
       "      <td>1.659587e+09</td>\n",
       "    </tr>\n",
       "    <tr>\n",
       "      <th>16</th>\n",
       "      <td>pandan</td>\n",
       "      <td>124.1694</td>\n",
       "      <td>14.0453</td>\n",
       "      <td>79.23</td>\n",
       "      <td>89.0</td>\n",
       "      <td>100.0</td>\n",
       "      <td>5.57</td>\n",
       "      <td>PH</td>\n",
       "      <td>1.659587e+09</td>\n",
       "    </tr>\n",
       "  </tbody>\n",
       "</table>\n",
       "</div>"
      ],
      "text/plain": [
       "             city       lon      lat  Max Temp  Humidity  Cloudiness  \\\n",
       "1         cayenne  -52.3333   4.9333     80.10       1.0         0.0   \n",
       "2     provideniya -173.3000  64.3833     42.91     100.0        75.0   \n",
       "3          atuona -139.0333  -9.8000     77.58      81.0        36.0   \n",
       "4           bluff  168.3333 -46.6000     57.79      71.0        22.0   \n",
       "6      butaritari  172.7902   3.0707     82.22      73.0        22.0   \n",
       "7           igdir   44.0450  39.9237     81.59      41.0        20.0   \n",
       "8       zernograd   40.3083  46.8452     72.77      74.0        51.0   \n",
       "9         mataura  168.8643 -46.1927     57.47      68.0        28.0   \n",
       "10           loei  101.5000  17.4167     78.17      65.0       100.0   \n",
       "11  mar del plata  -57.5575 -38.0023     46.42      84.0       100.0   \n",
       "12       sisimiut  -53.6735  66.9395     46.31      88.0       100.0   \n",
       "13          kapaa -159.3190  22.0752     82.38      70.0        20.0   \n",
       "14        college -147.8028  64.8569     74.07      43.0        75.0   \n",
       "15      saskylakh  114.0833  71.9167     56.98      50.0        24.0   \n",
       "16         pandan  124.1694  14.0453     79.23      89.0       100.0   \n",
       "\n",
       "    Wind Speed Country          Date  \n",
       "1         2.30      GF  1.659587e+09  \n",
       "2         6.71      RU  1.659587e+09  \n",
       "3        19.84      PF  1.659587e+09  \n",
       "4        14.63      NZ  1.659587e+09  \n",
       "6        14.99      KI  1.659587e+09  \n",
       "7         8.05      TR  1.659587e+09  \n",
       "8         5.03      RU  1.659587e+09  \n",
       "9         7.56      NZ  1.659587e+09  \n",
       "10        4.09      TH  1.659587e+09  \n",
       "11        8.05      AR  1.659587e+09  \n",
       "12        4.36      GL  1.659587e+09  \n",
       "13       11.50      US  1.659587e+09  \n",
       "14        6.91      US  1.659587e+09  \n",
       "15       13.78      RU  1.659587e+09  \n",
       "16        5.57      PH  1.659587e+09  "
      ]
     },
     "metadata": {},
     "output_type": "display_data"
    }
   ],
   "source": [
    "#export data to csv file\n",
    "#removing the cities NaN \n",
    "weatherCheck_cleandata=weatherCheck_data.dropna()\n",
    "weatherCheck_cleandata.reset_index(drop=True)\n",
    "weatherCheck_cleandata.head(10)\n",
    "weatherCheck_cleandata.to_csv(\"OutputFiles/CityData.csv\", index=False, header=True)\n",
    "\n",
    "#display dataframe\n",
    "display(weatherCheck_cleandata.head(15))"
   ]
  },
  {
   "cell_type": "code",
   "execution_count": 461,
   "metadata": {},
   "outputs": [
    {
     "name": "stdout",
     "output_type": "stream",
     "text": [
      "*****What are the data types ?******\n"
     ]
    },
    {
     "data": {
      "text/plain": [
       "city           object\n",
       "lon           float64\n",
       "lat           float64\n",
       "Max Temp      float64\n",
       "Humidity      float64\n",
       "Cloudiness    float64\n",
       "Wind Speed    float64\n",
       "Country        object\n",
       "Date          float64\n",
       "dtype: object"
      ]
     },
     "metadata": {},
     "output_type": "display_data"
    },
    {
     "data": {
      "text/html": [
       "<div>\n",
       "<style scoped>\n",
       "    .dataframe tbody tr th:only-of-type {\n",
       "        vertical-align: middle;\n",
       "    }\n",
       "\n",
       "    .dataframe tbody tr th {\n",
       "        vertical-align: top;\n",
       "    }\n",
       "\n",
       "    .dataframe thead th {\n",
       "        text-align: right;\n",
       "    }\n",
       "</style>\n",
       "<table border=\"1\" class=\"dataframe\">\n",
       "  <thead>\n",
       "    <tr style=\"text-align: right;\">\n",
       "      <th></th>\n",
       "      <th>lon</th>\n",
       "      <th>lat</th>\n",
       "      <th>Max Temp</th>\n",
       "      <th>Humidity</th>\n",
       "      <th>Cloudiness</th>\n",
       "      <th>Wind Speed</th>\n",
       "      <th>Date</th>\n",
       "    </tr>\n",
       "  </thead>\n",
       "  <tbody>\n",
       "    <tr>\n",
       "      <th>count</th>\n",
       "      <td>567.000000</td>\n",
       "      <td>567.000000</td>\n",
       "      <td>567.000000</td>\n",
       "      <td>567.000000</td>\n",
       "      <td>567.000000</td>\n",
       "      <td>567.000000</td>\n",
       "      <td>5.670000e+02</td>\n",
       "    </tr>\n",
       "    <tr>\n",
       "      <th>mean</th>\n",
       "      <td>12.704703</td>\n",
       "      <td>21.948025</td>\n",
       "      <td>70.039365</td>\n",
       "      <td>73.359788</td>\n",
       "      <td>57.463845</td>\n",
       "      <td>7.696314</td>\n",
       "      <td>1.659587e+09</td>\n",
       "    </tr>\n",
       "    <tr>\n",
       "      <th>std</th>\n",
       "      <td>89.950993</td>\n",
       "      <td>32.485855</td>\n",
       "      <td>13.306777</td>\n",
       "      <td>18.764893</td>\n",
       "      <td>39.075288</td>\n",
       "      <td>5.474292</td>\n",
       "      <td>7.685796e+01</td>\n",
       "    </tr>\n",
       "    <tr>\n",
       "      <th>min</th>\n",
       "      <td>-175.200000</td>\n",
       "      <td>-54.800000</td>\n",
       "      <td>35.260000</td>\n",
       "      <td>1.000000</td>\n",
       "      <td>0.000000</td>\n",
       "      <td>0.000000</td>\n",
       "      <td>1.659587e+09</td>\n",
       "    </tr>\n",
       "    <tr>\n",
       "      <th>25%</th>\n",
       "      <td>-67.711950</td>\n",
       "      <td>-3.872700</td>\n",
       "      <td>60.795000</td>\n",
       "      <td>63.000000</td>\n",
       "      <td>20.000000</td>\n",
       "      <td>3.780000</td>\n",
       "      <td>1.659587e+09</td>\n",
       "    </tr>\n",
       "    <tr>\n",
       "      <th>50%</th>\n",
       "      <td>14.284500</td>\n",
       "      <td>26.166700</td>\n",
       "      <td>71.280000</td>\n",
       "      <td>77.000000</td>\n",
       "      <td>72.000000</td>\n",
       "      <td>6.420000</td>\n",
       "      <td>1.659587e+09</td>\n",
       "    </tr>\n",
       "    <tr>\n",
       "      <th>75%</th>\n",
       "      <td>92.134300</td>\n",
       "      <td>49.185400</td>\n",
       "      <td>79.645000</td>\n",
       "      <td>88.000000</td>\n",
       "      <td>99.000000</td>\n",
       "      <td>10.255000</td>\n",
       "      <td>1.659587e+09</td>\n",
       "    </tr>\n",
       "    <tr>\n",
       "      <th>max</th>\n",
       "      <td>179.316700</td>\n",
       "      <td>78.218600</td>\n",
       "      <td>105.710000</td>\n",
       "      <td>100.000000</td>\n",
       "      <td>100.000000</td>\n",
       "      <td>31.700000</td>\n",
       "      <td>1.659587e+09</td>\n",
       "    </tr>\n",
       "  </tbody>\n",
       "</table>\n",
       "</div>"
      ],
      "text/plain": [
       "              lon         lat    Max Temp    Humidity  Cloudiness  Wind Speed  \\\n",
       "count  567.000000  567.000000  567.000000  567.000000  567.000000  567.000000   \n",
       "mean    12.704703   21.948025   70.039365   73.359788   57.463845    7.696314   \n",
       "std     89.950993   32.485855   13.306777   18.764893   39.075288    5.474292   \n",
       "min   -175.200000  -54.800000   35.260000    1.000000    0.000000    0.000000   \n",
       "25%    -67.711950   -3.872700   60.795000   63.000000   20.000000    3.780000   \n",
       "50%     14.284500   26.166700   71.280000   77.000000   72.000000    6.420000   \n",
       "75%     92.134300   49.185400   79.645000   88.000000   99.000000   10.255000   \n",
       "max    179.316700   78.218600  105.710000  100.000000  100.000000   31.700000   \n",
       "\n",
       "               Date  \n",
       "count  5.670000e+02  \n",
       "mean   1.659587e+09  \n",
       "std    7.685796e+01  \n",
       "min    1.659587e+09  \n",
       "25%    1.659587e+09  \n",
       "50%    1.659587e+09  \n",
       "75%    1.659587e+09  \n",
       "max    1.659587e+09  "
      ]
     },
     "metadata": {},
     "output_type": "display_data"
    }
   ],
   "source": [
    "#In order to get summary of data using DESCRIBE FUNCTION, the values must be in Integer format\n",
    "print(\"*****What are the data types ?******\")\n",
    "display(weatherCheck_data.dtypes)\n",
    "\n",
    "#Convert necessary column to integer\n",
    "weatherCheck_data[['lon','lat','Max Temp','Humidity','Cloudiness','Wind Speed','Date']]=weatherCheck_data[['lon','lat','Max Temp','Humidity','Cloudiness','Wind Speed','Date']].apply(pd.to_numeric)\n",
    "\n",
    "    \n",
    "#Summarize the data\n",
    "display(weatherCheck_data.describe())\n"
   ]
  },
  {
   "cell_type": "markdown",
   "metadata": {},
   "source": [
    "## Inspect the data and remove the cities where the humidity > 100%.\n",
    "----\n",
    "Skip this step if there are no cities that have humidity > 100%. "
   ]
  },
  {
   "cell_type": "code",
   "execution_count": 462,
   "metadata": {},
   "outputs": [
    {
     "name": "stdout",
     "output_type": "stream",
     "text": [
      "After Inspection from the summary stats , humidity has not gone above 100% \n"
     ]
    }
   ],
   "source": [
    "print(\"After Inspection from the summary stats , humidity has not gone above 100% \")\n",
    "\n"
   ]
  },
  {
   "cell_type": "markdown",
   "metadata": {},
   "source": [
    "## Plotting the Data\n",
    "* Use proper labeling of the plots using plot titles (including date of analysis) and axes labels.\n",
    "* Save the plotted figures as .pngs."
   ]
  },
  {
   "cell_type": "markdown",
   "metadata": {},
   "source": [
    "## Latitude vs. Temperature Plot"
   ]
  },
  {
   "cell_type": "code",
   "execution_count": 463,
   "metadata": {},
   "outputs": [
    {
     "data": {
      "image/png": "[encoded data removed]",
      "text/plain": [
       "<Figure size 432x288 with 1 Axes>"
      ]
     },
     "metadata": {
      "needs_background": "light"
     },
     "output_type": "display_data"
    }
   ],
   "source": [
    "#format the max date in the dataset as \"runDate\" for graph titles\n",
    "date = weatherCheck_cleandata[\"Date\"].max()\n",
    "weatherDate = datetime.utcfromtimestamp(date).strftime('%Y-%m-%d')\n",
    "\n",
    "plt.title(f\"City Latitude vs Max Temperature ({weatherDate})\")\n",
    "plt.xlabel(\"Latitude\")\n",
    "plt.ylabel(\"Max Temperature(F)\")\n",
    "plt.grid()\n",
    "\n",
    "plt.scatter(weatherCheck_cleandata['lat'], weatherCheck_cleandata[\"Max Temp\"],c='cyan', edgecolors=\"black\")\n",
    "plt.savefig(\"Images/Latitude_vs_Temperature_Plot.png\")\n",
    "plt.show()"
   ]
  },
  {
   "cell_type": "code",
   "execution_count": 464,
   "metadata": {},
   "outputs": [],
   "source": [
    "### Insights on Latitude vs. Temperature Plot\n",
    "## This plot shows that temperature rises at equator(latitude = 0) and falls at either ends of axis with latitute -60 and -80.\n"
   ]
  },
  {
   "cell_type": "markdown",
   "metadata": {},
   "source": [
    "## Latitude vs. Humidity Plot"
   ]
  },
  {
   "cell_type": "code",
   "execution_count": 465,
   "metadata": {},
   "outputs": [
    {
     "data": {
      "image/png": "[encoded data removed]",
      "text/plain": [
       "<Figure size 432x288 with 1 Axes>"
      ]
     },
     "metadata": {
      "needs_background": "light"
     },
     "output_type": "display_data"
    }
   ],
   "source": [
    "plt.title(f\"City Latitude vs Humidity({weatherDate})\")\n",
    "plt.xlabel(\"Latitude\")\n",
    "plt.ylabel(\"Humidity(%)\")\n",
    "plt.grid()\n",
    "\n",
    "plt.scatter(weatherCheck_cleandata['lat'], weatherCheck_cleandata[\"Humidity\"],c='yellow', edgecolors=\"black\")\n",
    "plt.savefig(\"Images/Latitude_vs_Humidity_Plot.png\")\n",
    "plt.show()"
   ]
  },
  {
   "cell_type": "code",
   "execution_count": 466,
   "metadata": {},
   "outputs": [],
   "source": [
    "### Insights on Latitude vs. Humidity Plot\n",
    "## This plot shows that humidity is never at a lowest point at the equator (latitude 0).\n",
    "## It also reveals that all the cities at equator will have a atleast 75% humidity. "
   ]
  },
  {
   "cell_type": "markdown",
   "metadata": {},
   "source": [
    "## Latitude vs. Cloudiness Plot"
   ]
  },
  {
   "cell_type": "code",
   "execution_count": 467,
   "metadata": {},
   "outputs": [
    {
     "data": {
      "image/png": "[encoded data removed]",
      "text/plain": [
       "<Figure size 432x288 with 1 Axes>"
      ]
     },
     "metadata": {
      "needs_background": "light"
     },
     "output_type": "display_data"
    }
   ],
   "source": [
    "plt.title(f\"City Latitude vs Cloudiness({weatherDate})\")\n",
    "plt.xlabel(\"Latitude\")\n",
    "plt.ylabel(\"Cloudiness(%)\")\n",
    "plt.grid()\n",
    "\n",
    "plt.scatter(weatherCheck_cleandata['lat'], weatherCheck_cleandata[\"Cloudiness\"],c='magenta', edgecolors=\"black\")\n",
    "plt.savefig(\"Images/Latitude_vs_Cloudiness_Plot.png\")\n",
    "plt.show()"
   ]
  },
  {
   "cell_type": "code",
   "execution_count": 468,
   "metadata": {},
   "outputs": [],
   "source": [
    "### Insights on Latitude vs. Cloudiness Plot\n",
    "## This graph may not show any correlation but its interesting to observe the density of cities that 100% cloudy and 0% cloudy"
   ]
  },
  {
   "cell_type": "markdown",
   "metadata": {},
   "source": [
    "## Latitude vs. Wind Speed Plot"
   ]
  },
  {
   "cell_type": "code",
   "execution_count": 469,
   "metadata": {},
   "outputs": [
    {
     "data": {
      "image/png": "[encoded data removed]",
      "text/plain": [
       "<Figure size 432x288 with 1 Axes>"
      ]
     },
     "metadata": {
      "needs_background": "light"
     },
     "output_type": "display_data"
    }
   ],
   "source": [
    "plt.title(f\"Latitude vs. Wind Speed Plot({weatherDate})\")\n",
    "plt.xlabel(\"Latitude\")\n",
    "plt.ylabel(\"Wind Speed(mph)\")\n",
    "plt.grid()\n",
    "\n",
    "plt.scatter(weatherCheck_cleandata['lat'], weatherCheck_cleandata[\"Wind Speed\"],c='orange', edgecolors=\"black\")\n",
    "plt.savefig(\"Images/Latitude_vs_WindSpeed_Plot.png\")\n",
    "plt.show()"
   ]
  },
  {
   "cell_type": "code",
   "execution_count": 470,
   "metadata": {},
   "outputs": [],
   "source": [
    "### Insights on Latitude vs. Wind Speed Plot Plot\n",
    "## This plot doesn't show any major correlation"
   ]
  },
  {
   "cell_type": "markdown",
   "metadata": {},
   "source": [
    "## Linear Regression"
   ]
  },
  {
   "cell_type": "code",
   "execution_count": 471,
   "metadata": {},
   "outputs": [],
   "source": [
    "#Creating a function so it gets call everytime when it needs the execute same code multiple time\n",
    "\n",
    "def linearRegression(x,y,xy_1,xy_2):\n",
    "    (slope, intercept, rvalue, pvalue, stderr) = linregress(x,y)\n",
    "    regress_values = x * slope + intercept\n",
    "    line_equation = \"y = \" + str(round(slope,2)) + \"x + \" + str(round(intercept,2))\n",
    "    print(line_equation)\n",
    "    print(f'The r-square is: {rvalue}')\n",
    "    \n",
    "    plt.scatter(x,y,facecolors=\"violet\",edgecolors='red')\n",
    "    plt.plot(x,regress_values,\"r-\",color=\"purple\")\n",
    "    plt.annotate(line_equation,(xy_1,xy_2),fontsize=15,color=\"purple\")\n",
    "\n",
    "  "
   ]
  },
  {
   "cell_type": "markdown",
   "metadata": {},
   "source": [
    "####  Northern Hemisphere - Max Temp vs. Latitude Linear Regression"
   ]
  },
  {
   "cell_type": "code",
   "execution_count": 472,
   "metadata": {},
   "outputs": [
    {
     "name": "stdout",
     "output_type": "stream",
     "text": [
      "y = -0.42x + 88.02\n",
      "The r-square is: -0.6446161177461323\n"
     ]
    },
    {
     "data": {
      "image/png": "[encoded data removed]",
      "text/plain": [
       "<Figure size 432x288 with 1 Axes>"
      ]
     },
     "metadata": {
      "needs_background": "light"
     },
     "output_type": "display_data"
    }
   ],
   "source": [
    "#Data just for northern hemisphere, creating another dataframe\n",
    "northHemp_data = weatherCheck_cleandata.loc[weatherCheck_cleandata[\"lat\"] > 0]\n",
    "\n",
    "x = northHemp_data[\"lat\"]\n",
    "y = northHemp_data[\"Max Temp\"]\n",
    "xy_1=20\n",
    "xy_2=50\n",
    "\n",
    "#Can the defined function and pass the parameters\n",
    "plt.xlabel(\"Latitude\",fontsize=10)\n",
    "plt.ylabel(\"Max Temp\",fontsize=10)\n",
    "\n",
    "linearRegression(x,y,xy_1,xy_2)\n",
    "plt.savefig(f\"Images/Northern Hemisphere - Max Temp vs. Latitude Linear Regression ({weatherDate}).png\")\n",
    "plt.show()"
   ]
  },
  {
   "cell_type": "markdown",
   "metadata": {},
   "source": [
    "####  Southern Hemisphere - Max Temp vs. Latitude Linear Regression"
   ]
  },
  {
   "cell_type": "code",
   "execution_count": 473,
   "metadata": {},
   "outputs": [
    {
     "name": "stdout",
     "output_type": "stream",
     "text": [
      "y = 0.65x + 79.18\n",
      "The r-square is: 0.6954922987884485\n"
     ]
    },
    {
     "data": {
      "image/png": "[encoded data removed]",
      "text/plain": [
       "<Figure size 432x288 with 1 Axes>"
      ]
     },
     "metadata": {
      "needs_background": "light"
     },
     "output_type": "display_data"
    }
   ],
   "source": [
    "#Data just for sourthern hemisphere, creating another dataframe\n",
    "southHemp_data = weatherCheck_cleandata.loc[weatherCheck_cleandata[\"lat\"] < 0]\n",
    "\n",
    "x = southHemp_data[\"lat\"]\n",
    "y = southHemp_data[\"Max Temp\"]\n",
    "xy_1=-22\n",
    "xy_2=50\n",
    "\n",
    "#Can the defined function and pass the parameters\n",
    "plt.xlabel(\"Latitude\",fontsize=10)\n",
    "plt.ylabel(\"Max Temp\",fontsize=10)\n",
    "linearRegression(x,y,xy_1,xy_2)\n",
    "plt.savefig(f\"Images/Southern Hemisphere - Max Temp vs. Latitude Linear Regression ({weatherDate}).png\")\n",
    "plt.show()"
   ]
  },
  {
   "cell_type": "code",
   "execution_count": 474,
   "metadata": {},
   "outputs": [],
   "source": [
    "### Insights on Northwern and Southern Hemisphere - Max Temp vs. Latitude Linear Regression\n",
    "## This graph shows a  strong correlation. \n",
    "## In the northern hemisphere the temperature decreasses as we go away from equator(Latitute =0) and in southern it is opposite"
   ]
  },
  {
   "cell_type": "markdown",
   "metadata": {},
   "source": [
    "####  Northern Hemisphere - Humidity (%) vs. Latitude Linear Regression"
   ]
  },
  {
   "cell_type": "code",
   "execution_count": 475,
   "metadata": {},
   "outputs": [
    {
     "name": "stdout",
     "output_type": "stream",
     "text": [
      "y = -0.03x + 74.41\n",
      "The r-square is: -0.02770897086471752\n"
     ]
    },
    {
     "data": {
      "image/png": "[encoded data removed]",
      "text/plain": [
       "<Figure size 432x288 with 1 Axes>"
      ]
     },
     "metadata": {
      "needs_background": "light"
     },
     "output_type": "display_data"
    }
   ],
   "source": [
    "#Data just for northern hemisphere, creating another dataframe\n",
    "northHemp_data = weatherCheck_cleandata.loc[weatherCheck_cleandata[\"lat\"] > 0]\n",
    "\n",
    "x = northHemp_data[\"lat\"]\n",
    "y = northHemp_data[\"Humidity\"]\n",
    "xy_1=40\n",
    "xy_2=7\n",
    "\n",
    "#Can the defined function and pass the parameters\n",
    "plt.xlabel(\"Latitude\",fontsize=10)\n",
    "plt.ylabel(\"Humidity\",fontsize=10)\n",
    "linearRegression(x,y,xy_1,xy_2)\n",
    "plt.savefig(f\"Images/Northern Hemisphere - Humidity (%) vs. Latitude Linear Regression ({weatherDate}).png\")\n",
    "plt.show()"
   ]
  },
  {
   "cell_type": "markdown",
   "metadata": {},
   "source": [
    "####  Southern Hemisphere - Humidity (%) vs. Latitude Linear Regression"
   ]
  },
  {
   "cell_type": "code",
   "execution_count": 476,
   "metadata": {},
   "outputs": [
    {
     "name": "stdout",
     "output_type": "stream",
     "text": [
      "y = 0.05x + 74.2\n",
      "The r-square is: 0.03442400763945078\n"
     ]
    },
    {
     "data": {
      "image/png": "[encoded data removed]",
      "text/plain": [
       "<Figure size 432x288 with 1 Axes>"
      ]
     },
     "metadata": {
      "needs_background": "light"
     },
     "output_type": "display_data"
    }
   ],
   "source": [
    "#Data just for southern hemisphere, creating another dataframe\n",
    "southHemp_data = weatherCheck_cleandata.loc[weatherCheck_cleandata[\"lat\"] < 0]\n",
    "\n",
    "x = southHemp_data[\"lat\"]\n",
    "y = southHemp_data[\"Humidity\"]\n",
    "xy_1=-35\n",
    "xy_2=34\n",
    "\n",
    "#Can the defined function and pass the parameters\n",
    "plt.xlabel(\"Latitude\",fontsize=10)\n",
    "plt.ylabel(\"Humidity\",fontsize=10)\n",
    "linearRegression(x,y,xy_1,xy_2)\n",
    "plt.savefig(f\"Images/Southern Hemisphere - Humidity (%) vs. Latitude Linear Regression ({weatherDate}).png\")\n",
    "plt.show()"
   ]
  },
  {
   "cell_type": "code",
   "execution_count": 477,
   "metadata": {},
   "outputs": [],
   "source": [
    "### Insights on Northwern and Southern Hemisphere - Humidity (%) vs. Latitude Linear Regression\n",
    "## There is no correlation between Humidity and latitude"
   ]
  },
  {
   "cell_type": "markdown",
   "metadata": {},
   "source": [
    "####  Northern Hemisphere - Cloudiness (%) vs. Latitude Linear Regression"
   ]
  },
  {
   "cell_type": "code",
   "execution_count": 478,
   "metadata": {},
   "outputs": [
    {
     "name": "stdout",
     "output_type": "stream",
     "text": [
      "y = -0.05x + 63.19\n",
      "The r-square is: -0.024073015372637733\n"
     ]
    },
    {
     "data": {
      "image/png": "[encoded data removed]",
      "text/plain": [
       "<Figure size 432x288 with 1 Axes>"
      ]
     },
     "metadata": {
      "needs_background": "light"
     },
     "output_type": "display_data"
    }
   ],
   "source": [
    "#Data just for northern hemisphere, creating another dataframe\n",
    "northHemp_data = weatherCheck_cleandata.loc[weatherCheck_cleandata[\"lat\"] > 0]\n",
    "\n",
    "x = northHemp_data[\"lat\"]\n",
    "y = northHemp_data[\"Cloudiness\"]\n",
    "xy_1=40\n",
    "xy_2=45\n",
    "\n",
    "#Can the defined function and pass the parameters\n",
    "plt.xlabel(\"Latitude\",fontsize=10)\n",
    "plt.ylabel(\"Cloudiness\",fontsize=10)\n",
    "linearRegression(x,y,xy_1,xy_2)\n",
    "plt.savefig(f\"Images/Northern Hemisphere - Cloudiness (%) vs. Latitude Linear Regression ({weatherDate}).png\")\n",
    "plt.show()"
   ]
  },
  {
   "cell_type": "markdown",
   "metadata": {},
   "source": [
    "####  Southern Hemisphere - Cloudiness (%) vs. Latitude Linear Regression"
   ]
  },
  {
   "cell_type": "code",
   "execution_count": 479,
   "metadata": {},
   "outputs": [
    {
     "name": "stdout",
     "output_type": "stream",
     "text": [
      "y = 0.05x + 48.32\n",
      "The r-square is: 0.016511484211560186\n"
     ]
    },
    {
     "data": {
      "image/png": "[encoded data removed]",
      "text/plain": [
       "<Figure size 432x288 with 1 Axes>"
      ]
     },
     "metadata": {
      "needs_background": "light"
     },
     "output_type": "display_data"
    }
   ],
   "source": [
    "#Data just for southern hemisphere, creating another dataframe\n",
    "southHemp_data = weatherCheck_cleandata.loc[weatherCheck_cleandata[\"lat\"] < 0]\n",
    "\n",
    "x = southHemp_data[\"lat\"]\n",
    "y = southHemp_data[\"Cloudiness\"]\n",
    "xy_1=-25\n",
    "xy_2=60\n",
    "\n",
    "#Can the defined function and pass the parameters\n",
    "plt.xlabel(\"Latitude\",fontsize=10)\n",
    "plt.ylabel(\"Cloudiness\",fontsize=10)\n",
    "linearRegression(x,y,xy_1,xy_2)\n",
    "plt.savefig(f\"Images/Southern Hemisphere - Cloudiness (%) vs. Latitude Linear Regression ({weatherDate}).png\")\n",
    "plt.show()"
   ]
  },
  {
   "cell_type": "code",
   "execution_count": 480,
   "metadata": {},
   "outputs": [],
   "source": [
    "### Insights on Northwern and Southern Hemisphere -Cloudiness (%) vs. Latitude Linear Regression\n",
    "## There is no correlation between cloudiness and latitude"
   ]
  },
  {
   "cell_type": "markdown",
   "metadata": {},
   "source": [
    "####  Northern Hemisphere - Wind Speed (mph) vs. Latitude Linear Regression"
   ]
  },
  {
   "cell_type": "code",
   "execution_count": 481,
   "metadata": {},
   "outputs": [
    {
     "name": "stdout",
     "output_type": "stream",
     "text": [
      "y = 0.01x + 6.93\n",
      "The r-square is: 0.05053079857756574\n"
     ]
    },
    {
     "data": {
      "image/png": "[encoded data removed]",
      "text/plain": [
       "<Figure size 432x288 with 1 Axes>"
      ]
     },
     "metadata": {
      "needs_background": "light"
     },
     "output_type": "display_data"
    }
   ],
   "source": [
    "#Data just for northern hemisphere, creating another dataframe\n",
    "northHemp_data = weatherCheck_cleandata.loc[weatherCheck_cleandata[\"lat\"] > 0]\n",
    "\n",
    "x = northHemp_data[\"lat\"]\n",
    "y = northHemp_data[\"Wind Speed\"]\n",
    "xy_1=40\n",
    "xy_2=25\n",
    "\n",
    "#Can the defined function and pass the parameters\n",
    "plt.xlabel(\"Latitude\",fontsize=10)\n",
    "plt.ylabel(\"Wind Speed\",fontsize=10)\n",
    "linearRegression(x,y,xy_1,xy_2)\n",
    "plt.savefig(f\"Images/Northern Hemisphere - Wind Speed (mph) vs. Latitude Linear Regression ({weatherDate}).png\")\n",
    "plt.show()"
   ]
  },
  {
   "cell_type": "markdown",
   "metadata": {},
   "source": [
    "####  Southern Hemisphere - Wind Speed (mph) vs. Latitude Linear Regression"
   ]
  },
  {
   "cell_type": "code",
   "execution_count": 482,
   "metadata": {},
   "outputs": [
    {
     "name": "stdout",
     "output_type": "stream",
     "text": [
      "y = -0.08x + 6.61\n",
      "The r-square is: -0.19150529932888685\n"
     ]
    },
    {
     "data": {
      "image/png": "[encoded data removed]",
      "text/plain": [
       "<Figure size 432x288 with 1 Axes>"
      ]
     },
     "metadata": {
      "needs_background": "light"
     },
     "output_type": "display_data"
    }
   ],
   "source": [
    "#Data just for northern hemisphere, creating another dataframe\n",
    "southHemp_data = weatherCheck_cleandata.loc[weatherCheck_cleandata[\"lat\"] < 0]\n",
    "\n",
    "x = southHemp_data[\"lat\"]\n",
    "y = southHemp_data[\"Wind Speed\"]\n",
    "xy_1=-22\n",
    "xy_2=20\n",
    "\n",
    "#Can the defined function and pass the parameters\n",
    "plt.xlabel(\"Latitude\",fontsize=10)\n",
    "plt.ylabel(\"Wind Speed\",fontsize=10)\n",
    "linearRegression(x,y,xy_1,xy_2)\n",
    "plt.savefig(f\"Images/Southern Hemisphere - Wind Speed (mph) vs. Latitude Linear Regression ({weatherDate}).png\")\n",
    "plt.show()"
   ]
  },
  {
   "cell_type": "code",
   "execution_count": 433,
   "metadata": {},
   "outputs": [],
   "source": [
    "#### Insights on Northwern and Southern Hemisphere -Wind Speed (mph) vs. Latitude Linear Regression\n",
    "#### There is no correlation between Wind Speed and latitude."
   ]
  }
 ],
 "metadata": {
  "anaconda-cloud": {},
  "kernel_info": {
   "name": "python3"
  },
  "kernelspec": {
   "display_name": "PythonData",
   "language": "python",
   "name": "pythondata"
  },
  "language_info": {
   "codemirror_mode": {
    "name": "ipython",
    "version": 3
   },
   "file_extension": ".py",
   "mimetype": "text/x-python",
   "name": "python",
   "nbconvert_exporter": "python",
   "pygments_lexer": "ipython3",
   "version": "3.7.6"
  },
  "latex_envs": {
   "LaTeX_envs_menu_present": true,
   "autoclose": false,
   "autocomplete": true,
   "bibliofile": "biblio.bib",
   "cite_by": "apalike",
   "current_citInitial": 1,
   "eqLabelWithNumbers": true,
   "eqNumInitial": 1,
   "hotkeys": {
    "equation": "Ctrl-E",
    "itemize": "Ctrl-I"
   },
   "labels_anchors": false,
   "latex_user_defs": false,
   "report_style_numbering": false,
   "user_envs_cfg": false
  },
  "nteract": {
   "version": "0.12.3"
  }
 },
 "nbformat": 4,
 "nbformat_minor": 2
}
